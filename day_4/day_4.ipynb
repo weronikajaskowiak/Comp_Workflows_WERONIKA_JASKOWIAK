{
 "cells": [
  {
   "cell_type": "markdown",
   "metadata": {},
   "source": [
    "# A short introduction to containerized software\n",
    "\n",
    "After spending using nf-core pipelines to answer bioinformatic questions, we will focus on the processes that lie behind these pipelines now.\n",
    "\n",
    "Today, we will focus on containerization, namely via Docker. \n",
    "\n"
   ]
  },
  {
   "cell_type": "markdown",
   "metadata": {},
   "source": [
    "1. Check if Docker is installed."
   ]
  },
  {
   "cell_type": "code",
   "execution_count": 11,
   "metadata": {
    "ExecuteTime": {
     "end_time": "2024-10-04T14:22:25.389300Z",
     "start_time": "2024-10-04T14:22:22.031238Z"
    }
   },
   "outputs": [
    {
     "name": "stdout",
     "output_type": "stream",
     "text": [
      "Client:\r\n",
      " Version:    27.1.1\r\n",
      " Context:    desktop-linux\r\n",
      " Debug Mode: false\r\n",
      " Plugins:\r\n",
      "  buildx: Docker Buildx (Docker Inc.)\r\n",
      "    Version:  v0.16.1-desktop.1\r\n",
      "    Path:     /Users/weronikajaskowiak/.docker/cli-plugins/docker-buildx\r\n",
      "  compose: Docker Compose (Docker Inc.)\r\n",
      "    Version:  v2.29.1-desktop.1\r\n",
      "    Path:     /Users/weronikajaskowiak/.docker/cli-plugins/docker-compose\r\n",
      "  debug: Get a shell into any image or container (Docker Inc.)\r\n",
      "    Version:  0.0.34\r\n",
      "    Path:     /Users/weronikajaskowiak/.docker/cli-plugins/docker-debug\r\n",
      "  desktop: Docker Desktop commands (Alpha) (Docker Inc.)\r\n",
      "    Version:  v0.0.14\r\n",
      "    Path:     /Users/weronikajaskowiak/.docker/cli-plugins/docker-desktop\r\n",
      "  dev: Docker Dev Environments (Docker Inc.)\r\n",
      "    Version:  v0.1.2\r\n",
      "    Path:     /Users/weronikajaskowiak/.docker/cli-plugins/docker-dev\r\n",
      "  extension: Manages Docker extensions (Docker Inc.)\r\n",
      "    Version:  v0.2.25\r\n",
      "    Path:     /Users/weronikajaskowiak/.docker/cli-plugins/docker-extension\r\n",
      "  feedback: Provide feedback, right in your terminal! (Docker Inc.)\r\n",
      "    Version:  v1.0.5\r\n",
      "    Path:     /Users/weronikajaskowiak/.docker/cli-plugins/docker-feedback\r\n",
      "  init: Creates Docker-related starter files for your project (Docker Inc.)\r\n",
      "    Version:  v1.3.0\r\n",
      "    Path:     /Users/weronikajaskowiak/.docker/cli-plugins/docker-init\r\n",
      "  sbom: View the packaged-based Software Bill Of Materials (SBOM) for an image (Anchore Inc.)\r\n",
      "    Version:  0.6.0\r\n",
      "    Path:     /Users/weronikajaskowiak/.docker/cli-plugins/docker-sbom\r\n",
      "  scout: Docker Scout (Docker Inc.)\r\n",
      "    Version:  v1.11.0\r\n",
      "    Path:     /Users/weronikajaskowiak/.docker/cli-plugins/docker-scout\r\n",
      "\r\n",
      "Server:\r\n",
      " Containers: 19\r\n",
      "  Running: 0\r\n",
      "  Paused: 0\r\n",
      "  Stopped: 19\r\n",
      " Images: 18\r\n",
      " Server Version: 27.1.1\r\n",
      " Storage Driver: overlay2\r\n",
      "  Backing Filesystem: extfs\r\n",
      "  Supports d_type: true\r\n",
      "  Using metacopy: false\r\n",
      "  Native Overlay Diff: true\r\n",
      "  userxattr: false\r\n",
      " Logging Driver: json-file\r\n",
      " Cgroup Driver: cgroupfs\r\n",
      " Cgroup Version: 2\r\n",
      " Plugins:\r\n",
      "  Volume: local\r\n",
      "  Network: bridge host ipvlan macvlan null overlay\r\n",
      "  Log: awslogs fluentd gcplogs gelf journald json-file local splunk syslog\r\n",
      " Swarm: inactive\r\n",
      " Runtimes: io.containerd.runc.v2 runc\r\n",
      " Default Runtime: runc\r\n",
      " Init Binary: docker-init\r\n",
      " containerd version: 2bf793ef6dc9a18e00cb12efb64355c2c9d5eb41\r\n",
      " runc version: v1.1.13-0-g58aa920\r\n",
      " init version: de40ad0\r\n",
      " Security Options:\r\n",
      "  seccomp\r\n",
      "   Profile: unconfined\r\n",
      "  cgroupns\r\n",
      " Kernel Version: 6.10.0-linuxkit\r\n",
      " Operating System: Docker Desktop\r\n",
      " OSType: linux\r\n",
      " Architecture: x86_64\r\n",
      " CPUs: 4\r\n",
      " Total Memory: 3.823GiB\r\n",
      " Name: docker-desktop\r\n",
      " ID: e55b5585-3b8c-46ca-83bf-a77b2617dcc0\r\n",
      " Docker Root Dir: /var/lib/docker\r\n",
      " Debug Mode: false\r\n",
      " HTTP Proxy: http.docker.internal:3128\r\n",
      " HTTPS Proxy: http.docker.internal:3128\r\n",
      " No Proxy: hubproxy.docker.internal\r\n",
      " Labels:\r\n",
      "  com.docker.desktop.address=unix:///Users/weronikajaskowiak/Library/Containers/com.docker.docker/Data/docker-cli.sock\r\n",
      " Experimental: false\r\n",
      " Insecure Registries:\r\n",
      "  hubproxy.docker.internal:5555\r\n",
      "  127.0.0.0/8\r\n",
      " Live Restore Enabled: false\r\n",
      "\r\n",
      "WARNING: daemon is not using the default seccomp profile\r\n"
     ]
    }
   ],
   "source": [
    "!docker info"
   ]
  },
  {
   "cell_type": "markdown",
   "metadata": {},
   "source": [
    "### What is a container?\n",
    "\n",
    "A container is a standardized software unit that bundles code along with all its dependencies, ensuring that the application runs efficiently and consistently across different computing environments."
   ]
  },
  {
   "cell_type": "markdown",
   "metadata": {},
   "source": [
    "### Why do we use containers?\n",
    "Containers are a solution to the problem of how to get software to run reliably when moved from one computing environment to another. They are: self-contained, isolated, independent, portable and have small size (megabytes). "
   ]
  },
  {
   "cell_type": "markdown",
   "metadata": {},
   "source": [
    "### What is a docker image?\n",
    "A container image is a standardized bundle that contains all the necessary files, binaries, libraries, and configurations needed to run a container. "
   ]
  },
  {
   "cell_type": "markdown",
   "metadata": {},
   "source": [
    "### Let's run our first docker image:"
   ]
  },
  {
   "cell_type": "markdown",
   "metadata": {},
   "source": [
    "### Login to docker"
   ]
  },
  {
   "cell_type": "code",
   "execution_count": 12,
   "metadata": {
    "ExecuteTime": {
     "end_time": "2024-10-04T14:22:33.900318Z",
     "start_time": "2024-10-04T14:22:32.087591Z"
    }
   },
   "outputs": [
    {
     "name": "stdout",
     "output_type": "stream",
     "text": [
      "Authenticating with existing credentials...\r\n",
      "Login Succeeded\r\n"
     ]
    }
   ],
   "source": [
    "!docker login\n",
    "# This you need to do on the command line directly"
   ]
  },
  {
   "cell_type": "markdown",
   "metadata": {},
   "source": [
    "### Run your first docker container"
   ]
  },
  {
   "cell_type": "code",
   "execution_count": 13,
   "metadata": {
    "ExecuteTime": {
     "end_time": "2024-10-04T14:22:37.675971Z",
     "start_time": "2024-10-04T14:22:36.183135Z"
    }
   },
   "outputs": [
    {
     "name": "stdout",
     "output_type": "stream",
     "text": [
      "\r\n",
      "Hello from Docker!\r\n",
      "This message shows that your installation appears to be working correctly.\r\n",
      "\r\n",
      "To generate this message, Docker took the following steps:\r\n",
      " 1. The Docker client contacted the Docker daemon.\r\n",
      " 2. The Docker daemon pulled the \"hello-world\" image from the Docker Hub.\r\n",
      "    (amd64)\r\n",
      " 3. The Docker daemon created a new container from that image which runs the\r\n",
      "    executable that produces the output you are currently reading.\r\n",
      " 4. The Docker daemon streamed that output to the Docker client, which sent it\r\n",
      "    to your terminal.\r\n",
      "\r\n",
      "To try something more ambitious, you can run an Ubuntu container with:\r\n",
      " $ docker run -it ubuntu bash\r\n",
      "\r\n",
      "Share images, automate workflows, and more with a free Docker ID:\r\n",
      " https://hub.docker.com/\r\n",
      "\r\n",
      "For more examples and ideas, visit:\r\n",
      " https://docs.docker.com/get-started/\r\n",
      "\r\n"
     ]
    }
   ],
   "source": [
    "!docker run hello-world"
   ]
  },
  {
   "cell_type": "markdown",
   "metadata": {},
   "source": [
    "### Find the container ID"
   ]
  },
  {
   "cell_type": "markdown",
   "source": [
    "a9e3005d3e01530b4ad2bb2c810dd088a6cf1d2b1ad6667e763760b16e630323"
   ],
   "metadata": {
    "collapsed": false
   }
  },
  {
   "cell_type": "markdown",
   "metadata": {},
   "source": [
    "### Delete the container again, give prove its deleted"
   ]
  },
  {
   "cell_type": "code",
   "execution_count": 14,
   "outputs": [
    {
     "name": "stdout",
     "output_type": "stream",
     "text": [
      "a9e3005d3e01530b4ad2bb2c810dd088a6cf1d2b1ad6667e763760b16e630323\r\n"
     ]
    }
   ],
   "source": [
    "!docker rm a9e3005d3e01530b4ad2bb2c810dd088a6cf1d2b1ad6667e763760b16e630323"
   ],
   "metadata": {
    "collapsed": false,
    "ExecuteTime": {
     "end_time": "2024-10-04T14:23:21.089065Z",
     "start_time": "2024-10-04T14:23:20.063824Z"
    }
   }
  },
  {
   "cell_type": "code",
   "execution_count": 15,
   "outputs": [
    {
     "name": "stdout",
     "output_type": "stream",
     "text": [
      "CONTAINER ID   IMAGE                                                                        COMMAND                  CREATED       STATUS                    PORTS     NAMES\r\n",
      "15243ee38c74   my_cowsay                                                                    \"cowsay SLAAAY\"          4 hours ago   Exited (0) 4 hours ago              objective_proskuriakova\r\n",
      "3e4dfc95fbff   community.wave.seqera.io/library/fastqc:0.12.1--5cfd0f3cb6760c42             \"/usr/local/bin/_ent…\"   5 hours ago   Exited (0) 5 hours ago              cool_williamson\r\n",
      "f87af3ad5f12   community.wave.seqera.io/library/fastqc:0.12.1--5cfd0f3cb6760c42             \"/usr/local/bin/_ent…\"   5 hours ago   Exited (0) 5 hours ago              naughty_matsumoto\r\n",
      "db38f7c3c36e   community.wave.seqera.io/library/fastqc:0.12.1--5cfd0f3cb6760c42             \"/usr/local/bin/_ent…\"   5 hours ago   Exited (0) 5 hours ago              cranky_bhaskara\r\n",
      "d733acea2418   community.wave.seqera.io/library/fastqc:0.12.1--5cfd0f3cb6760c42             \"/usr/local/bin/_ent…\"   5 hours ago   Exited (2) 5 hours ago              zealous_davinci\r\n",
      "556fdeff6778   community.wave.seqera.io/library/fastqc:0.12.1--5cfd0f3cb6760c42             \"/usr/local/bin/_ent…\"   5 hours ago   Exited (2) 5 hours ago              cranky_spence\r\n",
      "e9373b07faaa   community.wave.seqera.io/library/fastqc:0.12.1--5cfd0f3cb6760c42             \"/usr/local/bin/_ent…\"   5 hours ago   Exited (2) 5 hours ago              eloquent_gould\r\n",
      "860d6875ba64   community.wave.seqera.io/library/fastqc:0.12.1--5cfd0f3cb6760c42             \"/usr/local/bin/_ent…\"   6 hours ago   Exited (2) 6 hours ago              youthful_borg\r\n",
      "673264dfc9e1   community.wave.seqera.io/library/fastqc:0.12.1--5cfd0f3cb6760c42             \"/usr/local/bin/_ent…\"   6 hours ago   Exited (2) 6 hours ago              tender_driscoll\r\n",
      "0f01ae2b49bd   community.wave.seqera.io/library/fastqc:0.12.1--5cfd0f3cb6760c42             \"/usr/local/bin/_ent…\"   6 hours ago   Exited (2) 6 hours ago              cool_beaver\r\n",
      "0bf09ca3fa2a   community.wave.seqera.io/library/fastqc:0.12.1--5cfd0f3cb6760c42             \"/usr/local/bin/_ent…\"   6 hours ago   Exited (2) 6 hours ago              elated_ritchie\r\n",
      "f64e58916ef7   quay.io/biocontainers/atlas-gene-annotation-manipulation:1.1.1--hdfd78af_0   \"/usr/local/env-exec…\"   2 days ago    Exited (137) 2 days ago             nxf-rVpiRLoRSWfZTZmyTqdhfzgk\r\n",
      "5026f452dd0c   quay.io/biocontainers/fastqc:0.12.1--hdfd78af_0                              \"/usr/local/env-exec…\"   3 days ago    Exited (137) 3 days ago             nxf-0S5LgtHGhSSXtOcH4PND1ZdQ\r\n",
      "f7b381b22b55   quay.io/biocontainers/wget:1.20.1                                            \"/bin/bash -c 'eval …\"   3 days ago    Exited (137) 3 days ago             nxf-8HltmlJCcMOxGS69UeIVXtVP\r\n",
      "1bd08dd25763   quay.io/biocontainers/wget:1.20.1                                            \"/bin/bash -c 'eval …\"   3 days ago    Exited (137) 3 days ago             nxf-FjAf4voOhd3WchxAh0zpLDCO\r\n",
      "e0fc2b6b486d   quay.io/biocontainers/python:3.9--1                                          \"/usr/local/env-exec…\"   3 days ago    Exited (0) 3 days ago               nxf-pBOR5GpGYf1uEOM5TCexii7p\r\n",
      "28479b39ec39   quay.io/biocontainers/atlas-gene-annotation-manipulation:1.1.1--hdfd78af_0   \"/usr/local/env-exec…\"   4 days ago    Exited (0) 4 days ago               nxf-GA91o9Nta3YNkr6ej0Qvaksb\r\n",
      "e3769bd23587   quay.io/biocontainers/r-shinyngs:1.8.8--r43hdfd78af_0                        \"/usr/local/env-exec…\"   4 days ago    Created                             nxf-MERXiFpt8ZZZq4PrbkBw6SXI\r\n",
      "a4560421501f   quay.io/biocontainers/bioconductor-deseq2:1.34.0--r41hc247a5b_3              \"/usr/local/env-exec…\"   4 days ago    Exited (137) 4 days ago             nxf-1fRgFIHYX0DM7VMlnT74G5r1\r\n"
     ]
    }
   ],
   "source": [
    "!docker ps -a\n",
    "#it's not listed in container ids "
   ],
   "metadata": {
    "collapsed": false,
    "ExecuteTime": {
     "end_time": "2024-10-04T14:23:22.249300Z",
     "start_time": "2024-10-04T14:23:21.958968Z"
    }
   }
  },
  {
   "cell_type": "markdown",
   "metadata": {},
   "source": [
    "### FASTQC is a very useful tool as you've learned last week. Let's try and run it from command line\n",
    "\n",
    "Link to the software: https://www.bioinformatics.babraham.ac.uk/projects/fastqc/"
   ]
  },
  {
   "cell_type": "markdown",
   "metadata": {},
   "source": [
    "Please describe the steps you took to download and run the software for the example fastq file from last week below:"
   ]
  },
  {
   "cell_type": "markdown",
   "metadata": {},
   "source": [
    "1) First, I installed FastQC in the Conda environment using the command: conda install bioconda::fastqc.\n",
    "2) I checked the installation by running: fastqc -help.\n",
    "3) To run the tool, I used the following command: fastqc SRX19144488_SRR23195511_1.fastq."
   ]
  },
  {
   "cell_type": "markdown",
   "metadata": {},
   "source": [
    "### Very well, now let's try to make use of its docker container\n",
    "\n",
    "1. create a container holding fastqc using seqera containers (https://seqera.io/containers/)\n",
    "2. use the container to generate a fastqc html of the example fastq file"
   ]
  },
  {
   "cell_type": "code",
   "execution_count": 16,
   "metadata": {
    "ExecuteTime": {
     "end_time": "2024-10-04T14:23:40.819452Z",
     "start_time": "2024-10-04T14:23:34.691227Z"
    }
   },
   "outputs": [
    {
     "name": "stdout",
     "output_type": "stream",
     "text": [
      "0.12.1--5cfd0f3cb6760c42: Pulling from library/fastqc\r\n",
      "Digest: sha256:0c524d3abe2642c09c5852299bd79bf78ba0ee2ef040473324caab0826f64d44\r\n",
      "Status: Image is up to date for community.wave.seqera.io/library/fastqc:0.12.1--5cfd0f3cb6760c42\r\n",
      "community.wave.seqera.io/library/fastqc:0.12.1--5cfd0f3cb6760c42\r\n",
      "\u001B[1m\r\n",
      "What's next:\u001B[0m\r\n",
      "    View a summary of image vulnerabilities and recommendations → \u001B[36mdocker scout quickview community.wave.seqera.io/library/fastqc:0.12.1--5cfd0f3cb6760c42\u001B[0m\r\n"
     ]
    }
   ],
   "source": [
    "!docker pull community.wave.seqera.io/library/fastqc:0.12.1--5cfd0f3cb6760c42"
   ]
  },
  {
   "cell_type": "code",
   "execution_count": 32,
   "outputs": [
    {
     "name": "stdout",
     "output_type": "stream",
     "text": [
      "application/gzip\r\n",
      "Started analysis of SRX19144488_SRR23195511_1.fastq.gz\r\n",
      "Approx 5% complete for SRX19144488_SRR23195511_1.fastq.gz\r\n",
      "Approx 10% complete for SRX19144488_SRR23195511_1.fastq.gz\r\n",
      "Approx 15% complete for SRX19144488_SRR23195511_1.fastq.gz\r\n",
      "Approx 20% complete for SRX19144488_SRR23195511_1.fastq.gz\r\n",
      "Approx 25% complete for SRX19144488_SRR23195511_1.fastq.gz\r\n",
      "Approx 30% complete for SRX19144488_SRR23195511_1.fastq.gz\r\n",
      "Approx 35% complete for SRX19144488_SRR23195511_1.fastq.gz\r\n",
      "Approx 40% complete for SRX19144488_SRR23195511_1.fastq.gz\r\n",
      "Approx 45% complete for SRX19144488_SRR23195511_1.fastq.gz\r\n",
      "Approx 50% complete for SRX19144488_SRR23195511_1.fastq.gz\r\n",
      "Approx 55% complete for SRX19144488_SRR23195511_1.fastq.gz\r\n",
      "Approx 60% complete for SRX19144488_SRR23195511_1.fastq.gz\r\n",
      "Approx 65% complete for SRX19144488_SRR23195511_1.fastq.gz\r\n",
      "Approx 70% complete for SRX19144488_SRR23195511_1.fastq.gz\r\n",
      "Approx 75% complete for SRX19144488_SRR23195511_1.fastq.gz\r\n",
      "Approx 80% complete for SRX19144488_SRR23195511_1.fastq.gz\r\n",
      "Approx 85% complete for SRX19144488_SRR23195511_1.fastq.gz\r\n",
      "Approx 90% complete for SRX19144488_SRR23195511_1.fastq.gz\r\n",
      "Approx 95% complete for SRX19144488_SRR23195511_1.fastq.gz\r\n",
      "Analysis complete for SRX19144488_SRR23195511_1.fastq.gz\r\n"
     ]
    }
   ],
   "source": [
    "!docker run -v /Users/weronikajaskowiak/Desktop/practical_course_2/day_2/files/fastq:/data -v /Users/weronikajaskowiak/Desktop/fastqc-results:/output community.wave.seqera.io/library/fastqc:0.12.1--5cfd0f3cb6760c42 fastqc /data/SRX19144488_SRR23195511_1.fastq.gz --outdir /output\n"
   ],
   "metadata": {
    "collapsed": false,
    "ExecuteTime": {
     "end_time": "2024-10-04T14:39:59.601576Z",
     "start_time": "2024-10-04T14:36:13.322948Z"
    }
   }
  },
  {
   "cell_type": "markdown",
   "metadata": {
    "ExecuteTime": {
     "end_time": "2024-10-04T08:43:50.849497Z",
     "start_time": "2024-10-04T08:43:49.108603Z"
    }
   },
   "source": [
    "### Now that you know how to use a docker container, which approach between running everything manually and using docker was easier and which approach will be easier in the future?\n",
    "Using a Docker container will probably be an easier approach in the future, as we can simply download the container and perform the analysis without needing to create an entire environment for it."
   ]
  },
  {
   "cell_type": "markdown",
   "metadata": {},
   "source": [
    "### What would you say, which approach is more reproducible?\n",
    "I would say that using a container is a more reproducible approach because of its stable releases and included software packages."
   ]
  },
  {
   "cell_type": "markdown",
   "metadata": {},
   "source": [
    "### Compare the file to last weeks fastqc results, are they identical?\n",
    "SNI_oxy_3_1.fastqc and SRX19144486_SRR23195516_1.fastq are identical. \n",
    "### Is the fastqc version identical?\n",
    " Yes, it's identical FastQC version 0.12.1."
   ]
  },
  {
   "cell_type": "markdown",
   "metadata": {},
   "source": [
    "## Dockerfiles\n",
    "\n",
    "We now used Docker containers and images directly to boost our research. \n",
    "\n",
    "Let's create our own toy Dockerfile including the \"cowsay\" tool (https://en.wikipedia.org/wiki/Cowsay)\n",
    "\n",
    "Hints:\n",
    "1. Docker is Linux, so you need to know the apt-get command to install \"cowsay\""
   ]
  },
  {
   "cell_type": "code",
   "execution_count": null,
   "metadata": {},
   "outputs": [],
   "source": [
    "# open the file \"my_dockerfile\" in a text editor"
   ]
  },
  {
   "cell_type": "markdown",
   "metadata": {},
   "source": [
    "### Explain the RUN and ENV lines you added to the file\n",
    "1) RUN \n",
    "apt-get update: updates the list of available packages and their versions,\n",
    "apt-get install -y curl cowsay: installs the curl and cowsay packages. The -y option automatically confirms prompts.\n",
    "apt-get clean: removes the local repository of retrieved package files. This helps reduce the image size.\n",
    "2) ENV \n",
    "The directory /usr/games is a standard directory in Unix-like operating systems where game binaries and related executable files are typically installed. By default, these games can be run from the command line without needing to specify their full paths. However, other directories could be used here as well :). "
   ]
  },
  {
   "cell_type": "markdown",
   "metadata": {},
   "source": []
  },
  {
   "cell_type": "code",
   "execution_count": 21,
   "outputs": [
    {
     "name": "stdout",
     "output_type": "stream",
     "text": [
      "\u001B[1A\u001B[1B\u001B[0G\u001B[?25l[+] Building 0.0s (0/0)  docker:desktop-linux\r\n",
      "\u001B[?25h\u001B[1A\u001B[0G\u001B[?25l[+] Building 0.0s (0/0)  docker:desktop-linux\r\n",
      "\u001B[?25h\u001B[1A\u001B[0G\u001B[?25l[+] Building 0.0s (0/0)  docker:desktop-linux\r\n",
      "\u001B[?25h\u001B[1A\u001B[0G\u001B[?25l[+] Building 0.0s (0/1)                                    docker:desktop-linux\r\n",
      "\u001B[?25h\u001B[1A\u001B[0G\u001B[?25l[+] Building 0.2s (1/2)                                    docker:desktop-linux\r\n",
      "\u001B[34m => [internal] load build definition from my_cowsay                        0.0s\r\n",
      "\u001B[0m\u001B[34m => => transferring dockerfile: 1.46kB                                     0.0s\r\n",
      "\u001B[0m => [internal] load metadata for docker.io/library/debian:bullseye-slim    0.2s\r\n",
      "\u001B[?25h\u001B[1A\u001B[1A\u001B[1A\u001B[1A\u001B[0G\u001B[?25l[+] Building 0.4s (1/2)                                    docker:desktop-linux\r\n",
      "\u001B[34m => [internal] load build definition from my_cowsay                        0.0s\r\n",
      "\u001B[0m\u001B[34m => => transferring dockerfile: 1.46kB                                     0.0s\r\n",
      "\u001B[0m => [internal] load metadata for docker.io/library/debian:bullseye-slim    0.3s\r\n",
      "\u001B[?25h\u001B[1A\u001B[1A\u001B[1A\u001B[1A\u001B[0G\u001B[?25l[+] Building 0.5s (1/2)                                    docker:desktop-linux\r\n",
      "\u001B[34m => [internal] load build definition from my_cowsay                        0.0s\r\n",
      "\u001B[0m\u001B[34m => => transferring dockerfile: 1.46kB                                     0.0s\r\n",
      "\u001B[0m => [internal] load metadata for docker.io/library/debian:bullseye-slim    0.4s\r\n",
      "\u001B[?25h\u001B[1A\u001B[1A\u001B[1A\u001B[1A\u001B[0G\u001B[?25l[+] Building 0.7s (1/2)                                    docker:desktop-linux\r\n",
      "\u001B[34m => [internal] load build definition from my_cowsay                        0.0s\r\n",
      "\u001B[0m\u001B[34m => => transferring dockerfile: 1.46kB                                     0.0s\r\n",
      "\u001B[0m => [internal] load metadata for docker.io/library/debian:bullseye-slim    0.6s\r\n",
      "\u001B[?25h\u001B[1A\u001B[1A\u001B[1A\u001B[1A\u001B[0G\u001B[?25l[+] Building 0.8s (1/2)                                    docker:desktop-linux\r\n",
      "\u001B[34m => [internal] load build definition from my_cowsay                        0.0s\r\n",
      "\u001B[0m\u001B[34m => => transferring dockerfile: 1.46kB                                     0.0s\r\n",
      "\u001B[0m => [internal] load metadata for docker.io/library/debian:bullseye-slim    0.7s\r\n",
      "\u001B[?25h\u001B[1A\u001B[1A\u001B[1A\u001B[1A\u001B[0G\u001B[?25l[+] Building 1.0s (1/2)                                    docker:desktop-linux\r\n",
      "\u001B[34m => [internal] load build definition from my_cowsay                        0.0s\r\n",
      "\u001B[0m\u001B[34m => => transferring dockerfile: 1.46kB                                     0.0s\r\n",
      "\u001B[0m => [internal] load metadata for docker.io/library/debian:bullseye-slim    0.9s\r\n",
      "\u001B[?25h\u001B[1A\u001B[1A\u001B[1A\u001B[1A\u001B[0G\u001B[?25l[+] Building 1.1s (1/2)                                    docker:desktop-linux\r\n",
      "\u001B[34m => [internal] load build definition from my_cowsay                        0.0s\r\n",
      "\u001B[0m\u001B[34m => => transferring dockerfile: 1.46kB                                     0.0s\r\n",
      "\u001B[0m => [internal] load metadata for docker.io/library/debian:bullseye-slim    1.0s\r\n",
      "\u001B[?25h\u001B[1A\u001B[1A\u001B[1A\u001B[1A\u001B[0G\u001B[?25l[+] Building 1.2s (1/3)                                    docker:desktop-linux\r\n",
      "\u001B[34m => [internal] load build definition from my_cowsay                        0.0s\r\n",
      "\u001B[0m\u001B[34m => => transferring dockerfile: 1.46kB                                     0.0s\r\n",
      "\u001B[0m => [internal] load metadata for docker.io/library/debian:bullseye-slim    1.1s\r\n",
      " => [auth] library/debian:pull token for registry-1.docker.io              0.0s\r\n",
      "\u001B[?25h\u001B[1A\u001B[1A\u001B[1A\u001B[1A\u001B[1A\u001B[0G\u001B[?25l[+] Building 1.3s (2/3)                                    docker:desktop-linux\r\n",
      "\u001B[34m => [internal] load build definition from my_cowsay                        0.0s\r\n",
      "\u001B[0m\u001B[34m => => transferring dockerfile: 1.46kB                                     0.0s\r\n",
      "\u001B[0m => [internal] load metadata for docker.io/library/debian:bullseye-slim    1.3s\r\n",
      "\u001B[34m => [auth] library/debian:pull token for registry-1.docker.io              0.0s\r\n",
      "\u001B[0m\u001B[?25h\u001B[1A\u001B[1A\u001B[1A\u001B[1A\u001B[1A\u001B[0G\u001B[?25l[+] Building 1.5s (2/3)                                    docker:desktop-linux\r\n",
      "\u001B[34m => [internal] load build definition from my_cowsay                        0.0s\r\n",
      "\u001B[0m\u001B[34m => => transferring dockerfile: 1.46kB                                     0.0s\r\n",
      "\u001B[0m => [internal] load metadata for docker.io/library/debian:bullseye-slim    1.4s\r\n",
      "\u001B[34m => [auth] library/debian:pull token for registry-1.docker.io              0.0s\r\n",
      "\u001B[0m\u001B[?25h\u001B[1A\u001B[1A\u001B[1A\u001B[1A\u001B[1A\u001B[0G\u001B[?25l[+] Building 1.6s (2/3)                                    docker:desktop-linux\r\n",
      "\u001B[34m => [internal] load build definition from my_cowsay                        0.0s\r\n",
      "\u001B[0m\u001B[34m => => transferring dockerfile: 1.46kB                                     0.0s\r\n",
      "\u001B[0m => [internal] load metadata for docker.io/library/debian:bullseye-slim    1.6s\r\n",
      "\u001B[34m => [auth] library/debian:pull token for registry-1.docker.io              0.0s\r\n",
      "\u001B[0m\u001B[?25h\u001B[1A\u001B[1A\u001B[1A\u001B[1A\u001B[1A\u001B[0G\u001B[?25l[+] Building 1.8s (2/3)                                    docker:desktop-linux\r\n",
      "\u001B[34m => [internal] load build definition from my_cowsay                        0.0s\r\n",
      "\u001B[0m\u001B[34m => => transferring dockerfile: 1.46kB                                     0.0s\r\n",
      "\u001B[0m => [internal] load metadata for docker.io/library/debian:bullseye-slim    1.7s\r\n",
      "\u001B[34m => [auth] library/debian:pull token for registry-1.docker.io              0.0s\r\n",
      "\u001B[0m\u001B[?25h\u001B[1A\u001B[1A\u001B[1A\u001B[1A\u001B[1A\u001B[0G\u001B[?25l[+] Building 1.8s (3/3)                                    docker:desktop-linux\r\n",
      "\u001B[34m => [internal] load build definition from my_cowsay                        0.0s\r\n",
      "\u001B[0m\u001B[34m => => transferring dockerfile: 1.46kB                                     0.0s\r\n",
      "\u001B[0m\u001B[34m => [internal] load metadata for docker.io/library/debian:bullseye-slim    1.7s\r\n",
      "\u001B[0m\u001B[34m => [auth] library/debian:pull token for registry-1.docker.io              0.0s\r\n",
      "\u001B[0m\u001B[?25h\u001B[1A\u001B[1A\u001B[1A\u001B[1A\u001B[1A\u001B[0G\u001B[?25l[+] Building 1.9s (7/7) FINISHED                           docker:desktop-linux\r\n",
      "\u001B[34m => [internal] load build definition from my_cowsay                        0.0s\r\n",
      "\u001B[0m\u001B[34m => => transferring dockerfile: 1.46kB                                     0.0s\r\n",
      "\u001B[0m\u001B[34m => [internal] load metadata for docker.io/library/debian:bullseye-slim    1.7s\r\n",
      "\u001B[0m\u001B[34m => [auth] library/debian:pull token for registry-1.docker.io              0.0s\r\n",
      "\u001B[0m\u001B[34m => [internal] load .dockerignore                                          0.0s\r\n",
      "\u001B[0m\u001B[34m => => transferring context: 2B                                            0.0s\r\n",
      "\u001B[0m\u001B[34m => [1/2] FROM docker.io/library/debian:bullseye-slim@sha256:3f9e53602537  0.0s\r\n",
      "\u001B[0m\u001B[34m => CACHED [2/2] RUN apt-get update &&     apt-get install -y curl cowsay  0.0s\r\n",
      "\u001B[0m\u001B[34m => exporting to image                                                     0.0s\r\n",
      "\u001B[0m\u001B[34m => => exporting layers                                                    0.0s\r\n",
      "\u001B[0m\u001B[34m => => writing image sha256:2d6f822a3be956737c707031239abe969003b59007983  0.0s\r\n",
      "\u001B[0m\u001B[34m => => naming to docker.io/library/my_cowsay                               0.0s\r\n",
      "\u001B[0m\u001B[?25h\r\n",
      "View build details: \u001B]8;;docker-desktop://dashboard/build/desktop-linux/desktop-linux/9wwsq4vdjyy2mdo5i3qa4hj2c\u001B\\docker-desktop://dashboard/build/desktop-linux/desktop-linux/9wwsq4vdjyy2mdo5i3qa4hj2c\u001B]8;;\u001B\\\r\n",
      "\r\n",
      " \u001B[33m2 warnings found (use docker --debug to expand):\r\n",
      "\u001B[0m - LegacyKeyValueFormat: \"LABEL key=value\" should be used instead of legacy \"LABEL key value\" format (line 5)\r\n",
      " - LegacyKeyValueFormat: \"LABEL key=value\" should be used instead of legacy \"LABEL key value\" format (line 6)\r\n",
      "\u001B[1m\r\n",
      "What's next:\u001B[0m\r\n",
      "    View a summary of image vulnerabilities and recommendations → \u001B[36mdocker scout quickview \u001B[0m\r\n"
     ]
    }
   ],
   "source": [
    "#I changed name of my_dockerfile to my_cowsay first \n",
    "!docker build -t my_cowsay -f my_cowsay ."
   ],
   "metadata": {
    "collapsed": false,
    "ExecuteTime": {
     "end_time": "2024-10-04T14:29:16.772742Z",
     "start_time": "2024-10-04T14:29:12.109106Z"
    }
   }
  },
  {
   "cell_type": "code",
   "execution_count": 22,
   "metadata": {
    "ExecuteTime": {
     "end_time": "2024-10-04T14:29:20.109262Z",
     "start_time": "2024-10-04T14:29:19.912852Z"
    }
   },
   "outputs": [
    {
     "name": "stdout",
     "output_type": "stream",
     "text": [
      "REPOSITORY                                                 TAG                        IMAGE ID       CREATED         SIZE\r\n",
      "salmon_docker                                              latest                     360762d63eaa   3 hours ago     594MB\r\n",
      "my_cowsay                                                  latest                     2d6f822a3be9   5 hours ago     151MB\r\n",
      "community.wave.seqera.io/library/salmon                    1.10.3--482593b6cd04c9b7   1274f935b72f   4 months ago    375MB\r\n",
      "community.wave.seqera.io/library/fastqc                    0.12.1--5cfd0f3cb6760c42   1df9a8700d59   4 months ago    908MB\r\n",
      "quay.io/biocontainers/r-shinyngs                           1.8.8--r43hdfd78af_0       3ae022b36dce   5 months ago    1.34GB\r\n",
      "quay.io/biocontainers/atlas-gene-annotation-manipulation   1.1.1--hdfd78af_0          db9ec43ce403   5 months ago    1.25GB\r\n",
      "combinelab/salmon                                          1.10.3                     3291c6f6c42d   6 months ago    101MB\r\n",
      "hello-world                                                latest                     d2c94e258dcb   17 months ago   13.3kB\r\n",
      "quay.io/nf-core/ubuntu                                     20.04                      88bd68917189   18 months ago   72.8MB\r\n",
      "quay.io/biocontainers/fastqc                               0.12.1--hdfd78af_0         dc85080d4574   19 months ago   614MB\r\n",
      "quay.io/biocontainers/pandas                               1.5.2                      f82af9c4f9b8   19 months ago   342MB\r\n",
      "quay.io/biocontainers/gsea                                 4.3.2--hdfd78af_0          6feabbb8b995   22 months ago   546MB\r\n",
      "quay.io/biocontainers/r-base                               4.2.1                      8932c551c68b   23 months ago   825MB\r\n",
      "quay.io/biocontainers/bioconductor-deseq2                  1.34.0--r41hc247a5b_3      375cfc132ace   24 months ago   1.14GB\r\n",
      "quay.io/biocontainers/p7zip                                16.02                      64926fee1967   2 years ago     32.5MB\r\n",
      "quay.io/biocontainers/python                               3.9--1                     34c2b9e3810c   3 years ago     191MB\r\n",
      "quay.io/biocontainers/gawk                                 5.1.0                      1f25a9f620a3   4 years ago     38.6MB\r\n",
      "quay.io/biocontainers/wget                                 1.20.1                     ec9602293ac3   5 years ago     86.3MB\r\n"
     ]
    }
   ],
   "source": [
    "# make sure that the image has been built\n",
    "!docker images"
   ]
  },
  {
   "cell_type": "code",
   "execution_count": 34,
   "metadata": {
    "ExecuteTime": {
     "end_time": "2024-10-04T15:50:02.964477Z",
     "start_time": "2024-10-04T15:50:01.336713Z"
    }
   },
   "outputs": [
    {
     "name": "stdout",
     "output_type": "stream",
     "text": [
      " _________\r\n",
      "< SLAAAAY >\r\n",
      " ---------\r\n",
      "        \\   ^__^\r\n",
      "         \\  (oo)\\_______\r\n",
      "            (__)\\       )\\/\\\r\n",
      "                ||----w |\r\n",
      "                ||     ||\r\n"
     ]
    }
   ],
   "source": [
    "# run the docker file \n",
    "!docker run my_cowsay cowsay \"SLAAAAY\""
   ]
  },
  {
   "cell_type": "markdown",
   "metadata": {
    "ExecuteTime": {
     "end_time": "2024-10-04T09:56:12.038872Z",
     "start_time": "2024-10-04T09:56:10.496878Z"
    }
   },
   "source": [
    "## Let's do some bioinformatics with the docker file and create a new docker file that holds the salmon tool used in rnaseq\n",
    "\n",
    "To do so, use \"curl\" in your new dockerfile to get salmon from https://github.com/COMBINE-lab/salmon/releases/download/v1.5.2/salmon-1.5.2_linux_x86_64.tar.gz"
   ]
  },
  {
   "cell_type": "code",
   "execution_count": 24,
   "metadata": {
    "ExecuteTime": {
     "end_time": "2024-10-04T14:29:35.349801Z",
     "start_time": "2024-10-04T14:29:31.717744Z"
    }
   },
   "outputs": [
    {
     "name": "stdout",
     "output_type": "stream",
     "text": [
      "\u001B[1A\u001B[1B\u001B[0G\u001B[?25l[+] Building 0.0s (0/0)  docker:desktop-linux\r\n",
      "\u001B[?25h\u001B[1A\u001B[0G\u001B[?25l[+] Building 0.0s (0/1)                                    docker:desktop-linux\r\n",
      "\u001B[?25h\u001B[1A\u001B[0G\u001B[?25l[+] Building 0.2s (1/2)                                    docker:desktop-linux\r\n",
      "\u001B[34m => [internal] load build definition from salmon_docker                    0.0s\r\n",
      "\u001B[0m\u001B[34m => => transferring dockerfile: 1.25kB                                     0.0s\r\n",
      "\u001B[0m => [internal] load metadata for docker.io/library/debian:bullseye-slim    0.2s\r\n",
      "\u001B[?25h\u001B[1A\u001B[1A\u001B[1A\u001B[1A\u001B[0G\u001B[?25l[+] Building 0.3s (1/2)                                    docker:desktop-linux\r\n",
      "\u001B[34m => [internal] load build definition from salmon_docker                    0.0s\r\n",
      "\u001B[0m\u001B[34m => => transferring dockerfile: 1.25kB                                     0.0s\r\n",
      "\u001B[0m => [internal] load metadata for docker.io/library/debian:bullseye-slim    0.3s\r\n",
      "\u001B[?25h\u001B[1A\u001B[1A\u001B[1A\u001B[1A\u001B[0G\u001B[?25l[+] Building 0.5s (1/2)                                    docker:desktop-linux\r\n",
      "\u001B[34m => [internal] load build definition from salmon_docker                    0.0s\r\n",
      "\u001B[0m\u001B[34m => => transferring dockerfile: 1.25kB                                     0.0s\r\n",
      "\u001B[0m => [internal] load metadata for docker.io/library/debian:bullseye-slim    0.4s\r\n",
      "\u001B[?25h\u001B[1A\u001B[1A\u001B[1A\u001B[1A\u001B[0G\u001B[?25l[+] Building 0.6s (1/2)                                    docker:desktop-linux\r\n",
      "\u001B[34m => [internal] load build definition from salmon_docker                    0.0s\r\n",
      "\u001B[0m\u001B[34m => => transferring dockerfile: 1.25kB                                     0.0s\r\n",
      "\u001B[0m => [internal] load metadata for docker.io/library/debian:bullseye-slim    0.6s\r\n",
      "\u001B[?25h\u001B[1A\u001B[1A\u001B[1A\u001B[1A\u001B[0G\u001B[?25l[+] Building 0.8s (1/2)                                    docker:desktop-linux\r\n",
      "\u001B[34m => [internal] load build definition from salmon_docker                    0.0s\r\n",
      "\u001B[0m\u001B[34m => => transferring dockerfile: 1.25kB                                     0.0s\r\n",
      "\u001B[0m => [internal] load metadata for docker.io/library/debian:bullseye-slim    0.8s\r\n",
      "\u001B[?25h\u001B[1A\u001B[1A\u001B[1A\u001B[1A\u001B[0G\u001B[?25l[+] Building 0.9s (1/2)                                    docker:desktop-linux\r\n",
      "\u001B[34m => [internal] load build definition from salmon_docker                    0.0s\r\n",
      "\u001B[0m\u001B[34m => => transferring dockerfile: 1.25kB                                     0.0s\r\n",
      "\u001B[0m => [internal] load metadata for docker.io/library/debian:bullseye-slim    0.9s\r\n",
      "\u001B[?25h\u001B[1A\u001B[1A\u001B[1A\u001B[1A\u001B[0G\u001B[?25l[+] Building 0.9s (2/2)                                    docker:desktop-linux\r\n",
      "\u001B[34m => [internal] load build definition from salmon_docker                    0.0s\r\n",
      "\u001B[0m\u001B[34m => => transferring dockerfile: 1.25kB                                     0.0s\r\n",
      "\u001B[0m\u001B[34m => [internal] load metadata for docker.io/library/debian:bullseye-slim    0.9s\r\n",
      "\u001B[0m\u001B[?25h\u001B[1A\u001B[1A\u001B[1A\u001B[1A\u001B[0G\u001B[?25l[+] Building 1.0s (7/7) FINISHED                           docker:desktop-linux\r\n",
      "\u001B[34m => [internal] load build definition from salmon_docker                    0.0s\r\n",
      "\u001B[0m\u001B[34m => => transferring dockerfile: 1.25kB                                     0.0s\r\n",
      "\u001B[0m\u001B[34m => [internal] load metadata for docker.io/library/debian:bullseye-slim    0.9s\r\n",
      "\u001B[0m\u001B[34m => [internal] load .dockerignore                                          0.0s\r\n",
      "\u001B[0m\u001B[34m => => transferring context: 2B                                            0.0s\r\n",
      "\u001B[0m\u001B[34m => [1/3] FROM docker.io/library/debian:bullseye-slim@sha256:3f9e53602537  0.0s\r\n",
      "\u001B[0m\u001B[34m => CACHED [2/3] RUN apt-get update && apt-get install -y curl build-esse  0.0s\r\n",
      "\u001B[0m\u001B[34m => CACHED [3/3] RUN curl -L https://github.com/COMBINE-lab/salmon/releas  0.0s\r\n",
      "\u001B[0m\u001B[34m => exporting to image                                                     0.0s\r\n",
      "\u001B[0m\u001B[34m => => exporting layers                                                    0.0s\r\n",
      "\u001B[0m\u001B[34m => => writing image sha256:360762d63eaa234afd9f36b5684c241c0485a328b131b  0.0s\r\n",
      "\u001B[0m\u001B[34m => => naming to docker.io/library/salmon_docker                           0.0s\r\n",
      "\u001B[0m\u001B[?25h\r\n",
      "View build details: \u001B]8;;docker-desktop://dashboard/build/desktop-linux/desktop-linux/reh42b9768efakl6kcr5p5o36\u001B\\docker-desktop://dashboard/build/desktop-linux/desktop-linux/reh42b9768efakl6kcr5p5o36\u001B]8;;\u001B\\\r\n",
      "\u001B[1m\r\n",
      "What's next:\u001B[0m\r\n",
      "    View a summary of image vulnerabilities and recommendations → \u001B[36mdocker scout quickview \u001B[0m\r\n"
     ]
    }
   ],
   "source": [
    "# use the file \"salmon_docker\" in this directory to build a new docker image\n",
    "!docker build -t salmon_docker -f salmon_docker . "
   ]
  },
  {
   "cell_type": "code",
   "execution_count": 25,
   "metadata": {
    "ExecuteTime": {
     "end_time": "2024-10-04T14:29:35.633341Z",
     "start_time": "2024-10-04T14:29:35.449150Z"
    }
   },
   "outputs": [
    {
     "name": "stdout",
     "output_type": "stream",
     "text": [
      "REPOSITORY                                                 TAG                        IMAGE ID       CREATED         SIZE\r\n",
      "salmon_docker                                              latest                     360762d63eaa   3 hours ago     594MB\r\n",
      "my_cowsay                                                  latest                     2d6f822a3be9   5 hours ago     151MB\r\n",
      "community.wave.seqera.io/library/salmon                    1.10.3--482593b6cd04c9b7   1274f935b72f   4 months ago    375MB\r\n",
      "community.wave.seqera.io/library/fastqc                    0.12.1--5cfd0f3cb6760c42   1df9a8700d59   4 months ago    908MB\r\n",
      "quay.io/biocontainers/r-shinyngs                           1.8.8--r43hdfd78af_0       3ae022b36dce   5 months ago    1.34GB\r\n",
      "quay.io/biocontainers/atlas-gene-annotation-manipulation   1.1.1--hdfd78af_0          db9ec43ce403   5 months ago    1.25GB\r\n",
      "combinelab/salmon                                          1.10.3                     3291c6f6c42d   6 months ago    101MB\r\n",
      "hello-world                                                latest                     d2c94e258dcb   17 months ago   13.3kB\r\n",
      "quay.io/nf-core/ubuntu                                     20.04                      88bd68917189   18 months ago   72.8MB\r\n",
      "quay.io/biocontainers/fastqc                               0.12.1--hdfd78af_0         dc85080d4574   19 months ago   614MB\r\n",
      "quay.io/biocontainers/pandas                               1.5.2                      f82af9c4f9b8   19 months ago   342MB\r\n",
      "quay.io/biocontainers/gsea                                 4.3.2--hdfd78af_0          6feabbb8b995   22 months ago   546MB\r\n",
      "quay.io/biocontainers/r-base                               4.2.1                      8932c551c68b   23 months ago   825MB\r\n",
      "quay.io/biocontainers/bioconductor-deseq2                  1.34.0--r41hc247a5b_3      375cfc132ace   24 months ago   1.14GB\r\n",
      "quay.io/biocontainers/p7zip                                16.02                      64926fee1967   2 years ago     32.5MB\r\n",
      "quay.io/biocontainers/python                               3.9--1                     34c2b9e3810c   3 years ago     191MB\r\n",
      "quay.io/biocontainers/gawk                                 5.1.0                      1f25a9f620a3   4 years ago     38.6MB\r\n",
      "quay.io/biocontainers/wget                                 1.20.1                     ec9602293ac3   5 years ago     86.3MB\r\n"
     ]
    }
   ],
   "source": [
    "!docker images "
   ]
  },
  {
   "cell_type": "code",
   "execution_count": 35,
   "metadata": {
    "ExecuteTime": {
     "end_time": "2024-10-04T15:50:09.655289Z",
     "start_time": "2024-10-04T15:50:08.509160Z"
    }
   },
   "outputs": [
    {
     "name": "stdout",
     "output_type": "stream",
     "text": [
      "salmon 1.5.2\r\n"
     ]
    }
   ],
   "source": [
    "# run the docker image to give out the version of salmon\n",
    "!docker run salmon_docker salmon --version"
   ]
  },
  {
   "cell_type": "markdown",
   "metadata": {
    "ExecuteTime": {
     "end_time": "2024-10-04T11:38:51.575838Z",
     "start_time": "2024-10-04T11:38:33.994283Z"
    }
   },
   "source": [
    "## Do you think bioinformaticians have to create a docker image every time they want to run a tool?\n",
    "\n",
    "Bioinformaticians can leverage existing images for commonly used tools, use containerization for reproducibility, and only create custom images when their workflows require unique configurations or dependencies. \n",
    "\n",
    "Find the salmon docker image online and run it on your computer.\n",
    "\n",
    "https://hub.docker.com/r/combinelab/salmon/tags \n"
   ]
  },
  {
   "cell_type": "code",
   "execution_count": 27,
   "outputs": [
    {
     "name": "stdout",
     "output_type": "stream",
     "text": [
      "1.10.3: Pulling from combinelab/salmon\r\n",
      "Digest: sha256:cefd8bb0b2ed9b07f22b5f0fc317ddda540e5b0dc00810d1ff0d92fee5d80370\r\n",
      "Status: Image is up to date for combinelab/salmon:1.10.3\r\n",
      "docker.io/combinelab/salmon:1.10.3\r\n",
      "\u001B[1m\r\n",
      "What's next:\u001B[0m\r\n",
      "    View a summary of image vulnerabilities and recommendations → \u001B[36mdocker scout quickview combinelab/salmon:1.10.3\u001B[0m\r\n"
     ]
    }
   ],
   "source": [
    "!docker pull combinelab/salmon:1.10.3"
   ],
   "metadata": {
    "collapsed": false,
    "ExecuteTime": {
     "end_time": "2024-10-04T14:29:50.159Z",
     "start_time": "2024-10-04T14:29:47.561054Z"
    }
   }
  },
  {
   "cell_type": "code",
   "execution_count": 36,
   "outputs": [
    {
     "name": "stdout",
     "output_type": "stream",
     "text": [
      "salmon 1.10.3\r\n"
     ]
    }
   ],
   "source": [
    "!docker run combinelab/salmon:1.10.3 salmon --version"
   ],
   "metadata": {
    "collapsed": false,
    "ExecuteTime": {
     "end_time": "2024-10-04T15:50:18.113866Z",
     "start_time": "2024-10-04T15:50:17.066710Z"
    }
   }
  },
  {
   "cell_type": "markdown",
   "source": [
    "This is the latest version. "
   ],
   "metadata": {
    "collapsed": false
   }
  },
  {
   "cell_type": "markdown",
   "source": [
    "What is https://biocontainers.pro/ ?\n",
    "\n",
    "BioContainers is a community-led initiative that offers the framework and essential guidelines for building, managing, and distributing bioinformatics packages (such as Conda) and containers (like Docker and Singularity). It leverages widely-used platforms including Conda, Docker, and Singularity."
   ],
   "metadata": {
    "collapsed": false
   }
  },
  {
   "cell_type": "code",
   "execution_count": null,
   "outputs": [],
   "source": [],
   "metadata": {
    "collapsed": false
   }
  }
 ],
 "metadata": {
  "kernelspec": {
   "display_name": "work",
   "language": "python",
   "name": "python3"
  },
  "language_info": {
   "codemirror_mode": {
    "name": "ipython",
    "version": 3
   },
   "file_extension": ".py",
   "mimetype": "text/x-python",
   "name": "python",
   "nbconvert_exporter": "python",
   "pygments_lexer": "ipython3",
   "version": "3.10.13"
  }
 },
 "nbformat": 4,
 "nbformat_minor": 2
}
