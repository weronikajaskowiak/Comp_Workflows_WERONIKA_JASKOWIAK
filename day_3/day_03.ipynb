{
 "cells": [
  {
   "cell_type": "markdown",
   "metadata": {},
   "source": [
    "# Differential expression analysis\n"
   ]
  },
  {
   "cell_type": "markdown",
   "metadata": {},
   "source": [
    "You have now successfully run the pipeline and checked the first quality control metrics of your fastq files. However, this is only primary analysis.\n",
    "\n",
    "We would now like to understand exactly the difference between our groups of mice. \n",
    "\n",
    "Which pipeline would you use for this?\n",
    "\n",
    "I would use nf-core/differentialabundance pipeline. \n"
   ]
  },
  {
   "cell_type": "markdown",
   "metadata": {},
   "source": [
    "Please paste here the command you used"
   ]
  },
  {
   "cell_type": "code",
   "execution_count": 1,
   "outputs": [
    {
     "name": "stdout",
     "output_type": "stream",
     "text": [
      "/Users/weronikajaskowiak/Desktop/practical_course_2/day_3_3\r\n"
     ]
    }
   ],
   "source": [
    "!pwd"
   ],
   "metadata": {
    "collapsed": false,
    "ExecuteTime": {
     "end_time": "2024-10-02T14:42:52.394678Z",
     "start_time": "2024-10-02T14:42:52.241796Z"
    }
   }
  },
  {
   "cell_type": "code",
   "execution_count": 1,
   "outputs": [],
   "source": [
    "import pandas as pd\n",
    "#samplesheet \n",
    "data_3 = {\n",
    "    'sample': ['Sham_oxy_1', 'Sham_oxy_2', 'Sham_oxy_3', 'Sham_oxy_4', \n",
    "               'Sham_Sal_1', 'Sham_Sal_2', 'Sham_Sal_3', 'Sham_Sal_4', \n",
    "               'SNI_oxy_1', 'SNI_oxy_2', 'SNI_oxy_3', 'SNI_oxy_4', \n",
    "               'SNI_Sal_1', 'SNI_Sal_2', 'SNI_Sal_3', 'SNI_Sal_4'],\n",
    "    'condition': ['Sham_oxy', 'Sham_oxy', 'Sham_oxy', 'Sham_oxy',\n",
    "                   'Sham_Sal', 'Sham_Sal', 'Sham_Sal', 'Sham_Sal',\n",
    "                   'SNI_oxy', 'SNI_oxy', 'SNI_oxy', 'SNI_oxy',\n",
    "                   'SNI_Sal', 'SNI_Sal', 'SNI_Sal', 'SNI_Sal'],\n",
    "    'replicate':['1','2','3','4',\n",
    "                 '1','2','3','4',\n",
    "                 '1','2','3','4',\n",
    "                 '1','2','3','4']\n",
    "}\n",
    "\n",
    "# Convert the data into a pandas DataFrame\n",
    "samplesheet_df_3 = pd.DataFrame(data_3)\n",
    "\n",
    "# Save the DataFrame to a CSV file\n",
    "samplesheet_df_3.to_csv('samplesheet.csv', index=False)"
   ],
   "metadata": {
    "collapsed": false,
    "ExecuteTime": {
     "end_time": "2024-10-11T17:52:07.150826Z",
     "start_time": "2024-10-11T17:52:05.800239Z"
    }
   }
  },
  {
   "cell_type": "code",
   "execution_count": 2,
   "outputs": [],
   "source": [
    "#contrasts.csv \n",
    "data_2 = {\n",
    "    'id': ['SNI_oxy_vs_Sham_Sal', 'Sham_oxy_vs_Sham_Sal', 'SNI_Sal_vs_Sham_Sal'],\n",
    "    'variable': ['condition', 'condition', 'condition' ],\n",
    "    'reference': ['SNI_oxy','Sham_oxy', 'SNI_Sal'],\n",
    "    'target':['Sham_Sal','Sham_Sal', 'Sham_Sal']\n",
    "}\n",
    "\n",
    "# Convert the data into a pandas DataFrame\n",
    "contrasts_df = pd.DataFrame(data_2)\n",
    "\n",
    "# Save the DataFrame to a CSV file\n",
    "contrasts_df.to_csv('contrasts.csv', index=False)"
   ],
   "metadata": {
    "collapsed": false,
    "ExecuteTime": {
     "end_time": "2024-10-11T17:54:48.369087Z",
     "start_time": "2024-10-11T17:54:48.323112Z"
    }
   }
  },
  {
   "cell_type": "code",
   "execution_count": 6,
   "metadata": {
    "vscode": {
     "languageId": "shellscript"
    },
    "ExecuteTime": {
     "end_time": "2024-10-02T11:56:00.768058Z",
     "start_time": "2024-10-02T11:44:08.553598Z"
    }
   },
   "outputs": [
    {
     "name": "stdout",
     "output_type": "stream",
     "text": [
      "\u001B[33mNextflow 24.04.4 is available - Please consider updating your version to it\u001B[m\r\n",
      "N E X T F L O W  ~  version 23.10.1\r\n",
      "Launching `https://github.com/nf-core/differentialabundance` [sick_jennings] DSL2 - revision: 3dd360fed0 [1.5.0]\r\n",
      "\u001B[33mWARN: Access to undefined parameter `monochromeLogs` -- Initialise it to a default value eg. `params.monochromeLogs = some_value`\u001B[39m\u001B[K\r\n",
      "\r\n",
      "\r\n",
      "-\u001B[2m----------------------------------------------------\u001B[0m-\r\n",
      "                                        \u001B[0;32m,--.\u001B[0;30m/\u001B[0;32m,-.\u001B[0m\r\n",
      "\u001B[0;34m        ___     __   __   __   ___     \u001B[0;32m/,-._.--~'\u001B[0m\r\n",
      "\u001B[0;34m  |\\ | |__  __ /  ` /  \\ |__) |__         \u001B[0;33m}  {\u001B[0m\r\n",
      "\u001B[0;34m  | \\| |       \\__, \\__/ |  \\ |___     \u001B[0;32m\\`-._,-`-,\u001B[0m\r\n",
      "                                        \u001B[0;32m`._,._,'\u001B[0m\r\n",
      "\u001B[0;35m  nf-core/differentialabundance v1.5.0-g3dd360f\u001B[0m\r\n",
      "-\u001B[2m----------------------------------------------------\u001B[0m-\r\n",
      "\u001B[1mCore Nextflow options\u001B[0m\r\n",
      "  \u001B[0;34mrevision                    : \u001B[0;32m1.5.0\u001B[0m\r\n",
      "  \u001B[0;34mrunName                     : \u001B[0;32msick_jennings\u001B[0m\r\n",
      "  \u001B[0;34mcontainerEngine             : \u001B[0;32mdocker\u001B[0m\r\n",
      "  \u001B[0;34mcontainer                   : \u001B[0;32m[RMARKDOWNNOTEBOOK:biocontainers/r-shinyngs:1.8.8--r43hdfd78af_0]\u001B[0m\r\n",
      "  \u001B[0;34mlaunchDir                   : \u001B[0;32m/Users/weronikajaskowiak/Desktop/practical_course_2/day_3_3\u001B[0m\r\n",
      "  \u001B[0;34mworkDir                     : \u001B[0;32m/Users/weronikajaskowiak/Desktop/practical_course_2/day_3_3/work\u001B[0m\r\n",
      "  \u001B[0;34mprojectDir                  : \u001B[0;32m/Users/weronikajaskowiak/.nextflow/assets/nf-core/differentialabundance\u001B[0m\r\n",
      "  \u001B[0;34muserName                    : \u001B[0;32mweronikajaskowiak\u001B[0m\r\n",
      "  \u001B[0;34mprofile                     : \u001B[0;32mdocker\u001B[0m\r\n",
      "  \u001B[0;34mconfigFiles                 : \u001B[0;32m\u001B[0m\r\n",
      "\r\n",
      "\u001B[1mInput/output options\u001B[0m\r\n",
      "  \u001B[0;34minput                       : \u001B[0;32msamplesheet.csv\u001B[0m\r\n",
      "  \u001B[0;34mcontrasts                   : \u001B[0;32mcontrasts.csv\u001B[0m\r\n",
      "  \u001B[0;34moutdir                      : \u001B[0;32mdifferential_analysis_2\u001B[0m\r\n",
      "\r\n",
      "\u001B[1mAbundance values\u001B[0m\r\n",
      "  \u001B[0;34mmatrix                      : \u001B[0;32msalmon.merged.gene_counts.tsv\u001B[0m\r\n",
      "  \u001B[0;34mtranscript_length_matrix    : \u001B[0;32msalmon.merged.gene_lengths.tsv\u001B[0m\r\n",
      "  \u001B[0;34maffy_cel_files_archive      : \u001B[0;32mnull\u001B[0m\r\n",
      "  \u001B[0;34mquerygse                    : \u001B[0;32mnull\u001B[0m\r\n",
      "\r\n",
      "\u001B[1mAffy input options\u001B[0m\r\n",
      "  \u001B[0;34maffy_cdfname                : \u001B[0;32mnull\u001B[0m\r\n",
      "\r\n",
      "\u001B[1mExploratory analysis\u001B[0m\r\n",
      "  \u001B[0;34mexploratory_log2_assays     : \u001B[0;32mraw,normalised\u001B[0m\r\n",
      "\r\n",
      "\u001B[1mLimma specific options (microarray only)\u001B[0m\r\n",
      "  \u001B[0;34mlimma_spacing               : \u001B[0;32mnull\u001B[0m\r\n",
      "  \u001B[0;34mlimma_block                 : \u001B[0;32mnull\u001B[0m\r\n",
      "  \u001B[0;34mlimma_correlation           : \u001B[0;32mnull\u001B[0m\r\n",
      "\r\n",
      "\u001B[1mgprofiler2\u001B[0m\r\n",
      "  \u001B[0;34mgprofiler2_correction_method: \u001B[0;32mgSCS\u001B[0m\r\n",
      "  \u001B[0;34mgprofiler2_background_file  : \u001B[0;32mauto\u001B[0m\r\n",
      "\r\n",
      "\u001B[1mShiny app settings\u001B[0m\r\n",
      "  \u001B[0;34mshinyngs_shinyapps_account  : \u001B[0;32mnull\u001B[0m\r\n",
      "  \u001B[0;34mshinyngs_shinyapps_app_name : \u001B[0;32mnull\u001B[0m\r\n",
      "\r\n",
      "\u001B[1mOptions related to gene set analysis\u001B[0m\r\n",
      "  \u001B[0;34mgene_sets_files             : \u001B[0;32mnull\u001B[0m\r\n",
      "\r\n",
      "\u001B[1mReporting options\u001B[0m\r\n",
      "  \u001B[0;34mreport_title                : \u001B[0;32mnull\u001B[0m\r\n",
      "  \u001B[0;34mreport_author               : \u001B[0;32mnull\u001B[0m\r\n",
      "  \u001B[0;34mreport_description          : \u001B[0;32mnull\u001B[0m\r\n",
      "\r\n",
      "\u001B[1mReference genome options\u001B[0m\r\n",
      "  \u001B[0;34mgenome                      : \u001B[0;32mGRCm38\u001B[0m\r\n",
      "  \u001B[0;34mgtf                         : \u001B[0;32ms3://ngi-igenomes/igenomes//Mus_musculus/Ensembl/GRCm38/Annotation/Genes/genes.gtf\u001B[0m\r\n",
      "\r\n",
      "\u001B[1mMax job request options\u001B[0m\r\n",
      "  \u001B[0;34mmax_memory                  : \u001B[0;32m8.GB\u001B[0m\r\n",
      "\r\n",
      "!! Only displaying parameters that differ from the pipeline defaults !!\r\n",
      "-\u001B[2m----------------------------------------------------\u001B[0m-\r\n",
      "If you use nf-core/differentialabundance for your analysis please cite:\r\n",
      "\r\n",
      "* The pipeline\r\n",
      "  https://doi.org/10.5281/zenodo.7568000\r\n",
      "\r\n",
      "* The nf-core framework\r\n",
      "  https://doi.org/10.1038/s41587-020-0439-x\r\n",
      "\r\n",
      "* Software dependencies\r\n",
      "  https://github.com/nf-core/differentialabundance/blob/master/CITATIONS.md\r\n",
      "-\u001B[2m----------------------------------------------------\u001B[0m-\r\n",
      "\u001B[33mWARN: Access to undefined parameter `gtf` -- Initialise it to a default value eg. `params.gtf = some_value`\u001B[39m\u001B[K\r\n",
      "[-        ] process > NFCORE_DIFFERENTIALABUNDANC... -\u001B[K\r\n",
      "[-        ] process > NFCORE_DIFFERENTIALABUNDANC... -\u001B[K\r\n",
      "[-        ] process > NFCORE_DIFFERENTIALABUNDANC... -\u001B[K\r\n",
      "[-        ] process > NFCORE_DIFFERENTIALABUNDANC... -\u001B[K\r\n",
      "[-        ] process > NFCORE_DIFFERENTIALABUNDANC... -\u001B[K\r\n",
      "[-        ] process > NFCORE_DIFFERENTIALABUNDANC... -\u001B[K\r\n",
      "[-        ] process > NFCORE_DIFFERENTIALABUNDANC... -\u001B[K\r\n",
      "\u001B[8A\r\n",
      "[-        ] process > NFCORE_DIFFERENTIALABUNDANC... -\u001B[K\r\n",
      "[-        ] process > NFCORE_DIFFERENTIALABUNDANC... -\u001B[K\r\n",
      "[-        ] process > NFCORE_DIFFERENTIALABUNDANC... -\u001B[K\r\n",
      "[-        ] process > NFCORE_DIFFERENTIALABUNDANC... -\u001B[K\r\n",
      "[-        ] process > NFCORE_DIFFERENTIALABUNDANC... -\u001B[K\r\n",
      "[-        ] process > NFCORE_DIFFERENTIALABUNDANC... -\u001B[K\r\n",
      "[-        ] process > NFCORE_DIFFERENTIALABUNDANC... -\u001B[K\r\n",
      "[-        ] process > NFCORE_DIFFERENTIALABUNDANC... -\u001B[K\r\n",
      "[-        ] process > NFCORE_DIFFERENTIALABUNDANC... -\u001B[K\r\n",
      "[-        ] process > NFCORE_DIFFERENTIALABUNDANC... -\u001B[K\r\n",
      "\u001B[11A\r\n",
      "[-        ] process > NFCORE_DIFFERENTIALABUNDANC... [  0%] 0 of 1\u001B[K\r\n",
      "[-        ] process > NFCORE_DIFFERENTIALABUNDANC... -\u001B[K\r\n",
      "[-        ] process > NFCORE_DIFFERENTIALABUNDANC... -\u001B[K\r\n",
      "[-        ] process > NFCORE_DIFFERENTIALABUNDANC... -\u001B[K\r\n",
      "[-        ] process > NFCORE_DIFFERENTIALABUNDANC... -\u001B[K\r\n",
      "[-        ] process > NFCORE_DIFFERENTIALABUNDANC... -\u001B[K\r\n",
      "[-        ] process > NFCORE_DIFFERENTIALABUNDANC... -\u001B[K\r\n",
      "[-        ] process > NFCORE_DIFFERENTIALABUNDANC... -\u001B[K\r\n",
      "[-        ] process > NFCORE_DIFFERENTIALABUNDANC... -\u001B[K\r\n",
      "[-        ] process > NFCORE_DIFFERENTIALABUNDANC... -\u001B[K\r\n",
      "\u001B[11A\r\n",
      "executor >  local (1)\u001B[K\r\n",
      "[7c/459d0e] process > NFCORE_DIFFERENTIALABUNDANC... [  0%] 0 of 1\u001B[K\r\n",
      "[-        ] process > NFCORE_DIFFERENTIALABUNDANC... -\u001B[K\r\n",
      "[-        ] process > NFCORE_DIFFERENTIALABUNDANC... -\u001B[K\r\n",
      "[-        ] process > NFCORE_DIFFERENTIALABUNDANC... -\u001B[K\r\n",
      "[-        ] process > NFCORE_DIFFERENTIALABUNDANC... -\u001B[K\r\n",
      "[-        ] process > NFCORE_DIFFERENTIALABUNDANC... -\u001B[K\r\n",
      "[-        ] process > NFCORE_DIFFERENTIALABUNDANC... -\u001B[K\r\n",
      "[-        ] process > NFCORE_DIFFERENTIALABUNDANC... -\u001B[K\r\n",
      "[-        ] process > NFCORE_DIFFERENTIALABUNDANC... -\u001B[K\r\n",
      "[-        ] process > NFCORE_DIFFERENTIALABUNDANC... -\u001B[K\r\n",
      "\u001B[12A\r\n",
      "executor >  local (1)\u001B[K\r\n",
      "[7c/459d0e] process > NFCORE_DIFFERENTIALABUNDANC... [100%] 1 of 1 ✔\u001B[K\r\n",
      "[-        ] process > NFCORE_DIFFERENTIALABUNDANC... -\u001B[K\r\n",
      "[-        ] process > NFCORE_DIFFERENTIALABUNDANC... -\u001B[K\r\n",
      "[-        ] process > NFCORE_DIFFERENTIALABUNDANC... -\u001B[K\r\n",
      "[-        ] process > NFCORE_DIFFERENTIALABUNDANC... -\u001B[K\r\n",
      "[-        ] process > NFCORE_DIFFERENTIALABUNDANC... -\u001B[K\r\n",
      "[-        ] process > NFCORE_DIFFERENTIALABUNDANC... -\u001B[K\r\n",
      "[-        ] process > NFCORE_DIFFERENTIALABUNDANC... -\u001B[K\r\n",
      "[-        ] process > NFCORE_DIFFERENTIALABUNDANC... -\u001B[K\r\n",
      "[-        ] process > NFCORE_DIFFERENTIALABUNDANC... -\u001B[K\r\n",
      "\u001B[12A\r\n",
      "executor >  local (2)\u001B[K\r\n",
      "[7c/459d0e] process > NFCORE_DIFFERENTIALABUNDANC... [100%] 1 of 1 ✔\u001B[K\r\n",
      "[bb/4b089b] process > NFCORE_DIFFERENTIALABUNDANC... [  0%] 0 of 1\u001B[K\r\n",
      "[-        ] process > NFCORE_DIFFERENTIALABUNDANC... -\u001B[K\r\n",
      "[-        ] process > NFCORE_DIFFERENTIALABUNDANC... -\u001B[K\r\n",
      "[-        ] process > NFCORE_DIFFERENTIALABUNDANC... -\u001B[K\r\n",
      "[-        ] process > NFCORE_DIFFERENTIALABUNDANC... -\u001B[K\r\n",
      "[-        ] process > NFCORE_DIFFERENTIALABUNDANC... -\u001B[K\r\n",
      "[-        ] process > NFCORE_DIFFERENTIALABUNDANC... -\u001B[K\r\n",
      "[-        ] process > NFCORE_DIFFERENTIALABUNDANC... -\u001B[K\r\n",
      "[-        ] process > NFCORE_DIFFERENTIALABUNDANC... -\u001B[K\r\n",
      "\u001B[12A\r\n",
      "executor >  local (2)\u001B[K\r\n",
      "[7c/459d0e] process > NFCORE_DIFFERENTIALABUNDANC... [100%] 1 of 1 ✔\u001B[K\r\n",
      "[bb/4b089b] process > NFCORE_DIFFERENTIALABUNDANC... [100%] 1 of 1 ✔\u001B[K\r\n",
      "[-        ] process > NFCORE_DIFFERENTIALABUNDANC... -\u001B[K\r\n",
      "[-        ] process > NFCORE_DIFFERENTIALABUNDANC... -\u001B[K\r\n",
      "[-        ] process > NFCORE_DIFFERENTIALABUNDANC... -\u001B[K\r\n",
      "[-        ] process > NFCORE_DIFFERENTIALABUNDANC... -\u001B[K\r\n",
      "[-        ] process > NFCORE_DIFFERENTIALABUNDANC... -\u001B[K\r\n",
      "[-        ] process > NFCORE_DIFFERENTIALABUNDANC... -\u001B[K\r\n",
      "[-        ] process > NFCORE_DIFFERENTIALABUNDANC... -\u001B[K\r\n",
      "[-        ] process > NFCORE_DIFFERENTIALABUNDANC... -\u001B[K\r\n",
      "\u001B[12A\r\n",
      "executor >  local (2)\u001B[K\r\n",
      "[7c/459d0e] process > NFCORE_DIFFERENTIALABUNDANC... [100%] 1 of 1 ✔\u001B[K\r\n",
      "[bb/4b089b] process > NFCORE_DIFFERENTIALABUNDANC... [100%] 1 of 1 ✔\u001B[K\r\n",
      "[-        ] process > NFCORE_DIFFERENTIALABUNDANC... -\u001B[K\r\n",
      "[-        ] process > NFCORE_DIFFERENTIALABUNDANC... [  0%] 0 of 2\u001B[K\r\n",
      "[-        ] process > NFCORE_DIFFERENTIALABUNDANC... -\u001B[K\r\n",
      "[-        ] process > NFCORE_DIFFERENTIALABUNDANC... -\u001B[K\r\n",
      "[-        ] process > NFCORE_DIFFERENTIALABUNDANC... -\u001B[K\r\n",
      "[-        ] process > NFCORE_DIFFERENTIALABUNDANC... -\u001B[K\r\n",
      "[-        ] process > NFCORE_DIFFERENTIALABUNDANC... -\u001B[K\r\n",
      "[-        ] process > NFCORE_DIFFERENTIALABUNDANC... -\u001B[K\r\n",
      "\u001B[12A\r\n",
      "executor >  local (3)\u001B[K\r\n",
      "[7c/459d0e] process > NFCORE_DIFFERENTIALABUNDANC... [100%] 1 of 1 ✔\u001B[K\r\n",
      "[bb/4b089b] process > NFCORE_DIFFERENTIALABUNDANC... [100%] 1 of 1 ✔\u001B[K\r\n",
      "[-        ] process > NFCORE_DIFFERENTIALABUNDANC... [  0%] 0 of 1\u001B[K\r\n",
      "[a0/84ff1d] process > NFCORE_DIFFERENTIALABUNDANC... [  0%] 0 of 3\u001B[K\r\n",
      "[-        ] process > NFCORE_DIFFERENTIALABUNDANC... -\u001B[K\r\n",
      "[-        ] process > NFCORE_DIFFERENTIALABUNDANC... -\u001B[K\r\n",
      "[-        ] process > NFCORE_DIFFERENTIALABUNDANC... -\u001B[K\r\n",
      "[-        ] process > NFCORE_DIFFERENTIALABUNDANC... -\u001B[K\r\n",
      "[-        ] process > NFCORE_DIFFERENTIALABUNDANC... -\u001B[K\r\n",
      "[-        ] process > NFCORE_DIFFERENTIALABUNDANC... -\u001B[K\r\n",
      "\u001B[12A\r\n",
      "executor >  local (4)\u001B[K\r\n",
      "[7c/459d0e] process > NFCORE_DIFFERENTIALABUNDANC... [100%] 1 of 1 ✔\u001B[K\r\n",
      "[bb/4b089b] process > NFCORE_DIFFERENTIALABUNDANC... [100%] 1 of 1 ✔\u001B[K\r\n",
      "[-        ] process > NFCORE_DIFFERENTIALABUNDANC... [  0%] 0 of 1\u001B[K\r\n",
      "[47/87d022] process > NFCORE_DIFFERENTIALABUNDANC... [  0%] 0 of 3\u001B[K\r\n",
      "[-        ] process > NFCORE_DIFFERENTIALABUNDANC... -\u001B[K\r\n",
      "[-        ] process > NFCORE_DIFFERENTIALABUNDANC... -\u001B[K\r\n",
      "[-        ] process > NFCORE_DIFFERENTIALABUNDANC... -\u001B[K\r\n",
      "[-        ] process > NFCORE_DIFFERENTIALABUNDANC... -\u001B[K\r\n",
      "[-        ] process > NFCORE_DIFFERENTIALABUNDANC... -\u001B[K\r\n",
      "[-        ] process > NFCORE_DIFFERENTIALABUNDANC... -\u001B[K\r\n",
      "\u001B[12A\r\n",
      "executor >  local (4)\u001B[K\r\n",
      "[7c/459d0e] process > NFCORE_DIFFERENTIALABUNDANC... [100%] 1 of 1 ✔\u001B[K\r\n",
      "[bb/4b089b] process > NFCORE_DIFFERENTIALABUNDANC... [100%] 1 of 1 ✔\u001B[K\r\n",
      "[-        ] process > NFCORE_DIFFERENTIALABUNDANC... [  0%] 0 of 1\u001B[K\r\n",
      "[a0/84ff1d] process > NFCORE_DIFFERENTIALABUNDANC... [ 33%] 1 of 3\u001B[K\r\n",
      "[-        ] process > NFCORE_DIFFERENTIALABUNDANC... [  0%] 0 of 1\u001B[K\r\n",
      "[-        ] process > NFCORE_DIFFERENTIALABUNDANC... -\u001B[K\r\n",
      "[-        ] process > NFCORE_DIFFERENTIALABUNDANC... -\u001B[K\r\n",
      "[-        ] process > NFCORE_DIFFERENTIALABUNDANC... -\u001B[K\r\n",
      "[-        ] process > NFCORE_DIFFERENTIALABUNDANC... -\u001B[K\r\n",
      "[-        ] process > NFCORE_DIFFERENTIALABUNDANC... -\u001B[K\r\n",
      "\u001B[12A\r\n",
      "executor >  local (4)\u001B[K\r\n",
      "[7c/459d0e] process > NFCORE_DIFFERENTIALABUNDANC... [100%] 1 of 1 ✔\u001B[K\r\n",
      "[bb/4b089b] process > NFCORE_DIFFERENTIALABUNDANC... [100%] 1 of 1 ✔\u001B[K\r\n",
      "[-        ] process > NFCORE_DIFFERENTIALABUNDANC... [  0%] 0 of 1\u001B[K\r\n",
      "[a0/84ff1d] process > NFCORE_DIFFERENTIALABUNDANC... [ 33%] 1 of 3\u001B[K\r\n",
      "[-        ] process > NFCORE_DIFFERENTIALABUNDANC... [  0%] 0 of 1\u001B[K\r\n",
      "[-        ] process > NFCORE_DIFFERENTIALABUNDANC... -\u001B[K\r\n",
      "[-        ] process > NFCORE_DIFFERENTIALABUNDANC... -\u001B[K\r\n",
      "[-        ] process > NFCORE_DIFFERENTIALABUNDANC... -\u001B[K\r\n",
      "[-        ] process > NFCORE_DIFFERENTIALABUNDANC... -\u001B[K\r\n",
      "[-        ] process > NFCORE_DIFFERENTIALABUNDANC... -\u001B[K\r\n",
      "\u001B[12A\r\n",
      "executor >  local (5)\u001B[K\r\n",
      "[7c/459d0e] process > NFCORE_DIFFERENTIALABUNDANC... [100%] 1 of 1 ✔\u001B[K\r\n",
      "[bb/4b089b] process > NFCORE_DIFFERENTIALABUNDANC... [100%] 1 of 1 ✔\u001B[K\r\n",
      "[-        ] process > NFCORE_DIFFERENTIALABUNDANC... [  0%] 0 of 1\u001B[K\r\n",
      "[8d/eacd64] process > NFCORE_DIFFERENTIALABUNDANC... [ 33%] 1 of 3\u001B[K\r\n",
      "[-        ] process > NFCORE_DIFFERENTIALABUNDANC... [  0%] 0 of 1\u001B[K\r\n",
      "[-        ] process > NFCORE_DIFFERENTIALABUNDANC... -\u001B[K\r\n",
      "[-        ] process > NFCORE_DIFFERENTIALABUNDANC... -\u001B[K\r\n",
      "[-        ] process > NFCORE_DIFFERENTIALABUNDANC... -\u001B[K\r\n",
      "[-        ] process > NFCORE_DIFFERENTIALABUNDANC... -\u001B[K\r\n",
      "[-        ] process > NFCORE_DIFFERENTIALABUNDANC... -\u001B[K\r\n",
      "\u001B[12A\r\n",
      "executor >  local (5)\u001B[K\r\n",
      "[7c/459d0e] process > NFCORE_DIFFERENTIALABUNDANC... [100%] 1 of 1 ✔\u001B[K\r\n",
      "[bb/4b089b] process > NFCORE_DIFFERENTIALABUNDANC... [100%] 1 of 1 ✔\u001B[K\r\n",
      "[-        ] process > NFCORE_DIFFERENTIALABUNDANC... [  0%] 0 of 1\u001B[K\r\n",
      "[47/87d022] process > NFCORE_DIFFERENTIALABUNDANC... [ 66%] 2 of 3\u001B[K\r\n",
      "[-        ] process > NFCORE_DIFFERENTIALABUNDANC... [  0%] 0 of 2\u001B[K\r\n",
      "[-        ] process > NFCORE_DIFFERENTIALABUNDANC... -\u001B[K\r\n",
      "[-        ] process > NFCORE_DIFFERENTIALABUNDANC... -\u001B[K\r\n",
      "[-        ] process > NFCORE_DIFFERENTIALABUNDANC... -\u001B[K\r\n",
      "[-        ] process > NFCORE_DIFFERENTIALABUNDANC... -\u001B[K\r\n",
      "[-        ] process > NFCORE_DIFFERENTIALABUNDANC... -\u001B[K\r\n",
      "\u001B[12A\r\n",
      "executor >  local (5)\u001B[K\r\n",
      "[7c/459d0e] process > NFCORE_DIFFERENTIALABUNDANC... [100%] 1 of 1 ✔\u001B[K\r\n",
      "[bb/4b089b] process > NFCORE_DIFFERENTIALABUNDANC... [100%] 1 of 1 ✔\u001B[K\r\n",
      "[-        ] process > NFCORE_DIFFERENTIALABUNDANC... [  0%] 0 of 1\u001B[K\r\n",
      "[47/87d022] process > NFCORE_DIFFERENTIALABUNDANC... [ 66%] 2 of 3\u001B[K\r\n",
      "[-        ] process > NFCORE_DIFFERENTIALABUNDANC... [  0%] 0 of 2\u001B[K\r\n",
      "[-        ] process > NFCORE_DIFFERENTIALABUNDANC... -\u001B[K\r\n",
      "[-        ] process > NFCORE_DIFFERENTIALABUNDANC... -\u001B[K\r\n",
      "[-        ] process > NFCORE_DIFFERENTIALABUNDANC... -\u001B[K\r\n",
      "[-        ] process > NFCORE_DIFFERENTIALABUNDANC... -\u001B[K\r\n",
      "[-        ] process > NFCORE_DIFFERENTIALABUNDANC... -\u001B[K\r\n",
      "\u001B[12A\r\n",
      "executor >  local (6)\u001B[K\r\n",
      "[7c/459d0e] process > NFCORE_DIFFERENTIALABUNDANC... [100%] 1 of 1 ✔\u001B[K\r\n",
      "[bb/4b089b] process > NFCORE_DIFFERENTIALABUNDANC... [100%] 1 of 1 ✔\u001B[K\r\n",
      "[4b/8c1d3a] process > NFCORE_DIFFERENTIALABUNDANC... [  0%] 0 of 1\u001B[K\r\n",
      "[47/87d022] process > NFCORE_DIFFERENTIALABUNDANC... [ 66%] 2 of 3 ✔\u001B[K\r\n",
      "[-        ] process > NFCORE_DIFFERENTIALABUNDANC... [  0%] 0 of 2\u001B[K\r\n",
      "[-        ] process > NFCORE_DIFFERENTIALABUNDANC... -\u001B[K\r\n",
      "[-        ] process > NFCORE_DIFFERENTIALABUNDANC... -\u001B[K\r\n",
      "[-        ] process > NFCORE_DIFFERENTIALABUNDANC... -\u001B[K\r\n",
      "[-        ] process > NFCORE_DIFFERENTIALABUNDANC... -\u001B[K\r\n",
      "[-        ] process > NFCORE_DIFFERENTIALABUNDANC... -\u001B[K\r\n",
      "\u001B[12A\r\n",
      "executor >  local (6)\u001B[K\r\n",
      "[7c/459d0e] process > NFCORE_DIFFERENTIALABUNDANC... [100%] 1 of 1 ✔\u001B[K\r\n",
      "[bb/4b089b] process > NFCORE_DIFFERENTIALABUNDANC... [100%] 1 of 1 ✔\u001B[K\r\n",
      "[4b/8c1d3a] process > NFCORE_DIFFERENTIALABUNDANC... [  0%] 0 of 1\u001B[K\r\n",
      "[8d/eacd64] process > NFCORE_DIFFERENTIALABUNDANC... [100%] 3 of 3 ✔\u001B[K\r\n",
      "[-        ] process > NFCORE_DIFFERENTIALABUNDANC... [  0%] 0 of 3\u001B[K\r\n",
      "[-        ] process > NFCORE_DIFFERENTIALABUNDANC... -\u001B[K\r\n",
      "[-        ] process > NFCORE_DIFFERENTIALABUNDANC... -\u001B[K\r\n",
      "[-        ] process > NFCORE_DIFFERENTIALABUNDANC... -\u001B[K\r\n",
      "[-        ] process > NFCORE_DIFFERENTIALABUNDANC... -\u001B[K\r\n",
      "[-        ] process > NFCORE_DIFFERENTIALABUNDANC... -\u001B[K\r\n",
      "\u001B[12A\r\n",
      "executor >  local (7)\u001B[K\r\n",
      "[7c/459d0e] process > NFCORE_DIFFERENTIALABUNDANC... [100%] 1 of 1 ✔\u001B[K\r\n",
      "[bb/4b089b] process > NFCORE_DIFFERENTIALABUNDANC... [100%] 1 of 1 ✔\u001B[K\r\n",
      "[4b/8c1d3a] process > NFCORE_DIFFERENTIALABUNDANC... [100%] 1 of 1 ✔\u001B[K\r\n",
      "[8d/eacd64] process > NFCORE_DIFFERENTIALABUNDANC... [100%] 3 of 3 ✔\u001B[K\r\n",
      "[37/ee93ed] process > NFCORE_DIFFERENTIALABUNDANC... [  0%] 0 of 3\u001B[K\r\n",
      "[-        ] process > NFCORE_DIFFERENTIALABUNDANC... [  0%] 0 of 1\u001B[K\r\n",
      "[-        ] process > NFCORE_DIFFERENTIALABUNDANC... [  0%] 0 of 3\u001B[K\r\n",
      "[-        ] process > NFCORE_DIFFERENTIALABUNDANC... [  0%] 0 of 1\u001B[K\r\n",
      "[-        ] process > NFCORE_DIFFERENTIALABUNDANC... -\u001B[K\r\n",
      "[-        ] process > NFCORE_DIFFERENTIALABUNDANC... -\u001B[K\r\n",
      "\u001B[12A\r\n",
      "executor >  local (8)\u001B[K\r\n",
      "[7c/459d0e] process > NFCORE_DIFFERENTIALABUNDANC... [100%] 1 of 1 ✔\u001B[K\r\n",
      "[bb/4b089b] process > NFCORE_DIFFERENTIALABUNDANC... [100%] 1 of 1 ✔\u001B[K\r\n",
      "[4b/8c1d3a] process > NFCORE_DIFFERENTIALABUNDANC... [100%] 1 of 1 ✔\u001B[K\r\n",
      "[8d/eacd64] process > NFCORE_DIFFERENTIALABUNDANC... [100%] 3 of 3 ✔\u001B[K\r\n",
      "[3f/207b06] process > NFCORE_DIFFERENTIALABUNDANC... [ 33%] 1 of 3\u001B[K\r\n",
      "[-        ] process > NFCORE_DIFFERENTIALABUNDANC... [  0%] 0 of 1\u001B[K\r\n",
      "[-        ] process > NFCORE_DIFFERENTIALABUNDANC... [  0%] 0 of 3\u001B[K\r\n",
      "[-        ] process > NFCORE_DIFFERENTIALABUNDANC... [  0%] 0 of 1\u001B[K\r\n",
      "[-        ] process > NFCORE_DIFFERENTIALABUNDANC... -\u001B[K\r\n",
      "[-        ] process > NFCORE_DIFFERENTIALABUNDANC... -\u001B[K\r\n",
      "\u001B[12A\r\n",
      "executor >  local (8)\u001B[K\r\n",
      "[7c/459d0e] process > NFCORE_DIFFERENTIALABUNDANC... [100%] 1 of 1 ✔\u001B[K\r\n",
      "[bb/4b089b] process > NFCORE_DIFFERENTIALABUNDANC... [100%] 1 of 1 ✔\u001B[K\r\n",
      "[4b/8c1d3a] process > NFCORE_DIFFERENTIALABUNDANC... [100%] 1 of 1 ✔\u001B[K\r\n",
      "[8d/eacd64] process > NFCORE_DIFFERENTIALABUNDANC... [100%] 3 of 3 ✔\u001B[K\r\n",
      "[3f/207b06] process > NFCORE_DIFFERENTIALABUNDANC... [ 33%] 1 of 3\u001B[K\r\n",
      "[-        ] process > NFCORE_DIFFERENTIALABUNDANC... [  0%] 0 of 1\u001B[K\r\n",
      "[-        ] process > NFCORE_DIFFERENTIALABUNDANC... [  0%] 0 of 3\u001B[K\r\n",
      "[-        ] process > NFCORE_DIFFERENTIALABUNDANC... [  0%] 0 of 1\u001B[K\r\n",
      "[-        ] process > NFCORE_DIFFERENTIALABUNDANC... -\u001B[K\r\n",
      "[-        ] process > NFCORE_DIFFERENTIALABUNDANC... -\u001B[K\r\n",
      "\u001B[12A\r\n",
      "executor >  local (8)\u001B[K\r\n",
      "[7c/459d0e] process > NFCORE_DIFFERENTIALABUNDANC... [100%] 1 of 1 ✔\u001B[K\r\n",
      "[bb/4b089b] process > NFCORE_DIFFERENTIALABUNDANC... [100%] 1 of 1 ✔\u001B[K\r\n",
      "[4b/8c1d3a] process > NFCORE_DIFFERENTIALABUNDANC... [100%] 1 of 1 ✔\u001B[K\r\n",
      "[8d/eacd64] process > NFCORE_DIFFERENTIALABUNDANC... [100%] 3 of 3 ✔\u001B[K\r\n",
      "[3f/207b06] process > NFCORE_DIFFERENTIALABUNDANC... [ 66%] 2 of 3\u001B[K\r\n",
      "[-        ] process > NFCORE_DIFFERENTIALABUNDANC... [  0%] 0 of 1\u001B[K\r\n",
      "[-        ] process > NFCORE_DIFFERENTIALABUNDANC... [  0%] 0 of 3\u001B[K\r\n",
      "[-        ] process > NFCORE_DIFFERENTIALABUNDANC... [  0%] 0 of 1\u001B[K\r\n",
      "[-        ] process > NFCORE_DIFFERENTIALABUNDANC... -\u001B[K\r\n",
      "[-        ] process > NFCORE_DIFFERENTIALABUNDANC... -\u001B[K\r\n",
      "\u001B[12A\r\n",
      "executor >  local (9)\u001B[K\r\n",
      "[7c/459d0e] process > NFCORE_DIFFERENTIALABUNDANC... [100%] 1 of 1 ✔\u001B[K\r\n",
      "[bb/4b089b] process > NFCORE_DIFFERENTIALABUNDANC... [100%] 1 of 1 ✔\u001B[K\r\n",
      "[4b/8c1d3a] process > NFCORE_DIFFERENTIALABUNDANC... [100%] 1 of 1 ✔\u001B[K\r\n",
      "[8d/eacd64] process > NFCORE_DIFFERENTIALABUNDANC... [100%] 3 of 3 ✔\u001B[K\r\n",
      "[1d/fc1f66] process > NFCORE_DIFFERENTIALABUNDANC... [ 66%] 2 of 3\u001B[K\r\n",
      "[-        ] process > NFCORE_DIFFERENTIALABUNDANC... [  0%] 0 of 1\u001B[K\r\n",
      "[-        ] process > NFCORE_DIFFERENTIALABUNDANC... [  0%] 0 of 3\u001B[K\r\n",
      "[-        ] process > NFCORE_DIFFERENTIALABUNDANC... [  0%] 0 of 1\u001B[K\r\n",
      "[-        ] process > NFCORE_DIFFERENTIALABUNDANC... -\u001B[K\r\n",
      "[-        ] process > NFCORE_DIFFERENTIALABUNDANC... -\u001B[K\r\n",
      "\u001B[12A\r\n",
      "executor >  local (10)\u001B[K\r\n",
      "[7c/459d0e] process > NFCORE_DIFFERENTIALABUNDANC... [100%] 1 of 1 ✔\u001B[K\r\n",
      "[bb/4b089b] process > NFCORE_DIFFERENTIALABUNDANC... [100%] 1 of 1 ✔\u001B[K\r\n",
      "[4b/8c1d3a] process > NFCORE_DIFFERENTIALABUNDANC... [100%] 1 of 1 ✔\u001B[K\r\n",
      "[8d/eacd64] process > NFCORE_DIFFERENTIALABUNDANC... [100%] 3 of 3 ✔\u001B[K\r\n",
      "[1d/fc1f66] process > NFCORE_DIFFERENTIALABUNDANC... [100%] 3 of 3 ✔\u001B[K\r\n",
      "[0d/398a26] process > NFCORE_DIFFERENTIALABUNDANC... [  0%] 0 of 1\u001B[K\r\n",
      "[-        ] process > NFCORE_DIFFERENTIALABUNDANC... [  0%] 0 of 3\u001B[K\r\n",
      "[-        ] process > NFCORE_DIFFERENTIALABUNDANC... [  0%] 0 of 1\u001B[K\r\n",
      "[-        ] process > NFCORE_DIFFERENTIALABUNDANC... -\u001B[K\r\n",
      "[-        ] process > NFCORE_DIFFERENTIALABUNDANC... -\u001B[K\r\n",
      "\u001B[12A\r\n",
      "executor >  local (11)\u001B[K\r\n",
      "[7c/459d0e] process > NFCORE_DIFFERENTIALABUNDANC... [100%] 1 of 1 ✔\u001B[K\r\n",
      "[bb/4b089b] process > NFCORE_DIFFERENTIALABUNDANC... [100%] 1 of 1 ✔\u001B[K\r\n",
      "[4b/8c1d3a] process > NFCORE_DIFFERENTIALABUNDANC... [100%] 1 of 1 ✔\u001B[K\r\n",
      "[8d/eacd64] process > NFCORE_DIFFERENTIALABUNDANC... [100%] 3 of 3 ✔\u001B[K\r\n",
      "[1d/fc1f66] process > NFCORE_DIFFERENTIALABUNDANC... [100%] 3 of 3 ✔\u001B[K\r\n",
      "[0d/398a26] process > NFCORE_DIFFERENTIALABUNDANC... [  0%] 0 of 1\u001B[K\r\n",
      "[82/96b635] process > NFCORE_DIFFERENTIALABUNDANC... [  0%] 0 of 3\u001B[K\r\n",
      "[-        ] process > NFCORE_DIFFERENTIALABUNDANC... [  0%] 0 of 1\u001B[K\r\n",
      "[-        ] process > NFCORE_DIFFERENTIALABUNDANC... -\u001B[K\r\n",
      "[-        ] process > NFCORE_DIFFERENTIALABUNDANC... -\u001B[K\r\n",
      "\u001B[12A\r\n",
      "executor >  local (11)\u001B[K\r\n",
      "[7c/459d0e] process > NFCORE_DIFFERENTIALABUNDANC... [100%] 1 of 1 ✔\u001B[K\r\n",
      "[bb/4b089b] process > NFCORE_DIFFERENTIALABUNDANC... [100%] 1 of 1 ✔\u001B[K\r\n",
      "[4b/8c1d3a] process > NFCORE_DIFFERENTIALABUNDANC... [100%] 1 of 1 ✔\u001B[K\r\n",
      "[8d/eacd64] process > NFCORE_DIFFERENTIALABUNDANC... [100%] 3 of 3 ✔\u001B[K\r\n",
      "[1d/fc1f66] process > NFCORE_DIFFERENTIALABUNDANC... [100%] 3 of 3 ✔\u001B[K\r\n",
      "[0d/398a26] process > NFCORE_DIFFERENTIALABUNDANC... [100%] 1 of 1 ✔\u001B[K\r\n",
      "[82/96b635] process > NFCORE_DIFFERENTIALABUNDANC... [  0%] 0 of 3\u001B[K\r\n",
      "[-        ] process > NFCORE_DIFFERENTIALABUNDANC... [  0%] 0 of 1\u001B[K\r\n",
      "[-        ] process > NFCORE_DIFFERENTIALABUNDANC... -\u001B[K\r\n",
      "[-        ] process > NFCORE_DIFFERENTIALABUNDANC... -\u001B[K\r\n",
      "\u001B[12A\r\n",
      "executor >  local (11)\u001B[K\r\n",
      "[7c/459d0e] process > NFCORE_DIFFERENTIALABUNDANC... [100%] 1 of 1 ✔\u001B[K\r\n",
      "[bb/4b089b] process > NFCORE_DIFFERENTIALABUNDANC... [100%] 1 of 1 ✔\u001B[K\r\n",
      "[4b/8c1d3a] process > NFCORE_DIFFERENTIALABUNDANC... [100%] 1 of 1 ✔\u001B[K\r\n",
      "[8d/eacd64] process > NFCORE_DIFFERENTIALABUNDANC... [100%] 3 of 3 ✔\u001B[K\r\n",
      "[1d/fc1f66] process > NFCORE_DIFFERENTIALABUNDANC... [100%] 3 of 3 ✔\u001B[K\r\n",
      "[0d/398a26] process > NFCORE_DIFFERENTIALABUNDANC... [100%] 1 of 1 ✔\u001B[K\r\n",
      "[82/96b635] process > NFCORE_DIFFERENTIALABUNDANC... [ 33%] 1 of 3\u001B[K\r\n",
      "[-        ] process > NFCORE_DIFFERENTIALABUNDANC... [  0%] 0 of 1\u001B[K\r\n",
      "[-        ] process > NFCORE_DIFFERENTIALABUNDANC... -\u001B[K\r\n",
      "[-        ] process > NFCORE_DIFFERENTIALABUNDANC... -\u001B[K\r\n",
      "\u001B[12A\r\n",
      "executor >  local (12)\u001B[K\r\n",
      "[7c/459d0e] process > NFCORE_DIFFERENTIALABUNDANC... [100%] 1 of 1 ✔\u001B[K\r\n",
      "[bb/4b089b] process > NFCORE_DIFFERENTIALABUNDANC... [100%] 1 of 1 ✔\u001B[K\r\n",
      "[4b/8c1d3a] process > NFCORE_DIFFERENTIALABUNDANC... [100%] 1 of 1 ✔\u001B[K\r\n",
      "[8d/eacd64] process > NFCORE_DIFFERENTIALABUNDANC... [100%] 3 of 3 ✔\u001B[K\r\n",
      "[1d/fc1f66] process > NFCORE_DIFFERENTIALABUNDANC... [100%] 3 of 3 ✔\u001B[K\r\n",
      "[0d/398a26] process > NFCORE_DIFFERENTIALABUNDANC... [100%] 1 of 1 ✔\u001B[K\r\n",
      "[52/3d8585] process > NFCORE_DIFFERENTIALABUNDANC... [ 33%] 1 of 3\u001B[K\r\n",
      "[-        ] process > NFCORE_DIFFERENTIALABUNDANC... [  0%] 0 of 1\u001B[K\r\n",
      "[-        ] process > NFCORE_DIFFERENTIALABUNDANC... -\u001B[K\r\n",
      "[-        ] process > NFCORE_DIFFERENTIALABUNDANC... -\u001B[K\r\n",
      "\u001B[12A\r\n",
      "executor >  local (13)\u001B[K\r\n",
      "[7c/459d0e] process > NFCORE_DIFFERENTIALABUNDANC... [100%] 1 of 1 ✔\u001B[K\r\n",
      "[bb/4b089b] process > NFCORE_DIFFERENTIALABUNDANC... [100%] 1 of 1 ✔\u001B[K\r\n",
      "[4b/8c1d3a] process > NFCORE_DIFFERENTIALABUNDANC... [100%] 1 of 1 ✔\u001B[K\r\n",
      "[8d/eacd64] process > NFCORE_DIFFERENTIALABUNDANC... [100%] 3 of 3 ✔\u001B[K\r\n",
      "[1d/fc1f66] process > NFCORE_DIFFERENTIALABUNDANC... [100%] 3 of 3 ✔\u001B[K\r\n",
      "[0d/398a26] process > NFCORE_DIFFERENTIALABUNDANC... [100%] 1 of 1 ✔\u001B[K\r\n",
      "[52/3d8585] process > NFCORE_DIFFERENTIALABUNDANC... [ 33%] 1 of 3\u001B[K\r\n",
      "[fb/d16fdb] process > NFCORE_DIFFERENTIALABUNDANC... [  0%] 0 of 1\u001B[K\r\n",
      "[-        ] process > NFCORE_DIFFERENTIALABUNDANC... -\u001B[K\r\n",
      "[-        ] process > NFCORE_DIFFERENTIALABUNDANC... -\u001B[K\r\n",
      "\u001B[12A\r\n",
      "executor >  local (13)\u001B[K\r\n",
      "[7c/459d0e] process > NFCORE_DIFFERENTIALABUNDANC... [100%] 1 of 1 ✔\u001B[K\r\n",
      "[bb/4b089b] process > NFCORE_DIFFERENTIALABUNDANC... [100%] 1 of 1 ✔\u001B[K\r\n",
      "[4b/8c1d3a] process > NFCORE_DIFFERENTIALABUNDANC... [100%] 1 of 1 ✔\u001B[K\r\n",
      "[8d/eacd64] process > NFCORE_DIFFERENTIALABUNDANC... [100%] 3 of 3 ✔\u001B[K\r\n",
      "[1d/fc1f66] process > NFCORE_DIFFERENTIALABUNDANC... [100%] 3 of 3 ✔\u001B[K\r\n",
      "[0d/398a26] process > NFCORE_DIFFERENTIALABUNDANC... [100%] 1 of 1 ✔\u001B[K\r\n",
      "[52/3d8585] process > NFCORE_DIFFERENTIALABUNDANC... [ 66%] 2 of 3\u001B[K\r\n",
      "[fb/d16fdb] process > NFCORE_DIFFERENTIALABUNDANC... [  0%] 0 of 1\u001B[K\r\n",
      "[-        ] process > NFCORE_DIFFERENTIALABUNDANC... -\u001B[K\r\n",
      "[-        ] process > NFCORE_DIFFERENTIALABUNDANC... -\u001B[K\r\n",
      "\u001B[12A\r\n",
      "executor >  local (13)\u001B[K\r\n",
      "[7c/459d0e] process > NFCORE_DIFFERENTIALABUNDANC... [100%] 1 of 1 ✔\u001B[K\r\n",
      "[bb/4b089b] process > NFCORE_DIFFERENTIALABUNDANC... [100%] 1 of 1 ✔\u001B[K\r\n",
      "[4b/8c1d3a] process > NFCORE_DIFFERENTIALABUNDANC... [100%] 1 of 1 ✔\u001B[K\r\n",
      "[8d/eacd64] process > NFCORE_DIFFERENTIALABUNDANC... [100%] 3 of 3 ✔\u001B[K\r\n",
      "[1d/fc1f66] process > NFCORE_DIFFERENTIALABUNDANC... [100%] 3 of 3 ✔\u001B[K\r\n",
      "[0d/398a26] process > NFCORE_DIFFERENTIALABUNDANC... [100%] 1 of 1 ✔\u001B[K\r\n",
      "[52/3d8585] process > NFCORE_DIFFERENTIALABUNDANC... [ 66%] 2 of 3\u001B[K\r\n",
      "[fb/d16fdb] process > NFCORE_DIFFERENTIALABUNDANC... [  0%] 0 of 1 ✔\u001B[K\r\n",
      "[-        ] process > NFCORE_DIFFERENTIALABUNDANC... -\u001B[K\r\n",
      "[-        ] process > NFCORE_DIFFERENTIALABUNDANC... -\u001B[K\r\n",
      "\u001B[12A\r\n",
      "executor >  local (14)\u001B[K\r\n",
      "[7c/459d0e] process > NFCORE_DIFFERENTIALABUNDANC... [100%] 1 of 1 ✔\u001B[K\r\n",
      "[bb/4b089b] process > NFCORE_DIFFERENTIALABUNDANC... [100%] 1 of 1 ✔\u001B[K\r\n",
      "[4b/8c1d3a] process > NFCORE_DIFFERENTIALABUNDANC... [100%] 1 of 1 ✔\u001B[K\r\n",
      "[8d/eacd64] process > NFCORE_DIFFERENTIALABUNDANC... [100%] 3 of 3 ✔\u001B[K\r\n",
      "[1d/fc1f66] process > NFCORE_DIFFERENTIALABUNDANC... [100%] 3 of 3 ✔\u001B[K\r\n",
      "[0d/398a26] process > NFCORE_DIFFERENTIALABUNDANC... [100%] 1 of 1 ✔\u001B[K\r\n",
      "[b9/3ef70f] process > NFCORE_DIFFERENTIALABUNDANC... [ 66%] 2 of 3\u001B[K\r\n",
      "[fb/d16fdb] process > NFCORE_DIFFERENTIALABUNDANC... [100%] 1 of 1 ✔\u001B[K\r\n",
      "[-        ] process > NFCORE_DIFFERENTIALABUNDANC... -\u001B[K\r\n",
      "[-        ] process > NFCORE_DIFFERENTIALABUNDANC... -\u001B[K\r\n",
      "\u001B[12A\r\n",
      "executor >  local (14)\u001B[K\r\n",
      "[7c/459d0e] process > NFCORE_DIFFERENTIALABUNDANC... [100%] 1 of 1 ✔\u001B[K\r\n",
      "[bb/4b089b] process > NFCORE_DIFFERENTIALABUNDANC... [100%] 1 of 1 ✔\u001B[K\r\n",
      "[4b/8c1d3a] process > NFCORE_DIFFERENTIALABUNDANC... [100%] 1 of 1 ✔\u001B[K\r\n",
      "[8d/eacd64] process > NFCORE_DIFFERENTIALABUNDANC... [100%] 3 of 3 ✔\u001B[K\r\n",
      "[1d/fc1f66] process > NFCORE_DIFFERENTIALABUNDANC... [100%] 3 of 3 ✔\u001B[K\r\n",
      "[0d/398a26] process > NFCORE_DIFFERENTIALABUNDANC... [100%] 1 of 1 ✔\u001B[K\r\n",
      "[b9/3ef70f] process > NFCORE_DIFFERENTIALABUNDANC... [100%] 3 of 3 ✔\u001B[K\r\n",
      "[fb/d16fdb] process > NFCORE_DIFFERENTIALABUNDANC... [100%] 1 of 1 ✔\u001B[K\r\n",
      "[-        ] process > NFCORE_DIFFERENTIALABUNDANC... -\u001B[K\r\n",
      "[-        ] process > NFCORE_DIFFERENTIALABUNDANC... -\u001B[K\r\n",
      "\u001B[12A\r\n",
      "executor >  local (15)\u001B[K\r\n",
      "[7c/459d0e] process > NFCORE_DIFFERENTIALABUNDANC... [100%] 1 of 1 ✔\u001B[K\r\n",
      "[bb/4b089b] process > NFCORE_DIFFERENTIALABUNDANC... [100%] 1 of 1 ✔\u001B[K\r\n",
      "[4b/8c1d3a] process > NFCORE_DIFFERENTIALABUNDANC... [100%] 1 of 1 ✔\u001B[K\r\n",
      "[8d/eacd64] process > NFCORE_DIFFERENTIALABUNDANC... [100%] 3 of 3 ✔\u001B[K\r\n",
      "[1d/fc1f66] process > NFCORE_DIFFERENTIALABUNDANC... [100%] 3 of 3 ✔\u001B[K\r\n",
      "[0d/398a26] process > NFCORE_DIFFERENTIALABUNDANC... [100%] 1 of 1 ✔\u001B[K\r\n",
      "[b9/3ef70f] process > NFCORE_DIFFERENTIALABUNDANC... [100%] 3 of 3 ✔\u001B[K\r\n",
      "[fb/d16fdb] process > NFCORE_DIFFERENTIALABUNDANC... [100%] 1 of 1 ✔\u001B[K\r\n",
      "[d0/7d1cd4] process > NFCORE_DIFFERENTIALABUNDANC... [  0%] 0 of 1\u001B[K\r\n",
      "[-        ] process > NFCORE_DIFFERENTIALABUNDANC... -\u001B[K\r\n",
      "\u001B[12A\r\n",
      "executor >  local (15)\u001B[K\r\n",
      "[7c/459d0e] process > NFCORE_DIFFERENTIALABUNDANC... [100%] 1 of 1 ✔\u001B[K\r\n",
      "[bb/4b089b] process > NFCORE_DIFFERENTIALABUNDANC... [100%] 1 of 1 ✔\u001B[K\r\n",
      "[4b/8c1d3a] process > NFCORE_DIFFERENTIALABUNDANC... [100%] 1 of 1 ✔\u001B[K\r\n",
      "[8d/eacd64] process > NFCORE_DIFFERENTIALABUNDANC... [100%] 3 of 3 ✔\u001B[K\r\n",
      "[1d/fc1f66] process > NFCORE_DIFFERENTIALABUNDANC... [100%] 3 of 3 ✔\u001B[K\r\n",
      "[0d/398a26] process > NFCORE_DIFFERENTIALABUNDANC... [100%] 1 of 1 ✔\u001B[K\r\n",
      "[b9/3ef70f] process > NFCORE_DIFFERENTIALABUNDANC... [100%] 3 of 3 ✔\u001B[K\r\n",
      "[fb/d16fdb] process > NFCORE_DIFFERENTIALABUNDANC... [100%] 1 of 1 ✔\u001B[K\r\n",
      "[d0/7d1cd4] process > NFCORE_DIFFERENTIALABUNDANC... [  0%] 0 of 1\u001B[K\r\n",
      "[-        ] process > NFCORE_DIFFERENTIALABUNDANC... -\u001B[K\r\n",
      "\u001B[12A\r\n",
      "executor >  local (15)\u001B[K\r\n",
      "[7c/459d0e] process > NFCORE_DIFFERENTIALABUNDANC... [100%] 1 of 1 ✔\u001B[K\r\n",
      "[bb/4b089b] process > NFCORE_DIFFERENTIALABUNDANC... [100%] 1 of 1 ✔\u001B[K\r\n",
      "[4b/8c1d3a] process > NFCORE_DIFFERENTIALABUNDANC... [100%] 1 of 1 ✔\u001B[K\r\n",
      "[8d/eacd64] process > NFCORE_DIFFERENTIALABUNDANC... [100%] 3 of 3 ✔\u001B[K\r\n",
      "[1d/fc1f66] process > NFCORE_DIFFERENTIALABUNDANC... [100%] 3 of 3 ✔\u001B[K\r\n",
      "[0d/398a26] process > NFCORE_DIFFERENTIALABUNDANC... [100%] 1 of 1 ✔\u001B[K\r\n",
      "[b9/3ef70f] process > NFCORE_DIFFERENTIALABUNDANC... [100%] 3 of 3 ✔\u001B[K\r\n",
      "[fb/d16fdb] process > NFCORE_DIFFERENTIALABUNDANC... [100%] 1 of 1 ✔\u001B[K\r\n",
      "[d0/7d1cd4] process > NFCORE_DIFFERENTIALABUNDANC... [100%] 1 of 1 ✔\u001B[K\r\n",
      "[-        ] process > NFCORE_DIFFERENTIALABUNDANC... -\u001B[K\r\n",
      "\u001B[12A\r\n",
      "executor >  local (16)\u001B[K\r\n",
      "[7c/459d0e] process > NFCORE_DIFFERENTIALABUNDANC... [100%] 1 of 1 ✔\u001B[K\r\n",
      "[bb/4b089b] process > NFCORE_DIFFERENTIALABUNDANC... [100%] 1 of 1 ✔\u001B[K\r\n",
      "[4b/8c1d3a] process > NFCORE_DIFFERENTIALABUNDANC... [100%] 1 of 1 ✔\u001B[K\r\n",
      "[8d/eacd64] process > NFCORE_DIFFERENTIALABUNDANC... [100%] 3 of 3 ✔\u001B[K\r\n",
      "[1d/fc1f66] process > NFCORE_DIFFERENTIALABUNDANC... [100%] 3 of 3 ✔\u001B[K\r\n",
      "[0d/398a26] process > NFCORE_DIFFERENTIALABUNDANC... [100%] 1 of 1 ✔\u001B[K\r\n",
      "[b9/3ef70f] process > NFCORE_DIFFERENTIALABUNDANC... [100%] 3 of 3 ✔\u001B[K\r\n",
      "[fb/d16fdb] process > NFCORE_DIFFERENTIALABUNDANC... [100%] 1 of 1 ✔\u001B[K\r\n",
      "[d0/7d1cd4] process > NFCORE_DIFFERENTIALABUNDANC... [100%] 1 of 1 ✔\u001B[K\r\n",
      "[6b/54f5f6] process > NFCORE_DIFFERENTIALABUNDANC... [  0%] 0 of 1\u001B[K\r\n",
      "\u001B[12A\r\n",
      "executor >  local (16)\u001B[K\r\n",
      "[7c/459d0e] process > NFCORE_DIFFERENTIALABUNDANC... [100%] 1 of 1 ✔\u001B[K\r\n",
      "[bb/4b089b] process > NFCORE_DIFFERENTIALABUNDANC... [100%] 1 of 1 ✔\u001B[K\r\n",
      "[4b/8c1d3a] process > NFCORE_DIFFERENTIALABUNDANC... [100%] 1 of 1 ✔\u001B[K\r\n",
      "[8d/eacd64] process > NFCORE_DIFFERENTIALABUNDANC... [100%] 3 of 3 ✔\u001B[K\r\n",
      "[1d/fc1f66] process > NFCORE_DIFFERENTIALABUNDANC... [100%] 3 of 3 ✔\u001B[K\r\n",
      "[0d/398a26] process > NFCORE_DIFFERENTIALABUNDANC... [100%] 1 of 1 ✔\u001B[K\r\n",
      "[b9/3ef70f] process > NFCORE_DIFFERENTIALABUNDANC... [100%] 3 of 3 ✔\u001B[K\r\n",
      "[fb/d16fdb] process > NFCORE_DIFFERENTIALABUNDANC... [100%] 1 of 1 ✔\u001B[K\r\n",
      "[d0/7d1cd4] process > NFCORE_DIFFERENTIALABUNDANC... [100%] 1 of 1 ✔\u001B[K\r\n",
      "[6b/54f5f6] process > NFCORE_DIFFERENTIALABUNDANC... [100%] 1 of 1 ✔\u001B[K\r\n",
      "\u001B[12A\r\n",
      "executor >  local (16)\u001B[K\r\n",
      "[7c/459d0e] process > NFCORE_DIFFERENTIALABUNDANC... [100%] 1 of 1 ✔\u001B[K\r\n",
      "[bb/4b089b] process > NFCORE_DIFFERENTIALABUNDANC... [100%] 1 of 1 ✔\u001B[K\r\n",
      "[4b/8c1d3a] process > NFCORE_DIFFERENTIALABUNDANC... [100%] 1 of 1 ✔\u001B[K\r\n",
      "[8d/eacd64] process > NFCORE_DIFFERENTIALABUNDANC... [100%] 3 of 3 ✔\u001B[K\r\n",
      "[1d/fc1f66] process > NFCORE_DIFFERENTIALABUNDANC... [100%] 3 of 3 ✔\u001B[K\r\n",
      "[0d/398a26] process > NFCORE_DIFFERENTIALABUNDANC... [100%] 1 of 1 ✔\u001B[K\r\n",
      "[b9/3ef70f] process > NFCORE_DIFFERENTIALABUNDANC... [100%] 3 of 3 ✔\u001B[K\r\n",
      "[fb/d16fdb] process > NFCORE_DIFFERENTIALABUNDANC... [100%] 1 of 1 ✔\u001B[K\r\n",
      "[d0/7d1cd4] process > NFCORE_DIFFERENTIALABUNDANC... [100%] 1 of 1 ✔\u001B[K\r\n",
      "[6b/54f5f6] process > NFCORE_DIFFERENTIALABUNDANC... [100%] 1 of 1 ✔\u001B[K\r\n",
      "\u001B[32;1mCompleted at: 02-Oct-2024 13:55:59\r\n",
      "Duration    : 11m 39s\r\n",
      "CPU hours   : 0.2\r\n",
      "Succeeded   : 16\r\n",
      "\u001B[22;39m\u001B[K\r\n",
      "\r\n"
     ]
    }
   ],
   "source": [
    "!nextflow run nf-core/differentialabundance --input samplesheet.csv --contrasts contrasts.csv --matrix salmon.merged.gene_counts.tsv --transcript_length_matrix salmon.merged.gene_lengths.tsv --genome GRCm38 --outdir differential_analysis_2 -profile docker --max_memory 8.GB "
   ]
  },
  {
   "cell_type": "markdown",
   "metadata": {},
   "source": [
    "Explain all the parameters you set and why you set them in this way.\n"
   ]
  },
  {
   "cell_type": "markdown",
   "metadata": {},
   "source": [
    "As an input, I passed samplesheet.csv, which contains metadata about the samples (sample, condition, replicate). For a contrast file, I passed contrasts.csv, which specifies pairwise comparisons between different experimental conditions (SNI_oxy_vs_Sham_Sal, Sham_oxy_vs_Sham_Sal, SNI_Sal_vs_Sham_Sal). For a matrix, I used salmon.merged.gene_counts.tsv, which contains the gene count matrix produced by the tool Salmon. For the transcript length matrix, I used salmon.merged.gene_lengths.tsv, which contains the gene length matrix corresponding to the transcript lengths for each sample. I had to use the flag --genome instead of --gtf due to occurring errors. It refers to the reference genome GRCm38, the Genome Reference Consortium Mouse Build 38, necessary for associating gene annotations, length, and coordinates with the reference data. The outdir flag specifies the output directory. The profile flag sets the execution environment profile, which is Docker in our case. I needed to use max_memory to adjust resources for my weak machine :("
   ]
  },
  {
   "cell_type": "markdown",
   "metadata": {},
   "source": [
    "How did the pipeline perform?"
   ]
  },
  {
   "cell_type": "markdown",
   "metadata": {},
   "source": [
    "The execution of the pipeline wasn't time- and resource-intensive on the local machine and the overall results are satisfactory.\n"
   ]
  },
  {
   "cell_type": "code",
   "execution_count": 1,
   "metadata": {
    "ExecuteTime": {
     "end_time": "2024-10-03T12:00:42.514369Z",
     "start_time": "2024-10-03T12:00:42.509037Z"
    }
   },
   "outputs": [],
   "source": [
    "#!TODO"
   ]
  },
  {
   "cell_type": "markdown",
   "metadata": {},
   "source": [
    "Would you exclude any samples? If yes, which and why?"
   ]
  },
  {
   "cell_type": "markdown",
   "source": [
    "I would exclude SNI_Sal_2 and SNI_Sal_4 based on DESeq2 and the PCA plot, which confirm my assumption from the previous task (day2_part_2), indicating significant differences in their expression profiles compared to the other samples."
   ],
   "metadata": {
    "collapsed": false
   }
  },
  {
   "cell_type": "markdown",
   "metadata": {},
   "source": [
    "How many genes were differentially expressed in each contrast? Does this confirm what the paper mentions?"
   ]
  },
  {
   "cell_type": "code",
   "execution_count": 4,
   "outputs": [
    {
     "name": "stdout",
     "output_type": "stream",
     "text": [
      "                              Comparison  Up  Down\n",
      "0   Sham_Sal versus SNI_oxy in condition   1     1\n",
      "1  Sham_Sal versus Sham_oxy in condition   0     6\n",
      "2   Sham_Sal versus SNI_Sal in condition   2    77\n"
     ]
    }
   ],
   "source": [
    "import pandas as pd\n",
    "\n",
    "# Defining the dictionary with gene comparison data\n",
    "genes = {\n",
    "    \"Comparison\": [\n",
    "        \"Sham_Sal versus SNI_oxy in condition\",\n",
    "        \"Sham_Sal versus Sham_oxy in condition\",\n",
    "        \"Sham_Sal versus SNI_Sal in condition\"\n",
    "    ],\n",
    "    \"Up\": [1, 0, 2],\n",
    "    \"Down\": [1, 6, 77]\n",
    "}\n",
    "\n",
    "# Creating the dataframe\n",
    "genes_df = pd.DataFrame(genes)\n",
    "\n",
    "# Displaying the dataframe\n",
    "print(genes_df)"
   ],
   "metadata": {
    "collapsed": false,
    "ExecuteTime": {
     "end_time": "2024-10-02T14:54:30.303429Z",
     "start_time": "2024-10-02T14:54:30.276441Z"
    }
   }
  },
  {
   "cell_type": "markdown",
   "source": [
    "The above comparison is derived from the HTML report generated by the pipeline. It is important to consider that the parameters used for feature-wise filtering and exploratory analysis may differ from those employed by the authors.\n",
    "\n",
    "To identify upregulated and downregulated genes, we examine the Log2FoldChange (Log2FC) value. A positive Log2FC indicates upregulation, while a negative Log2FC indicates downregulation.\n",
    "\n",
    "After analyzing the HTML report file, for the comparison of Sham_Sal versus SNI_oxy, the upregulated gene is Gm22614 with a Log2FC value of 19.07, while the downregulated gene is Cdr1 with a Log2FC value of -17.72. Interestingly, in each comparison, Cdr1 is also downregulated relative to Sham_Sal. Additionally, the gene Adcyap1 is downregulated in the comparisons of Sham_Sal versus SNI_Sal and Sham_Sal versus Sham_oxy.\n",
    "\n",
    "From the table on page 1236 I could only identify Adcyap1. It was stated in the paper: \"In the mPFC, ADCYAP1 and HTT were predicted URs in the Sham-Oxy versus Sham-Sal condition\" (upstream regulator not the same as upregulated gene). "
   ],
   "metadata": {
    "collapsed": false
   }
  },
  {
   "cell_type": "markdown",
   "source": [
    " In the paper was stated: \"Differential expression (DE) analysis showed region-specific alterations in transcriptional profiles. The comparison of SNI-Oxy versus Sham-Sal groups resulted in 1,012 differentially expressed genes (DEGs) in the NAc, 1,116 genes in the mPFC and 533 genes in the VTA (nominal P < 0.05, log2fold change ≥ |0.5|). SNI-Sal triggered 1,457 DEGs in the NAc, 1,052 DEGs in the mPFC and 425 DEGs in the VTA as compared to Sham-Sal controls. The Sham-Oxy condition altered 2,609 genes in the NAc, 1,449 genes in the mPFC and 584 genes in the VTA as compared to Sham-Sal controls.\n",
    " \n",
    "In order to replicate on resulted data from the used pipeline:"
   ],
   "metadata": {
    "collapsed": false
   }
  },
  {
   "cell_type": "code",
   "execution_count": 25,
   "outputs": [
    {
     "name": "stdout",
     "output_type": "stream",
     "text": [
      "Sham_oxy_vs_Sham_Sal: 25\n",
      "SNI_oxy_vs_Sham_Sal: 2\n",
      "SNI_Sal_vs_Sham_Sal: 131\n"
     ]
    }
   ],
   "source": [
    "df = pd.read_csv('/Users/weronikajaskowiak/Desktop/practical_course_2/day_3_3/differential_analysis_2/tables/differential/Sham_oxy_vs_Sham_Sal.deseq2.results.tsv', sep='\\t')\n",
    "\n",
    "filtered_genes = df[(df['pvalue'] < 0.05) & (df['log2FoldChange'].abs()>= 0.5)]\n",
    "set_Sham_oxy_vs_Sham_Sal=set(filtered_genes['gene_id'])\n",
    "count_filtered_genes = len(set_Sham_oxy_vs_Sham_Sal)\n",
    "\n",
    "df_2 =pd.read_csv('/Users/weronikajaskowiak/Desktop/practical_course_2/day_3_3/differential_analysis_2/tables/differential/SNI_oxy_vs_Sham_Sal.deseq2.results.tsv', sep='\\t')\n",
    "\n",
    "filtered_genes_2 = df_2[(df_2['pvalue'] < 0.05) & (df_2['log2FoldChange'].abs()>= 0.5)]\n",
    "set_SNI_oxy_vs_Sham_Sal = set(filtered_genes_2['gene_id'])\n",
    "count_filtered_genes_2 = len(set_SNI_oxy_vs_Sham_Sal)\n",
    "\n",
    "\n",
    "df_3 =pd.read_csv('/Users/weronikajaskowiak/Desktop/practical_course_2/day_3_3/differential_analysis_2/tables/differential/SNI_Sal_vs_Sham_Sal.deseq2.results.tsv', sep='\\t')\n",
    "\n",
    "filtered_genes_3 = df_3[(df_3['pvalue'] < 0.05) & (df_3['log2FoldChange'].abs()>= 0.5)]\n",
    "set_SNI_Sal_vs_Sham_Sal = set(filtered_genes_3['gene_id'])\n",
    "count_filtered_genes_3 = len(set_SNI_Sal_vs_Sham_Sal)\n",
    "\n",
    "print(f\"Sham_oxy_vs_Sham_Sal: {count_filtered_genes}\")\n",
    "print(f\"SNI_oxy_vs_Sham_Sal: {count_filtered_genes_2}\")\n",
    "print(f\"SNI_Sal_vs_Sham_Sal: {count_filtered_genes_3}\")\n",
    "\n",
    "\n"
   ],
   "metadata": {
    "collapsed": false,
    "ExecuteTime": {
     "end_time": "2024-10-02T18:11:10.684329Z",
     "start_time": "2024-10-02T18:11:10.500882Z"
    }
   }
  },
  {
   "cell_type": "markdown",
   "metadata": {
    "ExecuteTime": {
     "end_time": "2024-10-02T14:41:10.356305Z",
     "start_time": "2024-10-02T14:41:10.348142Z"
    }
   },
   "source": [
    "The paper mentions differentially expressed genes in three brain regions : the NAc, mPFC and VTA. Briefly explain what these 3 regions are."
   ]
  },
  {
   "cell_type": "markdown",
   "metadata": {},
   "source": [
    "1) NAc (Nucleus Accumbens) is a key region of the brain involved in the reward circuit, playing a central role in processing pleasure, motivation, and reinforcement learning. The NAc is implicated in addiction, mood disorders, and the effects of drugs.\n",
    "\n",
    "\n",
    "2) mPFC (Medial Prefrontal Cortex) is part of the prefrontal cortex, which is associated with decision-making, emotional regulation, and social cognition. The mPFC helps regulate behavior and is involved in cognitive functions such as working memory, planning, and response to stress. It's also important in modulating emotional responses, particularly those related to fear and reward.\n",
    "\n",
    "3) VTA (Ventral Tegmental Area) is a group of neurons located in the midbrain that plays a major role in the dopaminergic system. It is involved in the release of dopamine and is crucial for reward, motivation, and the regulation of mood. The VTA sends dopamine signals to the nucleus accumbens and prefrontal cortex, making it central to behaviors related to reward, addiction, and emotional processing."
   ]
  },
  {
   "cell_type": "markdown",
   "metadata": {},
   "source": [
    "Is there anyway from the paper and the material and methods for us to know which genes are included in these regions?\n",
    "\n",
    "There is a Table 1 on page 1236 that lists the DEGs underlying pathways along with their respective brain regions."
   ]
  },
  {
   "cell_type": "markdown",
   "metadata": {},
   "source": []
  },
  {
   "cell_type": "markdown",
   "metadata": {},
   "source": [
    "Once you have your list of differentially expressed genes, do you think just communicating those to the biologists would be sufficient? What does the publication state?"
   ]
  },
  {
   "cell_type": "markdown",
   "metadata": {},
   "source": [
    "No, simply providing a list of DEGs to biologists would not be sufficient. The publication emphasizes that DEGs alone do not provide a complete picture of the biological processes involved. The authors complemented the DEG analysis with several additional layers of analysis, including Gene Ontology (GO) analysis, Ingenuity Pathway Analysis (IPA), upstream regulator analysis, and others. These additional methods provided insights into the molecular mechanisms, predicted upstream regulators, and the involvement of specific biological pathways, such as CREB signaling. All of this provides functional context and highlights the significance of the DEGs."
   ]
  },
  {
   "cell_type": "markdown",
   "metadata": {},
   "source": [
    "Please reproduce the Venn Diagram from Figure 3, not taking into account the brain regions but just the contrasts mentioned."
   ]
  },
  {
   "cell_type": "code",
   "execution_count": 24,
   "outputs": [
    {
     "data": {
      "text/plain": "<Figure size 800x800 with 1 Axes>",
      "image/png": "[encoded data removed]"
     },
     "metadata": {},
     "output_type": "display_data"
    }
   ],
   "source": [
    "import matplotlib.pyplot as plt\n",
    "from matplotlib_venn import venn3\n",
    "\n",
    "plt.figure(figsize=(8, 8))\n",
    "venn3([set_Sham_oxy_vs_Sham_Sal, set_SNI_oxy_vs_Sham_Sal, set_SNI_Sal_vs_Sham_Sal], \n",
    "      ('Sham_Oxy vs Sham_Sal', 'SNI_Oxy vs Sham_Sal', 'SNI_Sal vs Sham_Sal'))\n",
    "\n",
    "plt.title(\"Venn Diagram of Differentially Expressed Genes\")\n",
    "plt.show()"
   ],
   "metadata": {
    "collapsed": false,
    "ExecuteTime": {
     "end_time": "2024-10-02T18:09:06.727133Z",
     "start_time": "2024-10-02T18:09:06.117978Z"
    }
   }
  },
  {
   "cell_type": "markdown",
   "metadata": {},
   "source": [
    "# **Overall conclusions**"
   ]
  },
  {
   "cell_type": "markdown",
   "source": [
    "As observed, my results do not align with the authors' findings. One of the reasons is that I incorporated different tools in the differential expression pipeline than the authors did. In the paper, RNA-Seq data alignment was performed using HISAT2 for read alignment, and HT-Seq was used for read counting. The nf-core pipeline for RNA-seq analysis uses STAR for alignment and Salmon for quantification. Additionally, I had to use the GRCm38 version of the reference genome, whereas the study used GRCm39. The authors did not specify the parameters they used for differential analysis, which is another contributing factor to the discrepancies in results. The nf-core pipeline may also apply different thresholds for filtering low-expressed genes, which would impact downstream analyses.\n",
    "\n",
    "\n",
    "In my opinion, the authors should outline a simple guide or flowchart in the methods section to provide researchers with a clear path to reproducing the results, from data acquisition to final analysis. The most important step is public sharing of pipelines, such as uploading the pipeline on nf-core.\n",
    "\n"
   ],
   "metadata": {
    "collapsed": false
   }
  },
  {
   "cell_type": "code",
   "execution_count": null,
   "outputs": [],
   "source": [],
   "metadata": {
    "collapsed": false
   }
  }
 ],
 "metadata": {
  "kernelspec": {
   "display_name": "work",
   "language": "python",
   "name": "python3"
  },
  "language_info": {
   "codemirror_mode": {
    "name": "ipython",
    "version": 3
   },
   "file_extension": ".py",
   "mimetype": "text/x-python",
   "name": "python",
   "nbconvert_exporter": "python",
   "pygments_lexer": "ipython3",
   "version": "3.10.13"
  }
 },
 "nbformat": 4,
 "nbformat_minor": 2
}
