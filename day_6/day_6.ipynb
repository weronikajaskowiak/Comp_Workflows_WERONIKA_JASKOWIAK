{
 "cells": [
  {
   "cell_type": "markdown",
   "metadata": {},
   "source": [
    "# Day 6 - Nextflow Basics: Introduction to channels and operators"
   ]
  },
  {
   "cell_type": "markdown",
   "metadata": {},
   "source": [
    "Today, we will begin exploring Nextflow, the programming language that powers the advanced nf-core pipelines you worked with last week. Your task is to dive into the core concepts and syntax of Nextflow, understanding how this language enables the development of scalable and reproducible workflows.\n",
    "\n",
    "Nextflow works quite differently from traditional programming languages like Python or Java that you may already be familiar with. To get started, it is essential to understand the foundational concepts that set Nextflow apart."
   ]
  },
  {
   "cell_type": "markdown",
   "metadata": {},
   "source": [
    "### 1. Describe the concept of Workflows, Processes and Channels we deal with in Nextflow"
   ]
  },
  {
   "cell_type": "markdown",
   "metadata": {},
   "source": [
    "Workflows: A workflow represents a combination of processes and the dataflow logic (i.e., channels and operators). Workflows are executed lazily, meaning the entire structure is first parsed, and only then is the workflow executed as a whole. The execution of a task is solely determined by its dependencies, so it runs as soon as all necessary inputs are available.\n",
    "\n",
    "Processes: A process is the fundamental unit for executing a user-defined script. It can include various definition blocks, such as directives, inputs, outputs, conditional when clauses, and the actual script.\n",
    "\n",
    "Channels: Nextflow utilizes a dataflow programming model where processes interact via channels. Channels have two key characteristics: sending a message is an asynchronous (non-blocking) operation, allowing the sender to continue without waiting for the recipient; receiving a message is a synchronous (blocking) operation, meaning the receiver must wait for the message to arrive before proceeding. There are two types of channels in Nextflow: queue channels and value channels.\n",
    "\n"
   ]
  },
  {
   "cell_type": "markdown",
   "metadata": {},
   "source": [
    "## Introduction to channels\n",
    "\n",
    "Please refer to the file  $\\texttt{channels\\_intro.nf}$ for the next exercises. Then run the code with the respective flag here below. "
   ]
  },
  {
   "cell_type": "code",
   "execution_count": 12,
   "outputs": [
    {
     "name": "stdout",
     "output_type": "stream",
     "text": [
      "\u001B[33mNextflow 24.04.4 is available - Please consider updating your version to it\u001B[m\r\n",
      "N E X T F L O W  ~  version 23.10.1\r\n",
      "Launching `channels_intro.nf` [insane_almeida] DSL2 - revision: 02caf4ec23\r\n",
      "1\r\n"
     ]
    }
   ],
   "source": [
    "!nextflow run channels_intro.nf --step 00\n"
   ],
   "metadata": {
    "collapsed": false,
    "ExecuteTime": {
     "end_time": "2024-10-07T08:08:05.841939Z",
     "start_time": "2024-10-07T08:08:01.676209Z"
    }
   }
  },
  {
   "cell_type": "code",
   "execution_count": 14,
   "metadata": {
    "ExecuteTime": {
     "end_time": "2024-10-07T08:11:45.023645Z",
     "start_time": "2024-10-07T08:11:38.435027Z"
    }
   },
   "outputs": [
    {
     "name": "stdout",
     "output_type": "stream",
     "text": [
      "\r\n",
      "\u001B[1m\u001B[38;5;232m\u001B[48;5;43m N E X T F L O W \u001B[0;2m  ~  \u001B[mversion 24.04.4\u001B[m\r\n",
      "\u001B[K\r\n",
      "Launching\u001B[35m `channels_intro.nf` \u001B[0;2m[\u001B[0;1;36mjovial_meitner\u001B[0;2m] DSL2 - \u001B[36mrevision: \u001B[0;36m02caf4ec23\u001B[m\r\n",
      "\u001B[K\r\n",
      "1\r\n",
      "2\r\n",
      "3\r\n",
      "4\r\n",
      "5\r\n",
      "6\r\n",
      "7\r\n",
      "8\r\n",
      "9\r\n",
      "10\r\n"
     ]
    }
   ],
   "source": [
    "# Task 1 - Create a channel that enumerates the numbers from 1 to 10\n",
    "!nextflow run channels_intro.nf --step 1"
   ]
  },
  {
   "cell_type": "code",
   "execution_count": 15,
   "metadata": {
    "ExecuteTime": {
     "end_time": "2024-10-07T08:14:05.784628Z",
     "start_time": "2024-10-07T08:13:59.958714Z"
    }
   },
   "outputs": [
    {
     "name": "stdout",
     "output_type": "stream",
     "text": [
      "\r\n",
      "\u001B[1m\u001B[38;5;232m\u001B[48;5;43m N E X T F L O W \u001B[0;2m  ~  \u001B[mversion 24.04.4\u001B[m\r\n",
      "\u001B[K\r\n",
      "Launching\u001B[35m `channels_intro.nf` \u001B[0;2m[\u001B[0;1;36mberserk_babbage\u001B[0;2m] DSL2 - \u001B[36mrevision: \u001B[0;36m0cddae97be\u001B[m\r\n",
      "\u001B[K\r\n",
      "A\r\n",
      "B\r\n",
      "C\r\n",
      "D\r\n",
      "E\r\n",
      "F\r\n",
      "G\r\n",
      "H\r\n",
      "I\r\n",
      "J\r\n",
      "K\r\n",
      "L\r\n",
      "M\r\n",
      "N\r\n",
      "O\r\n",
      "P\r\n",
      "Q\r\n",
      "R\r\n",
      "S\r\n",
      "T\r\n",
      "U\r\n",
      "V\r\n",
      "W\r\n",
      "X\r\n",
      "Y\r\n",
      "Z\r\n"
     ]
    }
   ],
   "source": [
    "# Task 2 - Create a channel that gives out the entire alphabet\n",
    "!nextflow run channels_intro.nf --step 2"
   ]
  },
  {
   "cell_type": "code",
   "execution_count": 23,
   "metadata": {
    "ExecuteTime": {
     "end_time": "2024-10-07T08:28:27.785345Z",
     "start_time": "2024-10-07T08:28:23.085920Z"
    }
   },
   "outputs": [
    {
     "name": "stdout",
     "output_type": "stream",
     "text": [
      "\r\n",
      "\u001B[1m\u001B[38;5;232m\u001B[48;5;43m N E X T F L O W \u001B[0;2m  ~  \u001B[mversion 24.04.4\u001B[m\r\n",
      "\u001B[K\r\n",
      "Launching\u001B[35m `channels_intro.nf` \u001B[0;2m[\u001B[0;1;36mjovial_neumann\u001B[0;2m] DSL2 - \u001B[36mrevision: \u001B[0;36md5f790952a\u001B[m\r\n",
      "\u001B[K\r\n",
      "/Users/weronikajaskowiak/Desktop/practical_course_2/day_6/files_dir/SRR5_2.fq\r\n",
      "/Users/weronikajaskowiak/Desktop/practical_course_2/day_6/files_dir/fastq5_2.fq\r\n",
      "/Users/weronikajaskowiak/Desktop/practical_course_2/day_6/files_dir/file_4.txt\r\n",
      "/Users/weronikajaskowiak/Desktop/practical_course_2/day_6/files_dir/file_5.txt\r\n",
      "/Users/weronikajaskowiak/Desktop/practical_course_2/day_6/files_dir/file_1.txt\r\n",
      "/Users/weronikajaskowiak/Desktop/practical_course_2/day_6/files_dir/file_2.txt\r\n",
      "/Users/weronikajaskowiak/Desktop/practical_course_2/day_6/files_dir/fastq.fq\r\n",
      "/Users/weronikajaskowiak/Desktop/practical_course_2/day_6/files_dir/fastq4_2.fq\r\n",
      "/Users/weronikajaskowiak/Desktop/practical_course_2/day_6/files_dir/SRR4_2.fq\r\n",
      "/Users/weronikajaskowiak/Desktop/practical_course_2/day_6/files_dir/file_3.txt\r\n",
      "/Users/weronikajaskowiak/Desktop/practical_course_2/day_6/files_dir/SRR.fq\r\n",
      "/Users/weronikajaskowiak/Desktop/practical_course_2/day_6/files_dir/SRR3_2.fq\r\n",
      "/Users/weronikajaskowiak/Desktop/practical_course_2/day_6/files_dir/fastq3_2.fq\r\n",
      "/Users/weronikajaskowiak/Desktop/practical_course_2/day_6/files_dir/fastq_1.fq\r\n",
      "/Users/weronikajaskowiak/Desktop/practical_course_2/day_6/files_dir/fastq2_2.fq\r\n",
      "/Users/weronikajaskowiak/Desktop/practical_course_2/day_6/files_dir/SRR2_2.fq\r\n",
      "/Users/weronikajaskowiak/Desktop/practical_course_2/day_6/files_dir/fastq1_1.fq\r\n",
      "/Users/weronikajaskowiak/Desktop/practical_course_2/day_6/files_dir/SRR1_1.fq\r\n",
      "/Users/weronikajaskowiak/Desktop/practical_course_2/day_6/files_dir/fastq_2.fq\r\n",
      "/Users/weronikajaskowiak/Desktop/practical_course_2/day_6/files_dir/fastq2_1.fq\r\n",
      "/Users/weronikajaskowiak/Desktop/practical_course_2/day_6/files_dir/SRR2_1.fq\r\n",
      "/Users/weronikajaskowiak/Desktop/practical_course_2/day_6/files_dir/fastq1_2.fq\r\n",
      "/Users/weronikajaskowiak/Desktop/practical_course_2/day_6/files_dir/SRR1_2.fq\r\n",
      "/Users/weronikajaskowiak/Desktop/practical_course_2/day_6/files_dir/SRR3_1.fq\r\n",
      "/Users/weronikajaskowiak/Desktop/practical_course_2/day_6/files_dir/fastq3_1.fq\r\n",
      "/Users/weronikajaskowiak/Desktop/practical_course_2/day_6/files_dir/fastq4_1.fq\r\n",
      "/Users/weronikajaskowiak/Desktop/practical_course_2/day_6/files_dir/SRR4_1.fq\r\n",
      "/Users/weronikajaskowiak/Desktop/practical_course_2/day_6/files_dir/SRR5_1.fq\r\n",
      "/Users/weronikajaskowiak/Desktop/practical_course_2/day_6/files_dir/fastq5_1.fq\r\n"
     ]
    }
   ],
   "source": [
    "# Task 3 - Create a channel that includes all files in the \"files_dir\" directory\n",
    "!nextflow run channels_intro.nf --step 3"
   ]
  },
  {
   "cell_type": "code",
   "execution_count": 24,
   "metadata": {
    "ExecuteTime": {
     "end_time": "2024-10-07T08:29:15.069421Z",
     "start_time": "2024-10-07T08:29:10.089817Z"
    }
   },
   "outputs": [
    {
     "name": "stdout",
     "output_type": "stream",
     "text": [
      "\r\n",
      "\u001B[1m\u001B[38;5;232m\u001B[48;5;43m N E X T F L O W \u001B[0;2m  ~  \u001B[mversion 24.04.4\u001B[m\r\n",
      "\u001B[K\r\n",
      "Launching\u001B[35m `channels_intro.nf` \u001B[0;2m[\u001B[0;1;36mclever_hodgkin\u001B[0;2m] DSL2 - \u001B[36mrevision: \u001B[0;36m704be61525\u001B[m\r\n",
      "\u001B[K\r\n",
      "/Users/weronikajaskowiak/Desktop/practical_course_2/day_6/files_dir/file_4.txt\r\n",
      "/Users/weronikajaskowiak/Desktop/practical_course_2/day_6/files_dir/file_5.txt\r\n",
      "/Users/weronikajaskowiak/Desktop/practical_course_2/day_6/files_dir/file_1.txt\r\n",
      "/Users/weronikajaskowiak/Desktop/practical_course_2/day_6/files_dir/file_2.txt\r\n",
      "/Users/weronikajaskowiak/Desktop/practical_course_2/day_6/files_dir/file_3.txt\r\n"
     ]
    }
   ],
   "source": [
    "# Task 4 - Create a channel that includes all TXT files in the \"files_dir\" directory\n",
    "!nextflow run channels_intro.nf --step 4"
   ]
  },
  {
   "cell_type": "code",
   "execution_count": 25,
   "metadata": {
    "ExecuteTime": {
     "end_time": "2024-10-07T08:29:26.400519Z",
     "start_time": "2024-10-07T08:29:21.878852Z"
    }
   },
   "outputs": [
    {
     "name": "stdout",
     "output_type": "stream",
     "text": [
      "\r\n",
      "\u001B[1m\u001B[38;5;232m\u001B[48;5;43m N E X T F L O W \u001B[0;2m  ~  \u001B[mversion 24.04.4\u001B[m\r\n",
      "\u001B[K\r\n",
      "Launching\u001B[35m `channels_intro.nf` \u001B[0;2m[\u001B[0;1;36mjovial_varahamihira\u001B[0;2m] DSL2 - \u001B[36mrevision: \u001B[0;36m704be61525\u001B[m\r\n",
      "\u001B[K\r\n",
      "/Users/weronikajaskowiak/Desktop/practical_course_2/day_6/files_dir/fastq_1.fq\r\n",
      "/Users/weronikajaskowiak/Desktop/practical_course_2/day_6/files_dir/fastq_2.fq\r\n"
     ]
    }
   ],
   "source": [
    "# Task 5 - Create a channel that includes the files \"fastq_1.fq\" and \"fastq_2.fq\" in the \"files_dir\" directory\n",
    "!nextflow run channels_intro.nf --step 5"
   ]
  },
  {
   "cell_type": "code",
   "execution_count": 28,
   "metadata": {
    "ExecuteTime": {
     "end_time": "2024-10-07T08:32:48.934048Z",
     "start_time": "2024-10-07T08:32:44.294840Z"
    }
   },
   "outputs": [
    {
     "name": "stdout",
     "output_type": "stream",
     "text": [
      "\r\n",
      "\u001B[1m\u001B[38;5;232m\u001B[48;5;43m N E X T F L O W \u001B[0;2m  ~  \u001B[mversion 24.04.4\u001B[m\r\n",
      "\u001B[K\r\n",
      "Launching\u001B[35m `channels_intro.nf` \u001B[0;2m[\u001B[0;1;36msuspicious_ride\u001B[0;2m] DSL2 - \u001B[36mrevision: \u001B[0;36m24a89e46be\u001B[m\r\n",
      "\u001B[K\r\n",
      "/Users/weronikajaskowiak/Desktop/practical_course_2/day_6/files_dir/SRR5_2.fq\r\n",
      "/Users/weronikajaskowiak/Desktop/practical_course_2/day_6/files_dir/fastq5_2.fq\r\n",
      "/Users/weronikajaskowiak/Desktop/practical_course_2/day_6/files_dir/file_4.txt\r\n",
      "/Users/weronikajaskowiak/Desktop/practical_course_2/day_6/files_dir/file_5.txt\r\n",
      "/Users/weronikajaskowiak/Desktop/practical_course_2/day_6/files_dir/file_1.txt\r\n",
      "/Users/weronikajaskowiak/Desktop/practical_course_2/day_6/files_dir/file_2.txt\r\n",
      "/Users/weronikajaskowiak/Desktop/practical_course_2/day_6/files_dir/fastq.fq\r\n",
      "/Users/weronikajaskowiak/Desktop/practical_course_2/day_6/files_dir/fastq4_2.fq\r\n",
      "/Users/weronikajaskowiak/Desktop/practical_course_2/day_6/files_dir/SRR4_2.fq\r\n",
      "/Users/weronikajaskowiak/Desktop/practical_course_2/day_6/files_dir/file_3.txt\r\n",
      "/Users/weronikajaskowiak/Desktop/practical_course_2/day_6/files_dir/SRR.fq\r\n",
      "/Users/weronikajaskowiak/Desktop/practical_course_2/day_6/files_dir/SRR3_2.fq\r\n",
      "/Users/weronikajaskowiak/Desktop/practical_course_2/day_6/files_dir/fastq3_2.fq\r\n",
      "/Users/weronikajaskowiak/Desktop/practical_course_2/day_6/files_dir/fastq_1.fq\r\n",
      "/Users/weronikajaskowiak/Desktop/practical_course_2/day_6/files_dir/fastq2_2.fq\r\n",
      "/Users/weronikajaskowiak/Desktop/practical_course_2/day_6/files_dir/SRR2_2.fq\r\n",
      "/Users/weronikajaskowiak/Desktop/practical_course_2/day_6/files_dir/fastq1_1.fq\r\n",
      "/Users/weronikajaskowiak/Desktop/practical_course_2/day_6/files_dir/SRR1_1.fq\r\n",
      "/Users/weronikajaskowiak/Desktop/practical_course_2/day_6/files_dir/fastq_2.fq\r\n",
      "/Users/weronikajaskowiak/Desktop/practical_course_2/day_6/files_dir/fastq2_1.fq\r\n",
      "/Users/weronikajaskowiak/Desktop/practical_course_2/day_6/files_dir/SRR2_1.fq\r\n",
      "/Users/weronikajaskowiak/Desktop/practical_course_2/day_6/files_dir/fastq1_2.fq\r\n",
      "/Users/weronikajaskowiak/Desktop/practical_course_2/day_6/files_dir/SRR1_2.fq\r\n",
      "/Users/weronikajaskowiak/Desktop/practical_course_2/day_6/files_dir/SRR3_1.fq\r\n",
      "/Users/weronikajaskowiak/Desktop/practical_course_2/day_6/files_dir/fastq3_1.fq\r\n",
      "/Users/weronikajaskowiak/Desktop/practical_course_2/day_6/files_dir/fastq4_1.fq\r\n",
      "/Users/weronikajaskowiak/Desktop/practical_course_2/day_6/files_dir/SRR4_1.fq\r\n",
      "/Users/weronikajaskowiak/Desktop/practical_course_2/day_6/files_dir/SRR5_1.fq\r\n",
      "/Users/weronikajaskowiak/Desktop/practical_course_2/day_6/files_dir/fastq5_1.fq\r\n",
      "/Users/weronikajaskowiak/Desktop/practical_course_2/day_6/files_dir/.hidden_2.txt\r\n",
      "/Users/weronikajaskowiak/Desktop/practical_course_2/day_6/files_dir/.hidden_1.txt\r\n"
     ]
    }
   ],
   "source": [
    "# Task 6 - go back to the time when you included all files. Are you sure that really ALL files are included? If not, how can you include them?\n",
    "!nextflow run channels_intro.nf --step 6"
   ]
  },
  {
   "cell_type": "code",
   "execution_count": 39,
   "metadata": {
    "ExecuteTime": {
     "end_time": "2024-10-07T08:47:46.003686Z",
     "start_time": "2024-10-07T08:47:41.466138Z"
    }
   },
   "outputs": [
    {
     "name": "stdout",
     "output_type": "stream",
     "text": [
      "\r\n",
      "\u001B[1m\u001B[38;5;232m\u001B[48;5;43m N E X T F L O W \u001B[0;2m  ~  \u001B[mversion 24.04.4\u001B[m\r\n",
      "\u001B[K\r\n",
      "Launching\u001B[35m `channels_intro.nf` \u001B[0;2m[\u001B[0;1;36mconfident_turing\u001B[0;2m] DSL2 - \u001B[36mrevision: \u001B[0;36m377decb05e\u001B[m\r\n",
      "\u001B[K\r\n",
      "[fastq, [/Users/weronikajaskowiak/Desktop/practical_course_2/day_6/files_dir/fastq_1.fq, /Users/weronikajaskowiak/Desktop/practical_course_2/day_6/files_dir/fastq_2.fq]]\r\n",
      "[fastq2, [/Users/weronikajaskowiak/Desktop/practical_course_2/day_6/files_dir/fastq2_1.fq, /Users/weronikajaskowiak/Desktop/practical_course_2/day_6/files_dir/fastq2_2.fq]]\r\n",
      "[SRR2, [/Users/weronikajaskowiak/Desktop/practical_course_2/day_6/files_dir/SRR2_1.fq, /Users/weronikajaskowiak/Desktop/practical_course_2/day_6/files_dir/SRR2_2.fq]]\r\n",
      "[fastq1, [/Users/weronikajaskowiak/Desktop/practical_course_2/day_6/files_dir/fastq1_1.fq, /Users/weronikajaskowiak/Desktop/practical_course_2/day_6/files_dir/fastq1_2.fq]]\r\n",
      "[SRR1, [/Users/weronikajaskowiak/Desktop/practical_course_2/day_6/files_dir/SRR1_1.fq, /Users/weronikajaskowiak/Desktop/practical_course_2/day_6/files_dir/SRR1_2.fq]]\r\n",
      "[SRR3, [/Users/weronikajaskowiak/Desktop/practical_course_2/day_6/files_dir/SRR3_1.fq, /Users/weronikajaskowiak/Desktop/practical_course_2/day_6/files_dir/SRR3_2.fq]]\r\n",
      "[fastq3, [/Users/weronikajaskowiak/Desktop/practical_course_2/day_6/files_dir/fastq3_1.fq, /Users/weronikajaskowiak/Desktop/practical_course_2/day_6/files_dir/fastq3_2.fq]]\r\n",
      "[fastq4, [/Users/weronikajaskowiak/Desktop/practical_course_2/day_6/files_dir/fastq4_1.fq, /Users/weronikajaskowiak/Desktop/practical_course_2/day_6/files_dir/fastq4_2.fq]]\r\n",
      "[SRR4, [/Users/weronikajaskowiak/Desktop/practical_course_2/day_6/files_dir/SRR4_1.fq, /Users/weronikajaskowiak/Desktop/practical_course_2/day_6/files_dir/SRR4_2.fq]]\r\n",
      "[SRR5, [/Users/weronikajaskowiak/Desktop/practical_course_2/day_6/files_dir/SRR5_1.fq, /Users/weronikajaskowiak/Desktop/practical_course_2/day_6/files_dir/SRR5_2.fq]]\r\n",
      "[fastq5, [/Users/weronikajaskowiak/Desktop/practical_course_2/day_6/files_dir/fastq5_1.fq, /Users/weronikajaskowiak/Desktop/practical_course_2/day_6/files_dir/fastq5_2.fq]]\r\n"
     ]
    }
   ],
   "source": [
    "# Task 7 - get all filepairs in the \"files_dir\" directory\n",
    "!nextflow run channels_intro.nf --step 7"
   ]
  },
  {
   "cell_type": "markdown",
   "metadata": {},
   "source": [
    "## Now that you have a solid understanding of the basic concepts of channels in Nextflow, it’s time to experiment and see how they work in practice."
   ]
  },
  {
   "cell_type": "markdown",
   "metadata": {},
   "source": [
    "To do so, Nextflow has the concept of Operators to give and pass information inbetween channels.\n",
    "\n",
    "Please answer the questions in $\\texttt{basic\\_channel\\_operations.nf}$ and run the code here. "
   ]
  },
  {
   "cell_type": "code",
   "execution_count": 40,
   "metadata": {
    "ExecuteTime": {
     "end_time": "2024-10-07T08:51:19.169492Z",
     "start_time": "2024-10-07T08:51:12.877099Z"
    }
   },
   "outputs": [
    {
     "name": "stdout",
     "output_type": "stream",
     "text": [
      "\r\n",
      "\u001B[1m\u001B[38;5;232m\u001B[48;5;43m N E X T F L O W \u001B[0;2m  ~  \u001B[mversion 24.04.4\u001B[m\r\n",
      "\u001B[K\r\n",
      "Launching\u001B[35m `basic_channel_operations.nf` \u001B[0;2m[\u001B[0;1;36mfriendly_jennings\u001B[0;2m] DSL2 - \u001B[36mrevision: \u001B[0;36m2db2e609ff\u001B[m\r\n",
      "\u001B[K\r\n",
      "1\r\n"
     ]
    }
   ],
   "source": [
    "# Task 1 - Extract the first item from the channel\n",
    "!nextflow run basic_channel_operations.nf --step 1"
   ]
  },
  {
   "cell_type": "code",
   "execution_count": 41,
   "metadata": {
    "ExecuteTime": {
     "end_time": "2024-10-07T08:51:40.230257Z",
     "start_time": "2024-10-07T08:51:35.658067Z"
    }
   },
   "outputs": [
    {
     "name": "stdout",
     "output_type": "stream",
     "text": [
      "\r\n",
      "\u001B[1m\u001B[38;5;232m\u001B[48;5;43m N E X T F L O W \u001B[0;2m  ~  \u001B[mversion 24.04.4\u001B[m\r\n",
      "\u001B[K\r\n",
      "Launching\u001B[35m `basic_channel_operations.nf` \u001B[0;2m[\u001B[0;1;36mnauseous_hugle\u001B[0;2m] DSL2 - \u001B[36mrevision: \u001B[0;36mf7e51cd82c\u001B[m\r\n",
      "\u001B[K\r\n",
      "3\r\n"
     ]
    }
   ],
   "source": [
    "# Task 2 - Extract the last item from the channel\n",
    "!nextflow run basic_channel_operations.nf --step 2"
   ]
  },
  {
   "cell_type": "code",
   "execution_count": 42,
   "metadata": {
    "ExecuteTime": {
     "end_time": "2024-10-07T08:53:10.477329Z",
     "start_time": "2024-10-07T08:53:04.753632Z"
    }
   },
   "outputs": [
    {
     "name": "stdout",
     "output_type": "stream",
     "text": [
      "\r\n",
      "\u001B[1m\u001B[38;5;232m\u001B[48;5;43m N E X T F L O W \u001B[0;2m  ~  \u001B[mversion 24.04.4\u001B[m\r\n",
      "\u001B[K\r\n",
      "Launching\u001B[35m `basic_channel_operations.nf` \u001B[0;2m[\u001B[0;1;36melated_majorana\u001B[0;2m] DSL2 - \u001B[36mrevision: \u001B[0;36md53f039ffd\u001B[m\r\n",
      "\u001B[K\r\n",
      "1\r\n",
      "2\r\n"
     ]
    }
   ],
   "source": [
    "# Task 3 - Use an operator to extract the first two items from the channel\n",
    "!nextflow run basic_channel_operations.nf --step 3"
   ]
  },
  {
   "cell_type": "code",
   "execution_count": 44,
   "metadata": {
    "ExecuteTime": {
     "end_time": "2024-10-07T08:56:55.500547Z",
     "start_time": "2024-10-07T08:56:49.587063Z"
    }
   },
   "outputs": [
    {
     "name": "stdout",
     "output_type": "stream",
     "text": [
      "\r\n",
      "\u001B[1m\u001B[38;5;232m\u001B[48;5;43m N E X T F L O W \u001B[0;2m  ~  \u001B[mversion 24.04.4\u001B[m\r\n",
      "\u001B[K\r\n",
      "Launching\u001B[35m `basic_channel_operations.nf` \u001B[0;2m[\u001B[0;1;36mmighty_kowalevski\u001B[0;2m] DSL2 - \u001B[36mrevision: \u001B[0;36md842431f5f\u001B[m\r\n",
      "\u001B[K\r\n",
      "4\r\n",
      "9\r\n",
      "16\r\n"
     ]
    }
   ],
   "source": [
    "# Task 4 - Return the squared values of the channel\n",
    "!nextflow run basic_channel_operations.nf --step 4"
   ]
  },
  {
   "cell_type": "code",
   "execution_count": 45,
   "metadata": {
    "ExecuteTime": {
     "end_time": "2024-10-07T08:59:07.221636Z",
     "start_time": "2024-10-07T08:59:02.442210Z"
    }
   },
   "outputs": [
    {
     "name": "stdout",
     "output_type": "stream",
     "text": [
      "\r\n",
      "\u001B[1m\u001B[38;5;232m\u001B[48;5;43m N E X T F L O W \u001B[0;2m  ~  \u001B[mversion 24.04.4\u001B[m\r\n",
      "\u001B[K\r\n",
      "Launching\u001B[35m `basic_channel_operations.nf` \u001B[0;2m[\u001B[0;1;36mzen_bassi\u001B[0;2m] DSL2 - \u001B[36mrevision: \u001B[0;36m2086e43c19\u001B[m\r\n",
      "\u001B[K\r\n",
      "4\r\n",
      "9\r\n"
     ]
    }
   ],
   "source": [
    "# Task 5 - Remember the previous task where you squared the values of the channel. Now, extract the first two items from the squared channel\n",
    "!nextflow run basic_channel_operations.nf --step 5"
   ]
  },
  {
   "cell_type": "code",
   "execution_count": 46,
   "metadata": {
    "ExecuteTime": {
     "end_time": "2024-10-07T09:01:14.170129Z",
     "start_time": "2024-10-07T09:01:09.272557Z"
    }
   },
   "outputs": [
    {
     "name": "stdout",
     "output_type": "stream",
     "text": [
      "\r\n",
      "\u001B[1m\u001B[38;5;232m\u001B[48;5;43m N E X T F L O W \u001B[0;2m  ~  \u001B[mversion 24.04.4\u001B[m\r\n",
      "\u001B[K\r\n",
      "Launching\u001B[35m `basic_channel_operations.nf` \u001B[0;2m[\u001B[0;1;36mpensive_picasso\u001B[0;2m] DSL2 - \u001B[36mrevision: \u001B[0;36mb013159a71\u001B[m\r\n",
      "\u001B[K\r\n",
      "rolyaT\r\n",
      "tfiwS\r\n"
     ]
    }
   ],
   "source": [
    "# Task 6 - Remember when you used bash to reverse the output? Try to use map and Groovy to reverse the output\n",
    "!nextflow run basic_channel_operations.nf --step 6"
   ]
  },
  {
   "cell_type": "code",
   "execution_count": 47,
   "metadata": {
    "ExecuteTime": {
     "end_time": "2024-10-07T09:09:31.454673Z",
     "start_time": "2024-10-07T09:09:24.622703Z"
    }
   },
   "outputs": [
    {
     "name": "stdout",
     "output_type": "stream",
     "text": [
      "\r\n",
      "\u001B[1m\u001B[38;5;232m\u001B[48;5;43m N E X T F L O W \u001B[0;2m  ~  \u001B[mversion 24.04.4\u001B[m\r\n",
      "\u001B[K\r\n",
      "Launching\u001B[35m `basic_channel_operations.nf` \u001B[0;2m[\u001B[0;1;36mexotic_wilson\u001B[0;2m] DSL2 - \u001B[36mrevision: \u001B[0;36mc3ea77a5f1\u001B[m\r\n",
      "\u001B[K\r\n",
      "[SRR5_2.fq, /Users/weronikajaskowiak/Desktop/practical_course_2/day_6/files_dir/SRR5_2.fq]\r\n",
      "[fastq5_2.fq, /Users/weronikajaskowiak/Desktop/practical_course_2/day_6/files_dir/fastq5_2.fq]\r\n",
      "[fastq.fq, /Users/weronikajaskowiak/Desktop/practical_course_2/day_6/files_dir/fastq.fq]\r\n",
      "[fastq4_2.fq, /Users/weronikajaskowiak/Desktop/practical_course_2/day_6/files_dir/fastq4_2.fq]\r\n",
      "[SRR4_2.fq, /Users/weronikajaskowiak/Desktop/practical_course_2/day_6/files_dir/SRR4_2.fq]\r\n",
      "[SRR.fq, /Users/weronikajaskowiak/Desktop/practical_course_2/day_6/files_dir/SRR.fq]\r\n",
      "[SRR3_2.fq, /Users/weronikajaskowiak/Desktop/practical_course_2/day_6/files_dir/SRR3_2.fq]\r\n",
      "[fastq3_2.fq, /Users/weronikajaskowiak/Desktop/practical_course_2/day_6/files_dir/fastq3_2.fq]\r\n",
      "[fastq_1.fq, /Users/weronikajaskowiak/Desktop/practical_course_2/day_6/files_dir/fastq_1.fq]\r\n",
      "[fastq2_2.fq, /Users/weronikajaskowiak/Desktop/practical_course_2/day_6/files_dir/fastq2_2.fq]\r\n",
      "[SRR2_2.fq, /Users/weronikajaskowiak/Desktop/practical_course_2/day_6/files_dir/SRR2_2.fq]\r\n",
      "[fastq1_1.fq, /Users/weronikajaskowiak/Desktop/practical_course_2/day_6/files_dir/fastq1_1.fq]\r\n",
      "[SRR1_1.fq, /Users/weronikajaskowiak/Desktop/practical_course_2/day_6/files_dir/SRR1_1.fq]\r\n",
      "[fastq_2.fq, /Users/weronikajaskowiak/Desktop/practical_course_2/day_6/files_dir/fastq_2.fq]\r\n",
      "[fastq2_1.fq, /Users/weronikajaskowiak/Desktop/practical_course_2/day_6/files_dir/fastq2_1.fq]\r\n",
      "[SRR2_1.fq, /Users/weronikajaskowiak/Desktop/practical_course_2/day_6/files_dir/SRR2_1.fq]\r\n",
      "[fastq1_2.fq, /Users/weronikajaskowiak/Desktop/practical_course_2/day_6/files_dir/fastq1_2.fq]\r\n",
      "[SRR1_2.fq, /Users/weronikajaskowiak/Desktop/practical_course_2/day_6/files_dir/SRR1_2.fq]\r\n",
      "[SRR3_1.fq, /Users/weronikajaskowiak/Desktop/practical_course_2/day_6/files_dir/SRR3_1.fq]\r\n",
      "[fastq3_1.fq, /Users/weronikajaskowiak/Desktop/practical_course_2/day_6/files_dir/fastq3_1.fq]\r\n",
      "[fastq4_1.fq, /Users/weronikajaskowiak/Desktop/practical_course_2/day_6/files_dir/fastq4_1.fq]\r\n",
      "[SRR4_1.fq, /Users/weronikajaskowiak/Desktop/practical_course_2/day_6/files_dir/SRR4_1.fq]\r\n",
      "[SRR5_1.fq, /Users/weronikajaskowiak/Desktop/practical_course_2/day_6/files_dir/SRR5_1.fq]\r\n",
      "[fastq5_1.fq, /Users/weronikajaskowiak/Desktop/practical_course_2/day_6/files_dir/fastq5_1.fq]\r\n"
     ]
    }
   ],
   "source": [
    "# Task 7 - Use fromPath to include all fastq files in the \"files_dir\" directory, then use map to return a pair containing the file name and the file path (Hint: include groovy code)\n",
    "!nextflow run basic_channel_operations.nf --step 7"
   ]
  },
  {
   "cell_type": "code",
   "execution_count": 50,
   "metadata": {
    "ExecuteTime": {
     "end_time": "2024-10-07T09:21:22.981617Z",
     "start_time": "2024-10-07T09:21:16.148466Z"
    }
   },
   "outputs": [
    {
     "name": "stdout",
     "output_type": "stream",
     "text": [
      "\r\n",
      "\u001B[1m\u001B[38;5;232m\u001B[48;5;43m N E X T F L O W \u001B[0;2m  ~  \u001B[mversion 24.04.4\u001B[m\r\n",
      "\u001B[K\r\n",
      "Launching\u001B[35m `basic_channel_operations.nf` \u001B[0;2m[\u001B[0;1;36mmarvelous_church\u001B[0;2m] DSL2 - \u001B[36mrevision: \u001B[0;36mb2ede541a9\u001B[m\r\n",
      "\u001B[K\r\n",
      "1\r\n",
      "2\r\n",
      "3\r\n",
      "4\r\n",
      "5\r\n",
      "6\r\n",
      "a\r\n",
      "b\r\n",
      "c\r\n"
     ]
    }
   ],
   "source": [
    "# Task 8 - Combine the items from the two channels into a single channel\n",
    "!nextflow run basic_channel_operations.nf --step 8"
   ]
  },
  {
   "cell_type": "code",
   "execution_count": 54,
   "metadata": {
    "ExecuteTime": {
     "end_time": "2024-10-07T09:25:06.072465Z",
     "start_time": "2024-10-07T09:25:01.088268Z"
    }
   },
   "outputs": [
    {
     "name": "stdout",
     "output_type": "stream",
     "text": [
      "\r\n",
      "\u001B[1m\u001B[38;5;232m\u001B[48;5;43m N E X T F L O W \u001B[0;2m  ~  \u001B[mversion 24.04.4\u001B[m\r\n",
      "\u001B[K\r\n",
      "Launching\u001B[35m `basic_channel_operations.nf` \u001B[0;2m[\u001B[0;1;36mdeadly_hodgkin\u001B[0;2m] DSL2 - \u001B[36mrevision: \u001B[0;36mbf0e77e78c\u001B[m\r\n",
      "\u001B[K\r\n",
      "1\r\n",
      "2\r\n",
      "3\r\n",
      "4\r\n",
      "5\r\n",
      "6\r\n"
     ]
    }
   ],
   "source": [
    "# Task 9 - Flatten the list in the channel\n",
    "!nextflow run basic_channel_operations.nf --step 9"
   ]
  },
  {
   "cell_type": "code",
   "execution_count": 55,
   "metadata": {
    "ExecuteTime": {
     "end_time": "2024-10-07T09:26:41.773608Z",
     "start_time": "2024-10-07T09:26:36.488504Z"
    }
   },
   "outputs": [
    {
     "name": "stdout",
     "output_type": "stream",
     "text": [
      "\r\n",
      "\u001B[1m\u001B[38;5;232m\u001B[48;5;43m N E X T F L O W \u001B[0;2m  ~  \u001B[mversion 24.04.4\u001B[m\r\n",
      "\u001B[K\r\n",
      "Launching\u001B[35m `basic_channel_operations.nf` \u001B[0;2m[\u001B[0;1;36mecstatic_swanson\u001B[0;2m] DSL2 - \u001B[36mrevision: \u001B[0;36m9679b03459\u001B[m\r\n",
      "\u001B[K\r\n",
      "[1, 2, 3]\r\n"
     ]
    }
   ],
   "source": [
    "# Task 10 - Collect the items of a channel into a list. What kind of channel is the output channel?\n",
    "!nextflow run basic_channel_operations.nf --step 10"
   ]
  },
  {
   "cell_type": "markdown",
   "metadata": {},
   "source": [
    "What kind of channel is the output channel?\n",
    "\n",
    "A value channel containing a single list.\n"
   ]
  },
  {
   "cell_type": "code",
   "execution_count": 58,
   "metadata": {
    "ExecuteTime": {
     "end_time": "2024-10-07T09:39:44.515348Z",
     "start_time": "2024-10-07T09:39:37.363540Z"
    }
   },
   "outputs": [
    {
     "name": "stdout",
     "output_type": "stream",
     "text": [
      "\r\n",
      "\u001B[1m\u001B[38;5;232m\u001B[48;5;43m N E X T F L O W \u001B[0;2m  ~  \u001B[mversion 24.04.4\u001B[m\r\n",
      "\u001B[K\r\n",
      "Launching\u001B[35m `basic_channel_operations.nf` \u001B[0;2m[\u001B[0;1;36mtrusting_lamport\u001B[0;2m] DSL2 - \u001B[36mrevision: \u001B[0;36m44df85efcf\u001B[m\r\n",
      "\u001B[K\r\n",
      "[[1, [V, f, B]], [3, [M, G, 33]], [2, [O, L, E]]]\r\n"
     ]
    }
   ],
   "source": [
    "# Task 11 -  From the input channel, create lists where each first item in the list of lists is the first item in the output channel, followed by a list of all the items its paired with\n",
    "!nextflow run basic_channel_operations.nf --step 11"
   ]
  },
  {
   "cell_type": "code",
   "execution_count": 60,
   "metadata": {
    "ExecuteTime": {
     "end_time": "2024-10-07T09:43:54.134147Z",
     "start_time": "2024-10-07T09:43:47.894420Z"
    }
   },
   "outputs": [
    {
     "name": "stdout",
     "output_type": "stream",
     "text": [
      "\r\n",
      "\u001B[1m\u001B[38;5;232m\u001B[48;5;43m N E X T F L O W \u001B[0;2m  ~  \u001B[mversion 24.04.4\u001B[m\r\n",
      "\u001B[K\r\n",
      "Launching\u001B[35m `basic_channel_operations.nf` \u001B[0;2m[\u001B[0;1;36mcurious_plateau\u001B[0;2m] DSL2 - \u001B[36mrevision: \u001B[0;36m0ddb33d8cc\u001B[m\r\n",
      "\u001B[K\r\n",
      "[1, V, f]\r\n",
      "[3, M, G]\r\n",
      "[2, O, L]\r\n"
     ]
    }
   ],
   "source": [
    "# Task 12 - Create a channel that joins the input to the output channel. What do you notice?\n",
    "!nextflow run basic_channel_operations.nf --step 12"
   ]
  },
  {
   "cell_type": "markdown",
   "metadata": {},
   "source": [
    "Task 12 - What do you notice compared to Task 11?\n",
    "In task 11 group.Tuple() group items in the input channel based on their first element (the key) and collect all associated second elements (the values) into a list.\n",
    "In task 12 join two channels based on their first elements (the keys), this operation pairs items from both channels where the keys match."
   ]
  },
  {
   "cell_type": "code",
   "execution_count": 146,
   "metadata": {
    "ExecuteTime": {
     "end_time": "2024-10-07T13:09:17.816105Z",
     "start_time": "2024-10-07T13:09:12.881920Z"
    }
   },
   "outputs": [
    {
     "name": "stdout",
     "output_type": "stream",
     "text": [
      "\r\n",
      "\u001B[1m\u001B[38;5;232m\u001B[48;5;43m N E X T F L O W \u001B[0;2m  ~  \u001B[mversion 24.04.4\u001B[m\r\n",
      "\u001B[K\r\n",
      "Launching\u001B[35m `basic_channel_operations.nf` \u001B[0;2m[\u001B[0;1;36mnasty_poitras\u001B[0;2m] DSL2 - \u001B[36mrevision: \u001B[0;36m66158b48c1\u001B[m\r\n",
      "\u001B[K\r\n",
      "Odd numbers: [1, 3, 5, 7, 9]\r\n",
      "Even numbers: [2, 4, 6, 8, 10]\r\n"
     ]
    }
   ],
   "source": [
    "# Task 13 - Split the input channel into two channels, one of all the even numbers and the other of all the odd numbers.\n",
    "#           Write them to stdout including information about which is which\n",
    "!nextflow run basic_channel_operations.nf --step 13 -dump-channels"
   ]
  },
  {
   "cell_type": "code",
   "execution_count": 112,
   "metadata": {
    "ExecuteTime": {
     "end_time": "2024-10-07T11:48:11.616608Z",
     "start_time": "2024-10-07T11:48:04.830667Z"
    }
   },
   "outputs": [
    {
     "name": "stdout",
     "output_type": "stream",
     "text": [
      "\r\n",
      "\u001B[1m\u001B[38;5;232m\u001B[48;5;43m N E X T F L O W \u001B[0;2m  ~  \u001B[mversion 24.04.4\u001B[m\r\n",
      "\u001B[K\r\n",
      "Launching\u001B[35m `basic_channel_operations.nf` \u001B[0;2m[\u001B[0;1;36mshrivelled_lorenz\u001B[0;2m] DSL2 - \u001B[36mrevision: \u001B[0;36m66158b48c1\u001B[m\r\n",
      "\u001B[K\r\n",
      "results/names.txt\r\n",
      "Harry\r\n",
      "Ron\r\n",
      "Hermione\r\n",
      "Albus\r\n",
      "Snape\r\n",
      "Hagrid\r\n",
      "Dobby\r\n"
     ]
    }
   ],
   "source": [
    "# Task 14 - Nextflow has the concept of maps. Write the names in the maps in this channel to a file called \"names.txt\". Each name should be on a new line. \n",
    "#           Store the file in the \"results\" directory under the name \"names.txt\"\n",
    "\n",
    "!nextflow run basic_channel_operations.nf --step 14\n",
    "!cat results/names.txt\n"
   ]
  },
  {
   "cell_type": "markdown",
   "metadata": {},
   "source": [
    "## Now that we learned about Channels and Operators to deal with them, let's focus on Processes that make use of these channels."
   ]
  },
  {
   "cell_type": "markdown",
   "metadata": {},
   "source": [
    "Please answer the questions in $\\texttt{basics\\_processes.nf}$ and run the code here. "
   ]
  },
  {
   "cell_type": "code",
   "execution_count": 113,
   "metadata": {
    "ExecuteTime": {
     "end_time": "2024-10-07T11:50:32.852737Z",
     "start_time": "2024-10-07T11:50:26.633462Z"
    }
   },
   "outputs": [
    {
     "name": "stdout",
     "output_type": "stream",
     "text": [
      "\r\n",
      "\u001B[1m\u001B[38;5;232m\u001B[48;5;43m N E X T F L O W \u001B[0;2m  ~  \u001B[mversion 24.04.4\u001B[m\r\n",
      "\u001B[K\r\n",
      "Launching\u001B[35m `basics_processes.nf` \u001B[0;2m[\u001B[0;1;36mdetermined_hodgkin\u001B[0;2m] DSL2 - \u001B[36mrevision: \u001B[0;36m0c7e52c1c3\u001B[m\r\n",
      "\u001B[K\r\n",
      "\u001B[2m[\u001B[0;34m-        \u001B[0;2m] \u001B[0;2m\u001B[mSAYHELLO -\u001B[K\r\n",
      "\u001B[2A\r\n",
      "\u001B[2mexecutor >  local (1)\u001B[m\u001B[K\r\n",
      "\u001B[2m[\u001B[0;34m0a/6f60d2\u001B[0;2m] \u001B[0;2m\u001B[mSAYHELLO\u001B[2m |\u001B[m 0 of 1\u001B[32m ✔\u001B[m\u001B[K\r\n",
      "Hello World!\u001B[K\r\n",
      "\u001B[K\r\n",
      "\u001B[5A\r\n",
      "\u001B[2mexecutor >  local (1)\u001B[m\u001B[K\r\n",
      "\u001B[2m[\u001B[0;34m0a/6f60d2\u001B[0;2m] \u001B[0;2m\u001B[mSAYHELLO\u001B[2m |\u001B[m 1 of 1\u001B[32m ✔\u001B[m\u001B[K\r\n",
      "Hello World!\u001B[K\r\n",
      "\u001B[K\r\n",
      "\r\n"
     ]
    }
   ],
   "source": [
    "# Task 1 - create a process that says Hello World! (add debug true to the process right after initializing to be sable to print the output to the console)\n",
    "!nextflow run basics_processes.nf --step 1"
   ]
  },
  {
   "cell_type": "code",
   "execution_count": 170,
   "metadata": {
    "ExecuteTime": {
     "end_time": "2024-10-07T14:28:05.259920Z",
     "start_time": "2024-10-07T14:27:57.613118Z"
    }
   },
   "outputs": [
    {
     "name": "stdout",
     "output_type": "stream",
     "text": [
      "\r\n",
      "\u001B[1m\u001B[38;5;232m\u001B[48;5;43m N E X T F L O W \u001B[0;2m  ~  \u001B[mversion 24.04.4\u001B[m\r\n",
      "\u001B[K\r\n",
      "Launching\u001B[35m `basics_processes.nf` \u001B[0;2m[\u001B[0;1;36mtender_hopper\u001B[0;2m] DSL2 - \u001B[36mrevision: \u001B[0;36m565048d7ef\u001B[m\r\n",
      "\u001B[K\r\n",
      "\u001B[2m[\u001B[0;34m-        \u001B[0;2m] \u001B[0;2m\u001B[mSAYHELLO_PYTHON -\u001B[K\r\n",
      "\u001B[2A\r\n",
      "\u001B[2mexecutor >  local (1)\u001B[m\u001B[K\r\n",
      "\u001B[2m[\u001B[0;34m75/e5bc7c\u001B[0;2m] \u001B[0;2m\u001B[mSAYHELLO_PYTHON\u001B[2m |\u001B[m 0 of 1\u001B[K\r\n",
      "\u001B[3A\r\n",
      "\u001B[2mexecutor >  local (1)\u001B[m\u001B[K\r\n",
      "\u001B[2m[\u001B[0;34m75/e5bc7c\u001B[0;2m] \u001B[0;2m\u001B[mSAYHELLO_PYTHON\u001B[2m |\u001B[m 0 of 1\u001B[K\r\n",
      "\u001B[3A\r\n",
      "\u001B[2mexecutor >  local (1)\u001B[m\u001B[K\r\n",
      "\u001B[2m[\u001B[0;34m75/e5bc7c\u001B[0;2m] \u001B[0;2m\u001B[mSAYHELLO_PYTHON\u001B[2m |\u001B[m 1 of 1\u001B[32m ✔\u001B[m\u001B[K\r\n",
      "Hello World\u001B[K\r\n",
      "\u001B[K\r\n",
      "\r\n"
     ]
    }
   ],
   "source": [
    "# Task 2 - create a process that says Hello World! using Python\n",
    "!nextflow run basics_processes.nf --step 2"
   ]
  },
  {
   "cell_type": "code",
   "execution_count": 124,
   "metadata": {
    "ExecuteTime": {
     "end_time": "2024-10-07T12:06:04.003277Z",
     "start_time": "2024-10-07T12:05:57.971365Z"
    }
   },
   "outputs": [
    {
     "name": "stdout",
     "output_type": "stream",
     "text": [
      "\r\n",
      "\u001B[1m\u001B[38;5;232m\u001B[48;5;43m N E X T F L O W \u001B[0;2m  ~  \u001B[mversion 24.04.4\u001B[m\r\n",
      "\u001B[K\r\n",
      "Launching\u001B[35m `basics_processes.nf` \u001B[0;2m[\u001B[0;1;36mchaotic_golick\u001B[0;2m] DSL2 - \u001B[36mrevision: \u001B[0;36mc02ac219f8\u001B[m\r\n",
      "\u001B[K\r\n",
      "\u001B[2m[\u001B[0;34m-        \u001B[0;2m] \u001B[0;2m\u001B[mSAYHELLO_PARAM -\u001B[K\r\n",
      "\u001B[2A\r\n",
      "\u001B[2mexecutor >  local (1)\u001B[m\u001B[K\r\n",
      "\u001B[2m[\u001B[0;34mb0/2e6095\u001B[0;2m] \u001B[0;2m\u001B[mSAYHELLO_PARAM\u001B[33;2m (\u001B[0;33m1\u001B[2m)\u001B[m\u001B[2m |\u001B[m 0 of 1\u001B[32m ✔\u001B[m\u001B[K\r\n",
      "Hello world!\u001B[K\r\n",
      "\u001B[K\r\n",
      "\u001B[5A\r\n",
      "\u001B[2mexecutor >  local (1)\u001B[m\u001B[K\r\n",
      "\u001B[2m[\u001B[0;34mb0/2e6095\u001B[0;2m] \u001B[0;2m\u001B[mSAYHELLO_PARAM\u001B[33;2m (\u001B[0;33m1\u001B[2m)\u001B[m\u001B[2m |\u001B[m 1 of 1\u001B[32m ✔\u001B[m\u001B[K\r\n",
      "Hello world!\u001B[K\r\n",
      "\u001B[K\r\n",
      "\r\n"
     ]
    }
   ],
   "source": [
    "# Task 3 - create a process that reads in the string \"Hello world!\" from a channel and write it to command line\n",
    "!nextflow run basics_processes.nf --step 3"
   ]
  },
  {
   "cell_type": "code",
   "execution_count": 126,
   "metadata": {
    "ExecuteTime": {
     "end_time": "2024-10-07T12:09:25.645499Z",
     "start_time": "2024-10-07T12:09:19.729579Z"
    }
   },
   "outputs": [
    {
     "name": "stdout",
     "output_type": "stream",
     "text": [
      "\r\n",
      "\u001B[1m\u001B[38;5;232m\u001B[48;5;43m N E X T F L O W \u001B[0;2m  ~  \u001B[mversion 24.04.4\u001B[m\r\n",
      "\u001B[K\r\n",
      "Launching\u001B[35m `basics_processes.nf` \u001B[0;2m[\u001B[0;1;36mreverent_volta\u001B[0;2m] DSL2 - \u001B[36mrevision: \u001B[0;36mc1e2dd3d39\u001B[m\r\n",
      "\u001B[K\r\n",
      "\u001B[2m[\u001B[0;34m-        \u001B[0;2m] \u001B[0;2m\u001B[mSAYHELLO_FILE -\u001B[K\r\n",
      "\u001B[2A\r\n",
      "\u001B[2mexecutor >  local (1)\u001B[m\u001B[K\r\n",
      "\u001B[2m[\u001B[0;34m79/4bb4cf\u001B[0;2m] \u001B[0;2m\u001B[mSAYHELLO_FILE\u001B[33;2m (\u001B[0;33m1\u001B[2m)\u001B[m\u001B[2m |\u001B[m 0 of 1\u001B[K\r\n",
      "\u001B[3A\r\n",
      "\u001B[2mexecutor >  local (1)\u001B[m\u001B[K\r\n",
      "\u001B[2m[\u001B[0;34m79/4bb4cf\u001B[0;2m] \u001B[0;2m\u001B[mSAYHELLO_FILE\u001B[33;2m (\u001B[0;33m1\u001B[2m)\u001B[m\u001B[2m |\u001B[m 1 of 1\u001B[32m ✔\u001B[m\u001B[K\r\n",
      "\r\n"
     ]
    }
   ],
   "source": [
    "# Task 4 - create a process that reads in the string \"Hello world!\" from a channel and write it to a file. \n",
    "!nextflow run basics_processes.nf --step 4"
   ]
  },
  {
   "cell_type": "markdown",
   "metadata": {},
   "source": [
    "It might be that you created the file but it doesnt appear in the directory. Use the work folder and the output on the command line to find the file.\n",
    "It's here /Users/weronikajaskowiak/Desktop/practical_course_2/day_6/work/79/4bb4cf90334c5b2db5c12c69f5cc27/greeting.txt "
   ]
  },
  {
   "cell_type": "code",
   "execution_count": 138,
   "metadata": {
    "ExecuteTime": {
     "end_time": "2024-10-07T12:46:35.938179Z",
     "start_time": "2024-10-07T12:46:29.603386Z"
    }
   },
   "outputs": [
    {
     "name": "stdout",
     "output_type": "stream",
     "text": [
      "\r\n",
      "\u001B[1m\u001B[38;5;232m\u001B[48;5;43m N E X T F L O W \u001B[0;2m  ~  \u001B[mversion 24.04.4\u001B[m\r\n",
      "\u001B[K\r\n",
      "Launching\u001B[35m `basics_processes.nf` \u001B[0;2m[\u001B[0;1;36mnaughty_solvay\u001B[0;2m] DSL2 - \u001B[36mrevision: \u001B[0;36mbb48580965\u001B[m\r\n",
      "\u001B[K\r\n",
      "\u001B[2m[\u001B[0;34m-        \u001B[0;2m] \u001B[0;2m\u001B[mUPPERCASE -\u001B[K\r\n",
      "\u001B[2A\r\n",
      "\u001B[2mexecutor >  local (1)\u001B[m\u001B[K\r\n",
      "\u001B[2m[\u001B[0;34md9/eeda12\u001B[0;2m] \u001B[0;2m\u001B[mUPPERCASE\u001B[33;2m (\u001B[0;33m1\u001B[2m)\u001B[m\u001B[2m |\u001B[m 1 of 1\u001B[32m ✔\u001B[m\u001B[K\r\n",
      "/Users/weronikajaskowiak/Desktop/practical_course_2/day_6/work/d9/eeda126c5067c7c47ba8be9009f2e6/uppercase_greeting.txt\u001B[K\r\n",
      "\u001B[4A\r\n",
      "\u001B[2mexecutor >  local (1)\u001B[m\u001B[K\r\n",
      "\u001B[2m[\u001B[0;34md9/eeda12\u001B[0;2m] \u001B[0;2m\u001B[mUPPERCASE\u001B[33;2m (\u001B[0;33m1\u001B[2m)\u001B[m\u001B[2m |\u001B[m 1 of 1\u001B[32m ✔\u001B[m\u001B[K\r\n",
      "/Users/weronikajaskowiak/Desktop/practical_course_2/day_6/work/d9/eeda126c5067c7c47ba8be9009f2e6/uppercase_greeting.txt\u001B[K\r\n",
      "\r\n"
     ]
    }
   ],
   "source": [
    "# Task 5 - create a process that reads in a string and converts it to uppercase and saves it to a file as output. View the path to the file in the console\n",
    "!nextflow run basics_processes.nf --step 5"
   ]
  },
  {
   "cell_type": "code",
   "execution_count": 137,
   "metadata": {
    "ExecuteTime": {
     "end_time": "2024-10-07T12:46:08.641844Z",
     "start_time": "2024-10-07T12:46:01.328075Z"
    }
   },
   "outputs": [
    {
     "name": "stdout",
     "output_type": "stream",
     "text": [
      "\r\n",
      "\u001B[1m\u001B[38;5;232m\u001B[48;5;43m N E X T F L O W \u001B[0;2m  ~  \u001B[mversion 24.04.4\u001B[m\r\n",
      "\u001B[K\r\n",
      "Launching\u001B[35m `basics_processes.nf` \u001B[0;2m[\u001B[0;1;36mintergalactic_lalande\u001B[0;2m] DSL2 - \u001B[36mrevision: \u001B[0;36mbb48580965\u001B[m\r\n",
      "\u001B[K\r\n",
      "\u001B[2m[\u001B[0;34m-        \u001B[0;2m] \u001B[0;2m\u001B[mUPPERCASE  -\u001B[K\r\n",
      "\u001B[2m[\u001B[0;34m-        \u001B[0;2m] \u001B[0;2m\u001B[mPRINTUPPER -\u001B[K\r\n",
      "\u001B[3A\r\n",
      "\u001B[2mexecutor >  local (2)\u001B[m\u001B[K\r\n",
      "\u001B[2m[\u001B[0;34m5b/bf92a2\u001B[0;2m] \u001B[0;2m\u001B[mUPPERCASE\u001B[33;2m (\u001B[0;33m1\u001B[2m)\u001B[m \u001B[2m |\u001B[m 1 of 1\u001B[32m ✔\u001B[m\u001B[K\r\n",
      "\u001B[2m[\u001B[0;34mfa/d36834\u001B[0;2m] \u001B[0;2m\u001B[mPRINTUPPER\u001B[33;2m (\u001B[0;33m1\u001B[2m)\u001B[m\u001B[2m |\u001B[m 0 of 1\u001B[K\r\n",
      "\u001B[4A\r\n",
      "\u001B[2mexecutor >  local (2)\u001B[m\u001B[K\r\n",
      "\u001B[2m[\u001B[0;34m5b/bf92a2\u001B[0;2m] \u001B[0;2m\u001B[mUPPERCASE\u001B[33;2m (\u001B[0;33m1\u001B[2m)\u001B[m \u001B[2m |\u001B[m 1 of 1\u001B[32m ✔\u001B[m\u001B[K\r\n",
      "\u001B[2m[\u001B[0;34mfa/d36834\u001B[0;2m] \u001B[0;2m\u001B[mPRINTUPPER\u001B[33;2m (\u001B[0;33m1\u001B[2m)\u001B[m\u001B[2m |\u001B[m 1 of 1\u001B[32m ✔\u001B[m\u001B[K\r\n",
      "HELLO WORLD!\u001B[K\r\n",
      "\u001B[K\r\n",
      "\r\n"
     ]
    }
   ],
   "source": [
    "# Task 6 - add another process that reads in the resulting file from UPPERCASE and print the content to the console (debug true).\n",
    "!nextflow run basics_processes.nf --step 6"
   ]
  },
  {
   "cell_type": "markdown",
   "metadata": {},
   "source": [
    "Compared to all the other runs. What changed in the output here and why?\n",
    "Now two processes are executed. "
   ]
  },
  {
   "cell_type": "code",
   "execution_count": 176,
   "metadata": {
    "ExecuteTime": {
     "end_time": "2024-10-07T15:25:33.389511Z",
     "start_time": "2024-10-07T15:25:26.646060Z"
    }
   },
   "outputs": [
    {
     "name": "stdout",
     "output_type": "stream",
     "text": [
      "\r\n",
      "\u001B[1m\u001B[38;5;232m\u001B[48;5;43m N E X T F L O W \u001B[0;2m  ~  \u001B[mversion 24.04.4\u001B[m\r\n",
      "\u001B[K\r\n",
      "Launching\u001B[35m `basics_processes.nf` \u001B[0;2m[\u001B[0;1;36mawesome_pike\u001B[0;2m] DSL2 - \u001B[36mrevision: \u001B[0;36m9e6544469a\u001B[m\r\n",
      "\u001B[K\r\n",
      "\u001B[2m[\u001B[0;34m-        \u001B[0;2m] \u001B[0;2m\u001B[mUPPERCASE -\u001B[K\r\n",
      "\u001B[2m[\u001B[0;34m-        \u001B[0;2m] \u001B[0;2m\u001B[mZIPFILE   -\u001B[K\r\n",
      "\u001B[3A\r\n",
      "\u001B[2mexecutor >  local (1)\u001B[m\u001B[K\r\n",
      "\u001B[2m[\u001B[0;34m10/5708dc\u001B[0;2m] \u001B[0;2m\u001B[mUPPERCASE\u001B[33;2m (\u001B[0;33m1\u001B[2m)\u001B[m\u001B[2m |\u001B[m 0 of 1\u001B[K\r\n",
      "\u001B[2m[\u001B[0;34m-        \u001B[0;2m] \u001B[0;2m\u001B[mZIPFILE       -\u001B[K\r\n",
      "\u001B[4A\r\n",
      "\u001B[2mexecutor >  local (2)\u001B[m\u001B[K\r\n",
      "\u001B[2m[\u001B[0;34m10/5708dc\u001B[0;2m] \u001B[0;2m\u001B[mUPPERCASE\u001B[33;2m (\u001B[0;33m1\u001B[2m)\u001B[m\u001B[2m |\u001B[m 1 of 1\u001B[32m ✔\u001B[m\u001B[K\r\n",
      "\u001B[2m[\u001B[0;34mdc/e6e4e6\u001B[0;2m] \u001B[0;2m\u001B[mZIPFILE\u001B[33;2m (\u001B[0;33m1\u001B[2m)\u001B[m  \u001B[2m |\u001B[m 0 of 1\u001B[K\r\n",
      "\u001B[4A\r\n",
      "\u001B[2mexecutor >  local (2)\u001B[m\u001B[K\r\n",
      "\u001B[2m[\u001B[0;34m10/5708dc\u001B[0;2m] \u001B[0;2m\u001B[mUPPERCASE\u001B[33;2m (\u001B[0;33m1\u001B[2m)\u001B[m\u001B[2m |\u001B[m 1 of 1\u001B[32m ✔\u001B[m\u001B[K\r\n",
      "\u001B[2m[\u001B[0;34mdc/e6e4e6\u001B[0;2m] \u001B[0;2m\u001B[mZIPFILE\u001B[33;2m (\u001B[0;33m1\u001B[2m)\u001B[m  \u001B[2m |\u001B[m 1 of 1\u001B[32m ✔\u001B[m\u001B[K\r\n",
      "  adding: uppercase_greeting.txt (stored 0%)\u001B[K\r\n",
      "\u001B[K\r\n",
      "Zipped file: /Users/weronikajaskowiak/Desktop/practical_course_2/day_6/work/dc/e6e4e65edc93b4410bdf1857402c53/output_compressed.zip\u001B[K\r\n",
      "\r\n"
     ]
    }
   ],
   "source": [
    "# Task 7 - based on the paramater \"zip\" (see at the head of the file), create a process that zips the file created in the UPPERCASE process either in \"zip\", \"gzip\" OR \"bzip2\" format.\n",
    "#          Print out the path to the zipped file in the console\n",
    "!nextflow run basics_processes.nf --step 7 "
   ]
  },
  {
   "cell_type": "code",
   "execution_count": 177,
   "metadata": {
    "ExecuteTime": {
     "end_time": "2024-10-07T15:26:52.851622Z",
     "start_time": "2024-10-07T15:26:46.315989Z"
    }
   },
   "outputs": [
    {
     "name": "stdout",
     "output_type": "stream",
     "text": [
      "\r\n",
      "\u001B[1m\u001B[38;5;232m\u001B[48;5;43m N E X T F L O W \u001B[0;2m  ~  \u001B[mversion 24.04.4\u001B[m\r\n",
      "\u001B[K\r\n",
      "Launching\u001B[35m `basics_processes.nf` \u001B[0;2m[\u001B[0;1;36mirreverent_ardinghelli\u001B[0;2m] DSL2 - \u001B[36mrevision: \u001B[0;36m66074add1d\u001B[m\r\n",
      "\u001B[K\r\n",
      "\u001B[2m[\u001B[0;34m-        \u001B[0;2m] \u001B[0;2m\u001B[mUPPERCASE -\u001B[K\r\n",
      "\u001B[2m[\u001B[0;34m-        \u001B[0;2m] \u001B[0;2m\u001B[mZIP_ALL   -\u001B[K\r\n",
      "\u001B[3A\r\n",
      "\u001B[2mexecutor >  local (1)\u001B[m\u001B[K\r\n",
      "\u001B[2m[\u001B[0;34me2/c5f22c\u001B[0;2m] \u001B[0;2m\u001B[mUPPERCASE\u001B[33;2m (\u001B[0;33m1\u001B[2m)\u001B[m\u001B[2m |\u001B[m 0 of 1\u001B[K\r\n",
      "\u001B[2m[\u001B[0;34m-        \u001B[0;2m] \u001B[0;2m\u001B[mZIP_ALL       -\u001B[K\r\n",
      "\u001B[4A\r\n",
      "\u001B[2mexecutor >  local (2)\u001B[m\u001B[K\r\n",
      "\u001B[2m[\u001B[0;34me2/c5f22c\u001B[0;2m] \u001B[0;2m\u001B[mUPPERCASE\u001B[33;2m (\u001B[0;33m1\u001B[2m)\u001B[m\u001B[2m |\u001B[m 1 of 1\u001B[32m ✔\u001B[m\u001B[K\r\n",
      "\u001B[2m[\u001B[0;34mdb/97d532\u001B[0;2m] \u001B[0;2m\u001B[mZIP_ALL\u001B[33;2m (\u001B[0;33m1\u001B[2m)\u001B[m  \u001B[2m |\u001B[m 0 of 1\u001B[K\r\n",
      "\u001B[4A\r\n",
      "\u001B[2mexecutor >  local (2)\u001B[m\u001B[K\r\n",
      "\u001B[2m[\u001B[0;34me2/c5f22c\u001B[0;2m] \u001B[0;2m\u001B[mUPPERCASE\u001B[33;2m (\u001B[0;33m1\u001B[2m)\u001B[m\u001B[2m |\u001B[m 1 of 1\u001B[32m ✔\u001B[m\u001B[K\r\n",
      "\u001B[2m[\u001B[0;34mdb/97d532\u001B[0;2m] \u001B[0;2m\u001B[mZIP_ALL\u001B[33;2m (\u001B[0;33m1\u001B[2m)\u001B[m  \u001B[2m |\u001B[m 1 of 1\u001B[32m ✔\u001B[m\u001B[K\r\n",
      "  adding: uppercase_greeting.txt (stored 0%)\u001B[K\r\n",
      "\u001B[K\r\n",
      "[/Users/weronikajaskowiak/Desktop/practical_course_2/day_6/work/db/97d532ebc755e570c0da364aecda41/greeting_uppercase.txt.bz2, /Users/weronikajaskowiak/Desktop/practical_course_2/day_6/work/db/97d532ebc755e570c0da364aecda41/greeting_uppercase.txt.gz, /Users/weronikajaskowiak/Desktop/practical_course_2/day_6/work/db/97d532ebc755e570c0da364aecda41/greeting_uppercase.zip]\u001B[K\r\n",
      "\r\n"
     ]
    }
   ],
   "source": [
    "# Task 8 - Create a process that zips the file created in the UPPERCASE process in \"zip\", \"gzip\" AND \"bzip2\" format. Print out the paths to the zipped files in the console\n",
    "!nextflow run basics_processes.nf --step 8 "
   ]
  },
  {
   "cell_type": "code",
   "execution_count": 189,
   "metadata": {
    "ExecuteTime": {
     "end_time": "2024-10-07T16:02:43.301858Z",
     "start_time": "2024-10-07T16:02:35.382558Z"
    }
   },
   "outputs": [
    {
     "name": "stdout",
     "output_type": "stream",
     "text": [
      "\r\n",
      "\u001B[1m\u001B[38;5;232m\u001B[48;5;43m N E X T F L O W \u001B[0;2m  ~  \u001B[mversion 24.04.4\u001B[m\r\n",
      "\u001B[K\r\n",
      "Launching\u001B[35m `basics_processes.nf` \u001B[0;2m[\u001B[0;1;36msmall_dubinsky\u001B[0;2m] DSL2 - \u001B[36mrevision: \u001B[0;36maa93357d4b\u001B[m\r\n",
      "\u001B[K\r\n",
      "\u001B[2m[\u001B[0;34m-        \u001B[0;2m] \u001B[0;2m\u001B[mWRITEOFFILE -\u001B[K\r\n",
      "\u001B[2A\r\n",
      "\u001B[2m[\u001B[0;34m-        \u001B[0;2m] \u001B[0;2m\u001B[mWRITEOFFILE\u001B[2m |\u001B[m 0 of 7\u001B[K\r\n",
      "\u001B[2A\r\n",
      "\u001B[2mexecutor >  local (6)\u001B[m\u001B[K\r\n",
      "\u001B[2m[\u001B[0;34m30/96db9c\u001B[0;2m] \u001B[0;2m\u001B[mWRITEOFFILE\u001B[33;2m (\u001B[0;33m7\u001B[2m)\u001B[m\u001B[2m |\u001B[m 0 of 7\u001B[K\r\n",
      "\u001B[3A\r\n",
      "\u001B[2mexecutor >  local (7)\u001B[m\u001B[K\r\n",
      "\u001B[2m[\u001B[0;34m86/4a42d8\u001B[0;2m] \u001B[0;2m\u001B[mWRITEOFFILE\u001B[33;2m (\u001B[0;33m5\u001B[2m)\u001B[m\u001B[2m |\u001B[m 7 of 7\u001B[32m ✔\u001B[m\u001B[K\r\n",
      "\u001B[3A\r\n",
      "\u001B[2mexecutor >  local (7)\u001B[m\u001B[K\r\n",
      "\u001B[2m[\u001B[0;34m86/4a42d8\u001B[0;2m] \u001B[0;2m\u001B[mWRITEOFFILE\u001B[33;2m (\u001B[0;33m5\u001B[2m)\u001B[m\u001B[2m |\u001B[m 7 of 7\u001B[32m ✔\u001B[m\u001B[K\r\n",
      "results/names.tsv\u001B[K\r\n",
      "\r\n"
     ]
    }
   ],
   "source": [
    " # Task 9 - Create a process that reads in a list of names and titles from a channel and writes them to a file.\n",
    "#           Store the file in the \"results\" directory under the name \"names.tsv\"\n",
    "!nextflow run basics_processes.nf --step 9"
   ]
  },
  {
   "cell_type": "code",
   "execution_count": 190,
   "metadata": {
    "ExecuteTime": {
     "end_time": "2024-10-07T16:04:35.760299Z",
     "start_time": "2024-10-07T16:04:31.669080Z"
    }
   },
   "outputs": [
    {
     "data": {
      "text/plain": "       name         title\n0     Harry       student\n1     Snape       teacher\n2     Dobby          hero\n3     Albus    headmaster\n4  Hermione       student\n5       Ron       student\n6    Hagrid  groundkeeper",
      "text/html": "<div>\n<style scoped>\n    .dataframe tbody tr th:only-of-type {\n        vertical-align: middle;\n    }\n\n    .dataframe tbody tr th {\n        vertical-align: top;\n    }\n\n    .dataframe thead th {\n        text-align: right;\n    }\n</style>\n<table border=\"1\" class=\"dataframe\">\n  <thead>\n    <tr style=\"text-align: right;\">\n      <th></th>\n      <th>name</th>\n      <th>title</th>\n    </tr>\n  </thead>\n  <tbody>\n    <tr>\n      <th>0</th>\n      <td>Harry</td>\n      <td>student</td>\n    </tr>\n    <tr>\n      <th>1</th>\n      <td>Snape</td>\n      <td>teacher</td>\n    </tr>\n    <tr>\n      <th>2</th>\n      <td>Dobby</td>\n      <td>hero</td>\n    </tr>\n    <tr>\n      <th>3</th>\n      <td>Albus</td>\n      <td>headmaster</td>\n    </tr>\n    <tr>\n      <th>4</th>\n      <td>Hermione</td>\n      <td>student</td>\n    </tr>\n    <tr>\n      <th>5</th>\n      <td>Ron</td>\n      <td>student</td>\n    </tr>\n    <tr>\n      <th>6</th>\n      <td>Hagrid</td>\n      <td>groundkeeper</td>\n    </tr>\n  </tbody>\n</table>\n</div>"
     },
     "execution_count": 190,
     "metadata": {},
     "output_type": "execute_result"
    }
   ],
   "source": [
    "import pandas as pd\n",
    "\n",
    "df = pd.read_csv(\"results/names.tsv\", sep=\"\\t\")\n",
    "df"
   ]
  },
  {
   "cell_type": "markdown",
   "metadata": {},
   "source": [
    "## Now, let's try some more advanced Operators"
   ]
  },
  {
   "cell_type": "markdown",
   "metadata": {},
   "source": [
    "Please answer the questions in $\\texttt{advanced\\_channel\\_operations.nf}$ and run the code here. "
   ]
  },
  {
   "cell_type": "markdown",
   "metadata": {},
   "source": [
    "To come closer to actual pipelines, we introduce the concept of \"meta-maps\" which you can imagine as dictionaries that are passed with data via channels containing crucial metadata on the sample. \n",
    "\n",
    "Also, we will come back to samplesheets which you should remember from last week."
   ]
  },
  {
   "cell_type": "code",
   "execution_count": 32,
   "metadata": {
    "ExecuteTime": {
     "end_time": "2024-10-07T17:43:49.340534Z",
     "start_time": "2024-10-07T17:43:44.574394Z"
    }
   },
   "outputs": [
    {
     "name": "stdout",
     "output_type": "stream",
     "text": [
      "\r\n",
      "\u001B[1m\u001B[38;5;232m\u001B[48;5;43m N E X T F L O W \u001B[0;2m  ~  \u001B[mversion 24.04.4\u001B[m\r\n",
      "\u001B[K\r\n",
      "Launching\u001B[35m `advanced_channel_operations.nf` \u001B[0;2m[\u001B[0;1;36mcurious_bohr\u001B[0;2m] DSL2 - \u001B[36mrevision: \u001B[0;36m0c14abab41\u001B[m\r\n",
      "\u001B[K\r\n",
      "[sample:CONTROL_REP1, fastq_1:fq_1_R1.fastq.gz, fastq_2:fq_1_R2.fastq.gz, strandedness:auto]\r\n",
      "[sample:CONTROL_REP2, fastq_1:fq_2_R1.fastq.gz, fastq_2:fq_2_R2.fastq.gz, strandedness:forward]\r\n",
      "[sample:CONTROL_REP3, fastq_1:fq_3_R1.fastq.gz, fastq_2:fq_3_R2.fastq.gz, strandedness:reverse]\r\n",
      "[sample:CONTROL_REP1, fastq_1:fq_4_R1.fastq.gz, fastq_2:fq_4_R2.fastq.gz, strandedness:auto]\r\n"
     ]
    }
   ],
   "source": [
    "# Task 1 - Read in the samplesheet.\n",
    "\n",
    "!nextflow run advanced_channel_operations.nf --step 1"
   ]
  },
  {
   "cell_type": "code",
   "execution_count": 19,
   "metadata": {
    "ExecuteTime": {
     "end_time": "2024-10-08T07:32:57.691677Z",
     "start_time": "2024-10-08T07:32:52.391126Z"
    }
   },
   "outputs": [
    {
     "name": "stdout",
     "output_type": "stream",
     "text": [
      "\r\n",
      "\u001B[1m\u001B[38;5;232m\u001B[48;5;43m N E X T F L O W \u001B[0;2m  ~  \u001B[mversion 24.04.4\u001B[m\r\n",
      "\u001B[K\r\n",
      "Launching\u001B[35m `advanced_channel_operations.nf` \u001B[0;2m[\u001B[0;1;36msmall_mirzakhani\u001B[0;2m] DSL2 - \u001B[36mrevision: \u001B[0;36m9d3cc65262\u001B[m\r\n",
      "\u001B[K\r\n",
      "[[sample:CONTROL_REP1, strandedness:auto], [fq_1_R1.fastq.gz, fq_1_R2.fastq.gz]]\r\n",
      "[[sample:CONTROL_REP2, strandedness:forward], [fq_2_R1.fastq.gz, fq_2_R2.fastq.gz]]\r\n",
      "[[sample:CONTROL_REP3, strandedness:reverse], [fq_3_R1.fastq.gz, fq_3_R2.fastq.gz]]\r\n",
      "[[sample:CONTROL_REP1, strandedness:auto], [fq_4_R1.fastq.gz, fq_4_R2.fastq.gz]]\r\n"
     ]
    }
   ],
   "source": [
    "# Task 2 - Read in the samplesheet and create a meta-map with all metadata and another list with the filenames ([[metadata_1 : metadata_1, ...], [fastq_1, fastq_2]]).\n",
    "#          Set the output to a new channel \"in_ch\" and view the channel. YOU WILL NEED TO COPY AND PASTE THIS CODE INTO SOME OF THE FOLLOWING TASKS (sorry for that).\n",
    "\n",
    "!nextflow run advanced_channel_operations.nf --step 2"
   ]
  },
  {
   "cell_type": "code",
   "execution_count": 20,
   "metadata": {
    "ExecuteTime": {
     "end_time": "2024-10-08T07:33:06.323183Z",
     "start_time": "2024-10-08T07:33:01.220756Z"
    }
   },
   "outputs": [
    {
     "name": "stdout",
     "output_type": "stream",
     "text": [
      "\r\n",
      "\u001B[1m\u001B[38;5;232m\u001B[48;5;43m N E X T F L O W \u001B[0;2m  ~  \u001B[mversion 24.04.4\u001B[m\r\n",
      "\u001B[K\r\n",
      "Launching\u001B[35m `advanced_channel_operations.nf` \u001B[0;2m[\u001B[0;1;36mlethal_varahamihira\u001B[0;2m] DSL2 - \u001B[36mrevision: \u001B[0;36m9d3cc65262\u001B[m\r\n",
      "\u001B[K\r\n",
      "Auto: [[sample:CONTROL_REP1, strandedness:auto], [fq_1_R1.fastq.gz, fq_1_R2.fastq.gz]]\r\n",
      "Forward: [[sample:CONTROL_REP2, strandedness:forward], [fq_2_R1.fastq.gz, fq_2_R2.fastq.gz]]\r\n",
      "Reverse: [[sample:CONTROL_REP3, strandedness:reverse], [fq_3_R1.fastq.gz, fq_3_R2.fastq.gz]]\r\n",
      "Auto: [[sample:CONTROL_REP1, strandedness:auto], [fq_4_R1.fastq.gz, fq_4_R2.fastq.gz]]\r\n"
     ]
    }
   ],
   "source": [
    "# Task 3 - Now we assume that we want to handle different \"strandedness\" values differently. \n",
    "#          Split the channel into the right amount of channels and write them all to stdout so that we can understand which is which.\n",
    "\n",
    "!nextflow run advanced_channel_operations.nf --step 3 "
   ]
  },
  {
   "cell_type": "code",
   "execution_count": 23,
   "metadata": {
    "ExecuteTime": {
     "end_time": "2024-10-08T07:37:56.603695Z",
     "start_time": "2024-10-08T07:37:51.268928Z"
    }
   },
   "outputs": [
    {
     "name": "stdout",
     "output_type": "stream",
     "text": [
      "\r\n",
      "\u001B[1m\u001B[38;5;232m\u001B[48;5;43m N E X T F L O W \u001B[0;2m  ~  \u001B[mversion 24.04.4\u001B[m\r\n",
      "\u001B[K\r\n",
      "Launching\u001B[35m `advanced_channel_operations.nf` \u001B[0;2m[\u001B[0;1;36mastonishing_franklin\u001B[0;2m] DSL2 - \u001B[36mrevision: \u001B[0;36mf234ad505a\u001B[m\r\n",
      "\u001B[K\r\n",
      "[[CONTROL_REP1, auto], [[fq_1_R1.fastq.gz, fq_1_R2.fastq.gz], [fq_4_R1.fastq.gz, fq_4_R2.fastq.gz]]]\r\n",
      "[[CONTROL_REP2, forward], [[fq_2_R1.fastq.gz, fq_2_R2.fastq.gz]]]\r\n",
      "[[CONTROL_REP3, reverse], [[fq_3_R1.fastq.gz, fq_3_R2.fastq.gz]]]\r\n"
     ]
    }
   ],
   "source": [
    "# Task 4 - Group together all files with the same sample-id and strandedness value.\n",
    "\n",
    "!nextflow run advanced_channel_operations.nf --step 4"
   ]
  },
  {
   "cell_type": "markdown",
   "metadata": {
    "ExecuteTime": {
     "end_time": "2024-10-07T18:36:20.649507Z",
     "start_time": "2024-10-07T18:36:16.630490Z"
    }
   },
   "source": [
    "## It's finally time to link processes and channels with each other"
   ]
  },
  {
   "cell_type": "markdown",
   "metadata": {},
   "source": [
    "Please go to the file $\\texttt{link\\_p\\_c.nf}$"
   ]
  },
  {
   "cell_type": "code",
   "execution_count": 1,
   "metadata": {
    "ExecuteTime": {
     "end_time": "2024-10-12T15:07:55.728358Z",
     "start_time": "2024-10-12T15:07:41.066977Z"
    }
   },
   "outputs": [
    {
     "name": "stdout",
     "output_type": "stream",
     "text": [
      "\r\n",
      "\u001B[1m\u001B[38;5;232m\u001B[48;5;43m N E X T F L O W \u001B[0;2m  ~  \u001B[mversion 24.04.4\u001B[m\r\n",
      "\u001B[K\r\n",
      "Launching\u001B[35m `link_p_c.nf` \u001B[0;2m[\u001B[0;1;36mcompassionate_leavitt\u001B[0;2m] DSL2 - \u001B[36mrevision: \u001B[0;36m3da6584695\u001B[m\r\n",
      "\u001B[K\r\n",
      "\u001B[2m[\u001B[0;34m-        \u001B[0;2m] \u001B[0;2m\u001B[mSPLITLETTERS   -\u001B[K\r\n",
      "\u001B[2m[\u001B[0;34m-        \u001B[0;2m] \u001B[0;2m\u001B[mCONVERTTOUPPER -\u001B[K\r\n",
      "\u001B[3A\r\n",
      "\u001B[2mexecutor >  local (2)\u001B[m\u001B[K\r\n",
      "\u001B[2m[\u001B[0;34m20/ce6bb2\u001B[0;2m] \u001B[0;2m\u001B[mSPLITLETTERS\u001B[33;2m (\u001B[0;33m2\u001B[2m)\u001B[m\u001B[2m |\u001B[m 0 of 2\u001B[K\r\n",
      "\u001B[2m[\u001B[0;34m-        \u001B[0;2m] \u001B[0;2m\u001B[mCONVERTTOUPPER   -\u001B[K\r\n",
      "\u001B[4A\r\n",
      "\u001B[2mexecutor >  local (2)\u001B[m\u001B[K\r\n",
      "\u001B[2m[\u001B[0;34m20/ce6bb2\u001B[0;2m] \u001B[0;2m\u001B[mSPLITLETTERS\u001B[33;2m (\u001B[0;33m2\u001B[2m)\u001B[m\u001B[2m |\u001B[m 2 of 2\u001B[32m ✔\u001B[m\u001B[K\r\n",
      "\u001B[2m[\u001B[0;34m-        \u001B[0;2m] \u001B[0;2m\u001B[mCONVERTTOUPPER  \u001B[2m |\u001B[m 0 of 2\u001B[K\r\n",
      "[/Users/weronikajaskowiak/Desktop/practical_course_2/day_6/work/20/ce6bb24f3abf8e4dec9a1afe23fe90/c_w_chunk_aa, /Users/weronikajaskowiak/Desktop/practical_course_2/day_6/work/20/ce6bb24f3abf8e4dec9a1afe23fe90/c_w_chunk_ab, /Users/weronikajaskowiak/Desktop/practical_course_2/day_6/work/20/ce6bb24f3abf8e4dec9a1afe23fe90/c_w_chunk_ac, /Users/weronikajaskowiak/Desktop/practical_course_2/day_6/work/20/ce6bb24f3abf8e4dec9a1afe23fe90/c_w_chunk_ad, /Users/weronikajaskowiak/Desktop/practical_course_2/day_6/work/20/ce6bb24f3abf8e4dec9a1afe23fe90/c_w_chunk_ae, /Users/weronikajaskowiak/Desktop/practical_course_2/day_6/work/20/ce6bb24f3abf8e4dec9a1afe23fe90/c_w_chunk_af, /Users/weronikajaskowiak/Desktop/practical_course_2/day_6/work/20/ce6bb24f3abf8e4dec9a1afe23fe90/c_w_chunk_ag, /Users/weronikajaskowiak/Desktop/practical_course_2/day_6/work/20/ce6bb24f3abf8e4dec9a1afe23fe90/c_w_chunk_ah]\u001B[K\r\n",
      "[/Users/weronikajaskowiak/Desktop/practical_course_2/day_6/work/00/65a4fba2e6d2f78dbfa1a0361e474a/h_w_chunk_aa, /Users/weronikajaskowiak/Desktop/practical_course_2/day_6/work/00/65a4fba2e6d2f78dbfa1a0361e474a/h_w_chunk_ab, /Users/weronikajaskowiak/Desktop/practical_course_2/day_6/work/00/65a4fba2e6d2f78dbfa1a0361e474a/h_w_chunk_ac]\u001B[K\r\n",
      "\u001B[6A\r\n",
      "\u001B[2mexecutor >  local (9)\u001B[m\u001B[K\r\n",
      "\u001B[2m[\u001B[0;34m20/ce6bb2\u001B[0;2m] \u001B[0;2m\u001B[mSPLITLETTERS\u001B[33;2m (\u001B[0;33m2\u001B[2m)\u001B[m  \u001B[2m |\u001B[m 2 of 2\u001B[32m ✔\u001B[m\u001B[K\r\n",
      "\u001B[2m[\u001B[0;34m3c/dd6dc8\u001B[0;2m] \u001B[0;2m\u001B[mCONVERTTOUPPER\u001B[33;2m (\u001B[0;33m8\u001B[2m)\u001B[m\u001B[2m |\u001B[m 1 of 11\u001B[K\r\n",
      "[/Users/weronikajaskowiak/Desktop/practical_course_2/day_6/work/20/ce6bb24f3abf8e4dec9a1afe23fe90/c_w_chunk_aa, /Users/weronikajaskowiak/Desktop/practical_course_2/day_6/work/20/ce6bb24f3abf8e4dec9a1afe23fe90/c_w_chunk_ab, /Users/weronikajaskowiak/Desktop/practical_course_2/day_6/work/20/ce6bb24f3abf8e4dec9a1afe23fe90/c_w_chunk_ac, /Users/weronikajaskowiak/Desktop/practical_course_2/day_6/work/20/ce6bb24f3abf8e4dec9a1afe23fe90/c_w_chunk_ad, /Users/weronikajaskowiak/Desktop/practical_course_2/day_6/work/20/ce6bb24f3abf8e4dec9a1afe23fe90/c_w_chunk_ae, /Users/weronikajaskowiak/Desktop/practical_course_2/day_6/work/20/ce6bb24f3abf8e4dec9a1afe23fe90/c_w_chunk_af, /Users/weronikajaskowiak/Desktop/practical_course_2/day_6/work/20/ce6bb24f3abf8e4dec9a1afe23fe90/c_w_chunk_ag, /Users/weronikajaskowiak/Desktop/practical_course_2/day_6/work/20/ce6bb24f3abf8e4dec9a1afe23fe90/c_w_chunk_ah]\u001B[K\r\n",
      "[/Users/weronikajaskowiak/Desktop/practical_course_2/day_6/work/00/65a4fba2e6d2f78dbfa1a0361e474a/h_w_chunk_aa, /Users/weronikajaskowiak/Desktop/practical_course_2/day_6/work/00/65a4fba2e6d2f78dbfa1a0361e474a/h_w_chunk_ab, /Users/weronikajaskowiak/Desktop/practical_course_2/day_6/work/00/65a4fba2e6d2f78dbfa1a0361e474a/h_w_chunk_ac]\u001B[K\r\n",
      "ONA\u001B[K\r\n",
      "\u001B[7A\r\n",
      "\u001B[2mexecutor >  local (13)\u001B[m\u001B[K\r\n",
      "\u001B[2m[\u001B[0;34m20/ce6bb2\u001B[0;2m] \u001B[0;2m\u001B[mSPLITLETTERS\u001B[33;2m (\u001B[0;33m2\u001B[2m)\u001B[m   \u001B[2m |\u001B[m 2 of 2\u001B[32m ✔\u001B[m\u001B[K\r\n",
      "\u001B[2m[\u001B[0;34m96/dbfb4c\u001B[0;2m] \u001B[0;2m\u001B[mCONVERTTOUPPER\u001B[33;2m (\u001B[0;33m11\u001B[2m)\u001B[m\u001B[2m |\u001B[m 9 of 11\u001B[K\r\n",
      "[/Users/weronikajaskowiak/Desktop/practical_course_2/day_6/work/20/ce6bb24f3abf8e4dec9a1afe23fe90/c_w_chunk_aa, /Users/weronikajaskowiak/Desktop/practical_course_2/day_6/work/20/ce6bb24f3abf8e4dec9a1afe23fe90/c_w_chunk_ab, /Users/weronikajaskowiak/Desktop/practical_course_2/day_6/work/20/ce6bb24f3abf8e4dec9a1afe23fe90/c_w_chunk_ac, /Users/weronikajaskowiak/Desktop/practical_course_2/day_6/work/20/ce6bb24f3abf8e4dec9a1afe23fe90/c_w_chunk_ad, /Users/weronikajaskowiak/Desktop/practical_course_2/day_6/work/20/ce6bb24f3abf8e4dec9a1afe23fe90/c_w_chunk_ae, /Users/weronikajaskowiak/Desktop/practical_course_2/day_6/work/20/ce6bb24f3abf8e4dec9a1afe23fe90/c_w_chunk_af, /Users/weronikajaskowiak/Desktop/practical_course_2/day_6/work/20/ce6bb24f3abf8e4dec9a1afe23fe90/c_w_chunk_ag, /Users/weronikajaskowiak/Desktop/practical_course_2/day_6/work/20/ce6bb24f3abf8e4dec9a1afe23fe90/c_w_chunk_ah]\u001B[K\r\n",
      "[/Users/weronikajaskowiak/Desktop/practical_course_2/day_6/work/00/65a4fba2e6d2f78dbfa1a0361e474a/h_w_chunk_aa, /Users/weronikajaskowiak/Desktop/practical_course_2/day_6/work/00/65a4fba2e6d2f78dbfa1a0361e474a/h_w_chunk_ab, /Users/weronikajaskowiak/Desktop/practical_course_2/day_6/work/00/65a4fba2e6d2f78dbfa1a0361e474a/h_w_chunk_ac]\u001B[K\r\n",
      "ONA\u001B[K\r\n",
      "PUT\u001B[K\r\n",
      "ATI\u001B[K\r\n",
      "COM\u001B[K\r\n",
      "L W\u001B[K\r\n",
      "ORK\u001B[K\r\n",
      "WS\u001B[K\r\n",
      "O WO\u001B[K\r\n",
      "RLD\u001B[K\r\n",
      "\u001B[15A\r\n",
      "\u001B[2mexecutor >  local (13)\u001B[m\u001B[K\r\n",
      "\u001B[2m[\u001B[0;34m20/ce6bb2\u001B[0;2m] \u001B[0;2m\u001B[mSPLITLETTERS\u001B[33;2m (\u001B[0;33m2\u001B[2m)\u001B[m   \u001B[2m |\u001B[m 2 of 2\u001B[32m ✔\u001B[m\u001B[K\r\n",
      "\u001B[2m[\u001B[0;34mfb/22f5f7\u001B[0;2m] \u001B[0;2m\u001B[mCONVERTTOUPPER\u001B[33;2m (\u001B[0;33m9\u001B[2m)\u001B[m \u001B[2m |\u001B[m 11 of 11\u001B[32m ✔\u001B[m\u001B[K\r\n",
      "[/Users/weronikajaskowiak/Desktop/practical_course_2/day_6/work/20/ce6bb24f3abf8e4dec9a1afe23fe90/c_w_chunk_aa, /Users/weronikajaskowiak/Desktop/practical_course_2/day_6/work/20/ce6bb24f3abf8e4dec9a1afe23fe90/c_w_chunk_ab, /Users/weronikajaskowiak/Desktop/practical_course_2/day_6/work/20/ce6bb24f3abf8e4dec9a1afe23fe90/c_w_chunk_ac, /Users/weronikajaskowiak/Desktop/practical_course_2/day_6/work/20/ce6bb24f3abf8e4dec9a1afe23fe90/c_w_chunk_ad, /Users/weronikajaskowiak/Desktop/practical_course_2/day_6/work/20/ce6bb24f3abf8e4dec9a1afe23fe90/c_w_chunk_ae, /Users/weronikajaskowiak/Desktop/practical_course_2/day_6/work/20/ce6bb24f3abf8e4dec9a1afe23fe90/c_w_chunk_af, /Users/weronikajaskowiak/Desktop/practical_course_2/day_6/work/20/ce6bb24f3abf8e4dec9a1afe23fe90/c_w_chunk_ag, /Users/weronikajaskowiak/Desktop/practical_course_2/day_6/work/20/ce6bb24f3abf8e4dec9a1afe23fe90/c_w_chunk_ah]\u001B[K\r\n",
      "[/Users/weronikajaskowiak/Desktop/practical_course_2/day_6/work/00/65a4fba2e6d2f78dbfa1a0361e474a/h_w_chunk_aa, /Users/weronikajaskowiak/Desktop/practical_course_2/day_6/work/00/65a4fba2e6d2f78dbfa1a0361e474a/h_w_chunk_ab, /Users/weronikajaskowiak/Desktop/practical_course_2/day_6/work/00/65a4fba2e6d2f78dbfa1a0361e474a/h_w_chunk_ac]\u001B[K\r\n",
      "ONA\u001B[K\r\n",
      "PUT\u001B[K\r\n",
      "ATI\u001B[K\r\n",
      "COM\u001B[K\r\n",
      "L W\u001B[K\r\n",
      "ORK\u001B[K\r\n",
      "WS\u001B[K\r\n",
      "O WO\u001B[K\r\n",
      "RLD\u001B[K\r\n",
      "FLO\u001B[K\r\n",
      "HELL\u001B[K\r\n",
      "\r\n"
     ]
    }
   ],
   "source": [
    "!nextflow run link_p_c.nf"
   ]
  },
  {
   "cell_type": "markdown",
   "metadata": {},
   "source": [
    "### Give a list with the paths to the chunk files"
   ]
  },
  {
   "cell_type": "code",
   "execution_count": null,
   "metadata": {},
   "outputs": [],
   "source": []
  },
  {
   "cell_type": "markdown",
   "metadata": {},
   "source": [
    "### Why was CONVERTTOUPPER run so often?"
   ]
  },
  {
   "cell_type": "markdown",
   "source": [
    "The reason CONVERTTOUPPER was run so many times is likely because the chunk paths were passed to it as a collection of paths (a list) rather than as individual file paths. If we pass a list of paths into the CONVERTTOUPPER process, it will interpret it as a single tuple of paths, causing the process to run multiple times for each individual path in that list (as a separate execution of the task)."
   ],
   "metadata": {
    "collapsed": false
   }
  },
  {
   "cell_type": "code",
   "execution_count": null,
   "outputs": [],
   "source": [],
   "metadata": {
    "collapsed": false
   }
  }
 ],
 "metadata": {
  "kernelspec": {
   "display_name": "work",
   "language": "python",
   "name": "python3"
  },
  "language_info": {
   "codemirror_mode": {
    "name": "ipython",
    "version": 3
   },
   "file_extension": ".py",
   "mimetype": "text/x-python",
   "name": "python",
   "nbconvert_exporter": "python",
   "pygments_lexer": "ipython3",
   "version": "3.10.13"
  }
 },
 "nbformat": 4,
 "nbformat_minor": 2
}
