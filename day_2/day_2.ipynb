{
 "cells": [
  {
   "cell_type": "markdown",
   "metadata": {},
   "source": [
    "# Day 2\n",
    "\n",
    "Today, we will start using nf-core pipelines to find differentially abundant genes in our dataset. \n",
    "We are using data from the following paper: https://www.nature.com/articles/s41593-023-01350-3#Sec10"
   ]
  },
  {
   "cell_type": "markdown",
   "metadata": {
    "vscode": {
     "languageId": "plaintext"
    }
   },
   "source": [
    "1. Please take some time to read through the paper and understand their approach, hypotheses and goals."
   ]
  },
  {
   "cell_type": "markdown",
   "metadata": {
    "vscode": {
     "languageId": "plaintext"
    }
   },
   "source": [
    "What was the objective of the study?"
   ]
  },
  {
   "cell_type": "markdown",
   "source": [
    "The aim of the study was to examine how chronic treatment with oxycodone and subsequent withdrawal affect both behavioral and physiological responses in mice. The emphasis is especially on sensory hypersensitivity and the molecular mechanisms that contribute to opioid dependence."
   ],
   "metadata": {
    "collapsed": false
   }
  },
  {
   "cell_type": "markdown",
   "metadata": {
    "vscode": {
     "languageId": "plaintext"
    }
   },
   "source": [
    "What do the conditions mean?"
   ]
  },
  {
   "cell_type": "markdown",
   "metadata": {},
   "source": [
    "oxy: indicates the group receiving oxycodone injection.\n",
    "sal: indicates the group receiving saline injection."
   ]
  },
  {
   "cell_type": "markdown",
   "metadata": {},
   "source": [
    "What do the genotypes mean?"
   ]
  },
  {
   "cell_type": "markdown",
   "metadata": {},
   "source": [
    "SNI: experimental group with prolonged spared nerve injury. \n",
    "Sham: control group that undergoes a surgical procedure without the actual nerve injury"
   ]
  },
  {
   "cell_type": "markdown",
   "metadata": {},
   "source": [
    "Imagine you are the bioinformatician in the group who conducted this study. They hand you the raw files and ask you to analyze them.\n",
    "\n",
    "What would you do?\n",
    "Which groups would you compare to each other?\n",
    "Please also mention which outcome you would expect to see from each comparison.\n",
    "\n",
    "1) I would start by comparing Sham-Sal and Sham-Oxy to see how oxycodone affects the control group (pain-free mice) in terms of weight loss and sensory hypersensitivity. I would expect minimal initial hypersensitivity, but some development of opioid dependence and withdrawal symptoms.\n",
    "2) Then I would compare SNI-Sal and SNI-Oxy. I would expect temporary relief from pain with oxycodone, which worsens after withdrawal.\n",
    "3) Next, I would compare SNI-Oxy with Sham-Oxy to see how oxycodone impacts injured vs. pain-free mice and to examine withdrawal effects. I expect that SNI mice may show more severe withdrawal symptoms than pain-free mice.\n",
    "4) Additionally, I would compare SNI-Sal vs. Sham-Sal as a baseline to see how nerve injury alone alters sensory behavior, independent of oxycodone.\n",
    "\n",
    "NOTE FOR FURTHER ANALYSIS: In the paper, the authors performed three key comparisons: SNI-Sal vs. Sham-Sal, Sham-Oxy vs. Sham-Sal, and SNI-Oxy vs. Sham-Sal. In my contrast file, I replicated these comparisons to ensure proper evaluation in line with the authors' methodology."
   ]
  },
  {
   "cell_type": "markdown",
   "metadata": {},
   "source": [
    "Your group gave you a very suboptimal excel sheet (conditions_runs_oxy_project.xlsx) to get the information you need for each run they uploaded to the SRA.<br>\n",
    "So, instead of directly diving into downloading the data and starting the analysis, you first need to sort the lazy table.<br>\n",
    "Use Python and Pandas to get the table into a more sensible order.<br>\n",
    "Then, perform some overview analysis and plot the results\n",
    "1. How many samples do you have per condition?\n",
    "2. How many samples do you have per genotype?\n",
    "3. How often do you have each condition per genotype?"
   ]
  },
  {
   "cell_type": "code",
   "execution_count": 2,
   "metadata": {
    "ExecuteTime": {
     "end_time": "2024-10-11T16:34:21.833324Z",
     "start_time": "2024-10-11T16:34:06.972079Z"
    }
   },
   "outputs": [],
   "source": [
    "import pandas as pd\n",
    "import matplotlib.pyplot as plt"
   ]
  },
  {
   "cell_type": "code",
   "execution_count": 2,
   "outputs": [
    {
     "name": "stdout",
     "output_type": "stream",
     "text": [
      "Requirement already satisfied: openpyxl in /Users/weronikajaskowiak/miniconda3/envs/practical_course/lib/python3.10/site-packages (3.1.5)\r\n",
      "Requirement already satisfied: et-xmlfile in /Users/weronikajaskowiak/miniconda3/envs/practical_course/lib/python3.10/site-packages (from openpyxl) (1.1.0)\r\n"
     ]
    }
   ],
   "source": [
    "!pip install openpyxl"
   ],
   "metadata": {
    "collapsed": false,
    "ExecuteTime": {
     "end_time": "2024-09-30T15:19:51.085714Z",
     "start_time": "2024-09-30T15:19:47.008945Z"
    }
   }
  },
  {
   "cell_type": "code",
   "execution_count": 4,
   "metadata": {
    "ExecuteTime": {
     "end_time": "2024-10-11T16:35:16.256315Z",
     "start_time": "2024-10-11T16:35:16.029862Z"
    }
   },
   "outputs": [
    {
     "name": "stdout",
     "output_type": "stream",
     "text": [
      "   Patient          Run RNA-seq  DNA-seq condition: Sal Condition: Oxy  \\\n",
      "3        ?  SRR23195508       x      NaN            NaN              x   \n",
      "4        ?  SRR23195509       x      NaN            NaN              x   \n",
      "11       ?  SRR23195516       x      NaN            NaN              x   \n",
      "12       ?  SRR23195517       x      NaN            NaN              x   \n",
      "1        ?  SRR23195506       x      NaN            NaN              x   \n",
      "6        ?  SRR23195511       x      NaN            NaN              x   \n",
      "9        ?  SRR23195514       x      NaN            NaN              x   \n",
      "14       ?  SRR23195519       x      NaN            NaN              x   \n",
      "0        ?  SRR23195505       x      NaN              x            NaN   \n",
      "5        ?  SRR23195510       x      NaN              x            NaN   \n",
      "8        ?  SRR23195513       x      NaN              x            NaN   \n",
      "13       ?  SRR23195518       x      NaN              x            NaN   \n",
      "2        ?  SRR23195507       x      NaN              x            NaN   \n",
      "7        ?  SRR23195512       x      NaN              x            NaN   \n",
      "10       ?  SRR23195515       x      NaN              x            NaN   \n",
      "15       ?  SRR23195520       x      NaN              x            NaN   \n",
      "\n",
      "   Genotype: SNI Genotype: Sham  \n",
      "3              x            NaN  \n",
      "4              x            NaN  \n",
      "11             x            NaN  \n",
      "12             x            NaN  \n",
      "1            NaN              x  \n",
      "6            NaN              x  \n",
      "9            NaN              x  \n",
      "14           NaN              x  \n",
      "0              x            NaN  \n",
      "5              x            NaN  \n",
      "8              x            NaN  \n",
      "13             x            NaN  \n",
      "2            NaN              x  \n",
      "7            NaN              x  \n",
      "10           NaN              x  \n",
      "15           NaN              x  \n",
      "Number of Sal condition: 8\n",
      "Number of Oxy condition: 8\n",
      "Number of SNI genotype: 8\n",
      "Number of Sham genotype: 8\n",
      "Condition Sal and Genotype SNI: 4\n",
      "Condition Sal and Genotype Sham: 4\n",
      "Condition Oxy and Genotype SNI: 4\n",
      "Condition Oxy and Genotype Sham: 4\n"
     ]
    }
   ],
   "source": [
    "df = pd.read_excel(\"/Users/weronikajaskowiak/Desktop/practical_course_2/day_2/conditions_runs_oxy_project.xlsx\")\n",
    "#print(df)\n",
    "\n",
    "sorted_df = df.sort_values(by=['Condition: Oxy', 'Genotype: SNI'], ascending=[True, True])\n",
    "print(sorted_df)\n",
    "\n",
    "# How many samples do you have per condition?\n",
    "\n",
    "saline_count = sorted_df['condition: Sal'].value_counts(dropna=True)\n",
    "oxy_count = sorted_df['Condition: Oxy'].value_counts(dropna=True)\n",
    "print(f\"Number of Sal condition: {saline_count['x']}\")\n",
    "print(f\"Number of Oxy condition: {oxy_count['x']}\")  \n",
    "\n",
    "#How many samples do you have per genotype?\n",
    "\n",
    "sni_count = sorted_df['Genotype: SNI'].value_counts(dropna=True)\n",
    "sham_count = sorted_df['Genotype: Sham'].value_counts(dropna=True)\n",
    "print(f\"Number of SNI genotype: {sni_count['x']}\")\n",
    "print(f\"Number of Sham genotype: {sham_count['x']}\")  \n",
    "\n",
    "#How often do you have each condition per genotype?\n",
    "\n",
    "sal_sni_count = len(sorted_df[(sorted_df['condition: Sal'] == 'x') & (sorted_df['Genotype: SNI'] == 'x')])\n",
    "oxy_sni_count = len(sorted_df[(sorted_df['Condition: Oxy'] == 'x') & (sorted_df['Genotype: SNI'] == 'x')])\n",
    "sal_sham_count = len(sorted_df[(sorted_df['condition: Sal'] == 'x') & (sorted_df['Genotype: Sham'] == 'x')])\n",
    "oxy_sham_count = len(sorted_df[(sorted_df['Condition: Oxy'] == 'x') & (sorted_df['Genotype: Sham'] == 'x')])\n",
    "\n",
    "print(f\"Condition Sal and Genotype SNI: {sal_sni_count}\")\n",
    "print(f\"Condition Sal and Genotype Sham: {sal_sham_count}\")\n",
    "print(f\"Condition Oxy and Genotype SNI: {oxy_sni_count}\")\n",
    "print(f\"Condition Oxy and Genotype Sham: {oxy_sham_count}\")\n"
   ]
  },
  {
   "cell_type": "code",
   "execution_count": 5,
   "outputs": [
    {
     "data": {
      "text/plain": "<Figure size 800x600 with 1 Axes>",
      "image/png": "[encoded data removed]"
     },
     "metadata": {},
     "output_type": "display_data"
    }
   ],
   "source": [
    "plt.figure(figsize=(8, 6))\n",
    "\n",
    "bar_positions = ['SNI', 'Sham']\n",
    "bar_width = 0.2\n",
    "plt.bar(bar_positions[0], sal_sni_count, width=bar_width, color='yellow', label='Condition: Sal')\n",
    "plt.bar(bar_positions[0], oxy_sni_count, width=bar_width, color='purple', bottom=sal_sni_count, label='Condition: Oxy')\n",
    "\n",
    "plt.bar(bar_positions[1], sal_sham_count, width=bar_width, color='yellow')\n",
    "plt.bar(bar_positions[1], oxy_sham_count, width=bar_width, color='purple', bottom=sal_sham_count)\n",
    "\n",
    "plt.title('Sample Counts per Condition for Each Genotype')\n",
    "plt.xlabel('Genotype')\n",
    "plt.ylabel('Number of Samples')\n",
    "\n",
    "plt.legend(title='Condition')\n",
    "plt.tight_layout() \n",
    "plt.show()\n",
    "\n",
    "\n"
   ],
   "metadata": {
    "collapsed": false,
    "ExecuteTime": {
     "end_time": "2024-10-11T16:35:17.794160Z",
     "start_time": "2024-10-11T16:35:17.375097Z"
    }
   }
  },
  {
   "cell_type": "markdown",
   "metadata": {},
   "source": [
    "They were so kind to also provide you with the information of the number of bases per run, so that you can know how much space the data will take on your Cluster.<br>\n",
    "Add a new column to your fancy table with this information (base_counts.csv) and sort your dataframe according to this information and the condition.\n",
    "\n",
    "Then select the 2 smallest runs from your dataset and download them from SRA (maybe an nf-core pipeline can help here?...)"
   ]
  },
  {
   "cell_type": "code",
   "execution_count": 6,
   "metadata": {
    "ExecuteTime": {
     "end_time": "2024-10-11T16:35:22.407418Z",
     "start_time": "2024-10-11T16:35:22.141332Z"
    }
   },
   "outputs": [
    {
     "name": "stdout",
     "output_type": "stream",
     "text": [
      "   Patient          Run RNA-seq  DNA-seq condition SAL condition OXY  \\\n",
      "2        ?  SRR23195516       x      NaN           NaN             x   \n",
      "5        ?  SRR23195511       x      NaN           NaN             x   \n",
      "3        ?  SRR23195517       x      NaN           NaN             x   \n",
      "8        ?  SRR23195505       x      NaN             x           NaN   \n",
      "0        ?  SRR23195508       x      NaN           NaN             x   \n",
      "7        ?  SRR23195519       x      NaN           NaN             x   \n",
      "1        ?  SRR23195509       x      NaN           NaN             x   \n",
      "6        ?  SRR23195514       x      NaN           NaN             x   \n",
      "9        ?  SRR23195510       x      NaN             x           NaN   \n",
      "13       ?  SRR23195512       x      NaN             x           NaN   \n",
      "15       ?  SRR23195520       x      NaN             x           NaN   \n",
      "4        ?  SRR23195506       x      NaN           NaN             x   \n",
      "11       ?  SRR23195518       x      NaN             x           NaN   \n",
      "12       ?  SRR23195507       x      NaN             x           NaN   \n",
      "10       ?  SRR23195513       x      NaN             x           NaN   \n",
      "14       ?  SRR23195515       x      NaN             x           NaN   \n",
      "\n",
      "   genotype SNI genotype SHAM       Bases  \n",
      "2             x           NaN  6203117700  \n",
      "5           NaN             x  6456390900  \n",
      "3             x           NaN  6863840400  \n",
      "8             x           NaN  6922564500  \n",
      "0             x           NaN  6927786900  \n",
      "7           NaN             x  6996050100  \n",
      "1             x           NaN  7003550100  \n",
      "6           NaN             x  7226808600  \n",
      "9             x           NaN  7377388500  \n",
      "13          NaN             x  7462857900  \n",
      "15          NaN             x  7858146000  \n",
      "4           NaN             x  7859530800  \n",
      "11            x           NaN  7908500400  \n",
      "12          NaN             x  8063298900  \n",
      "10            x           NaN  8099181600  \n",
      "14          NaN             x  8169101700  \n"
     ]
    },
    {
     "data": {
      "text/plain": "Text(0.5, 1.0, 'Histogram of Bases')"
     },
     "execution_count": 6,
     "metadata": {},
     "output_type": "execute_result"
    },
    {
     "data": {
      "text/plain": "<Figure size 640x480 with 1 Axes>",
      "image/png": "[encoded data removed]"
     },
     "metadata": {},
     "output_type": "display_data"
    }
   ],
   "source": [
    "df_2 = pd.read_csv(\"/Users/weronikajaskowiak/Desktop/practical_course_2/day_2/base_counts.csv\")\n",
    "#print(df_2)\n",
    "\n",
    "merged_df = pd.merge(sorted_df, df_2, on='Run', how='left') \n",
    "prepared_table = merged_df.rename(columns={'condition: Sal': 'condition SAL', 'Condition: Oxy': 'condition OXY', 'Genotype: SNI':'genotype SNI', 'Genotype: Sham': 'genotype SHAM'})\n",
    "sorted_merged=prepared_table.sort_values(by=[\"Bases\"], ascending=[True])\n",
    "print(sorted_merged)\n",
    "\n",
    "plt.hist(sorted_merged['Bases'], bins=5, color='blue', alpha=0.7)\n",
    "\n",
    "# Add labels and title\n",
    "plt.xlabel('Bases')\n",
    "plt.ylabel('Frequency')\n",
    "plt.title('Histogram of Bases')"
   ]
  },
  {
   "cell_type": "code",
   "execution_count": 7,
   "metadata": {
    "ExecuteTime": {
     "end_time": "2024-10-11T16:35:31.960597Z",
     "start_time": "2024-10-11T16:35:31.922165Z"
    }
   },
   "outputs": [],
   "source": [
    "#Select the 2 smallest runs from your dataset and download them from SRA\n",
    "sorted_merged[['Run']].head(2).to_csv('/Users/weronikajaskowiak/Desktop/practical_course_2/day_2/smallest.csv', index=False, header=False)"
   ]
  },
  {
   "cell_type": "code",
   "execution_count": 15,
   "metadata": {
    "ExecuteTime": {
     "end_time": "2024-09-30T17:08:45.895728Z",
     "start_time": "2024-09-30T16:12:38.501940Z"
    }
   },
   "outputs": [
    {
     "name": "stdout",
     "output_type": "stream",
     "text": [
      "\u001B[33mNextflow 24.04.4 is available - Please consider updating your version to it\u001B[m\r\n",
      "N E X T F L O W  ~  version 23.10.1\r\n",
      "Launching `https://github.com/nf-core/fetchngs` [cheeky_torvalds] DSL2 - revision: 8ec2d934f9 [master]\r\n",
      "\u001B[33mWARN: Access to undefined parameter `monochromeLogs` -- Initialise it to a default value eg. `params.monochromeLogs = some_value`\u001B[39m\u001B[K\r\n",
      "\r\n",
      "\r\n",
      "-\u001B[2m----------------------------------------------------\u001B[0m-\r\n",
      "                                        \u001B[0;32m,--.\u001B[0;30m/\u001B[0;32m,-.\u001B[0m\r\n",
      "\u001B[0;34m        ___     __   __   __   ___     \u001B[0;32m/,-._.--~'\u001B[0m\r\n",
      "\u001B[0;34m  |\\ | |__  __ /  ` /  \\ |__) |__         \u001B[0;33m}  {\u001B[0m\r\n",
      "\u001B[0;34m  | \\| |       \\__, \\__/ |  \\ |___     \u001B[0;32m\\`-._,-`-,\u001B[0m\r\n",
      "                                        \u001B[0;32m`._,._,'\u001B[0m\r\n",
      "\u001B[0;35m  nf-core/fetchngs v1.12.0-g8ec2d93\u001B[0m\r\n",
      "-\u001B[2m----------------------------------------------------\u001B[0m-\r\n",
      "\u001B[1mCore Nextflow options\u001B[0m\r\n",
      "  \u001B[0;34mrevision       : \u001B[0;32mmaster\u001B[0m\r\n",
      "  \u001B[0;34mrunName        : \u001B[0;32mcheeky_torvalds\u001B[0m\r\n",
      "  \u001B[0;34mcontainerEngine: \u001B[0;32mdocker\u001B[0m\r\n",
      "  \u001B[0;34mlaunchDir      : \u001B[0;32m/Users/weronikajaskowiak/Desktop/practical_course_2/day_2\u001B[0m\r\n",
      "  \u001B[0;34mworkDir        : \u001B[0;32m/Users/weronikajaskowiak/Desktop/practical_course_2/day_2/work\u001B[0m\r\n",
      "  \u001B[0;34mprojectDir     : \u001B[0;32m/Users/weronikajaskowiak/.nextflow/assets/nf-core/fetchngs\u001B[0m\r\n",
      "  \u001B[0;34muserName       : \u001B[0;32mweronikajaskowiak\u001B[0m\r\n",
      "  \u001B[0;34mprofile        : \u001B[0;32mdocker\u001B[0m\r\n",
      "  \u001B[0;34mconfigFiles    : \u001B[0;32m\u001B[0m\r\n",
      "\r\n",
      "\u001B[1mInput/output options\u001B[0m\r\n",
      "  \u001B[0;34minput          : \u001B[0;32m/Users/weronikajaskowiak/Desktop/practical_course_2/day_2/smallest.csv\u001B[0m\r\n",
      "  \u001B[0;34moutdir         : \u001B[0;32m/Users/weronikajaskowiak/Desktop/practical_course_2/day_2/files\u001B[0m\r\n",
      "\r\n",
      "\u001B[1mMax job request options\u001B[0m\r\n",
      "  \u001B[0;34mmax_memory     : \u001B[0;32m8.GB\u001B[0m\r\n",
      "\r\n",
      "!! Only displaying parameters that differ from the pipeline defaults !!\r\n",
      "-\u001B[2m----------------------------------------------------\u001B[0m-\r\n",
      "If you use nf-core/fetchngs for your analysis please cite:\r\n",
      "\r\n",
      "* The pipeline\r\n",
      "  https://doi.org/10.5281/zenodo.5070524\r\n",
      "\r\n",
      "* The nf-core framework\r\n",
      "  https://doi.org/10.1038/s41587-020-0439-x\r\n",
      "\r\n",
      "* Software dependencies\r\n",
      "  https://github.com/nf-core/fetchngs/blob/master/CITATIONS.md\r\n",
      "-\u001B[2m----------------------------------------------------\u001B[0m-\r\n",
      "[-        ] process > NFCORE_FETCHNGS:SRA:SRA_IDS... -\u001B[K\r\n",
      "[-        ] process > NFCORE_FETCHNGS:SRA:SRA_RUN... -\u001B[K\r\n",
      "[-        ] process > NFCORE_FETCHNGS:SRA:SRA_FAS... -\u001B[K\r\n",
      "[-        ] process > NFCORE_FETCHNGS:SRA:FASTQ_D... -\u001B[K\r\n",
      "[-        ] process > NFCORE_FETCHNGS:SRA:FASTQ_D... -\u001B[K\r\n",
      "[-        ] process > NFCORE_FETCHNGS:SRA:FASTQ_D... -\u001B[K\r\n",
      "[-        ] process > NFCORE_FETCHNGS:SRA:ASPERA_CLI -\u001B[K\r\n",
      "\u001B[8A\r\n",
      "[-        ] process > NFCORE_FETCHNGS:SRA:SRA_IDS... -\u001B[K\r\n",
      "[-        ] process > NFCORE_FETCHNGS:SRA:SRA_RUN... -\u001B[K\r\n",
      "[-        ] process > NFCORE_FETCHNGS:SRA:SRA_FAS... -\u001B[K\r\n",
      "[-        ] process > NFCORE_FETCHNGS:SRA:FASTQ_D... -\u001B[K\r\n",
      "[-        ] process > NFCORE_FETCHNGS:SRA:FASTQ_D... -\u001B[K\r\n",
      "[-        ] process > NFCORE_FETCHNGS:SRA:FASTQ_D... -\u001B[K\r\n",
      "[-        ] process > NFCORE_FETCHNGS:SRA:ASPERA_CLI -\u001B[K\r\n",
      "[-        ] process > NFCORE_FETCHNGS:SRA:SRA_TO_... -\u001B[K\r\n",
      "[-        ] process > NFCORE_FETCHNGS:SRA:MULTIQC... -\u001B[K\r\n",
      "\u001B[10A\r\n",
      "executor >  local (1)\u001B[K\r\n",
      "[0a/085ac4] process > NFCORE_FETCHNGS:SRA:SRA_IDS... [  0%] 0 of 2\u001B[K\r\n",
      "[-        ] process > NFCORE_FETCHNGS:SRA:SRA_RUN... -\u001B[K\r\n",
      "[-        ] process > NFCORE_FETCHNGS:SRA:SRA_FAS... -\u001B[K\r\n",
      "[-        ] process > NFCORE_FETCHNGS:SRA:FASTQ_D... -\u001B[K\r\n",
      "[-        ] process > NFCORE_FETCHNGS:SRA:FASTQ_D... -\u001B[K\r\n",
      "[-        ] process > NFCORE_FETCHNGS:SRA:FASTQ_D... -\u001B[K\r\n",
      "[-        ] process > NFCORE_FETCHNGS:SRA:ASPERA_CLI -\u001B[K\r\n",
      "[-        ] process > NFCORE_FETCHNGS:SRA:SRA_TO_... -\u001B[K\r\n",
      "[-        ] process > NFCORE_FETCHNGS:SRA:MULTIQC... -\u001B[K\r\n",
      "\u001B[11A\r\n",
      "executor >  local (2)\u001B[K\r\n",
      "[0a/085ac4] process > NFCORE_FETCHNGS:SRA:SRA_IDS... [ 50%] 1 of 2\u001B[K\r\n",
      "[-        ] process > NFCORE_FETCHNGS:SRA:SRA_RUN... [  0%] 0 of 1\u001B[K\r\n",
      "[-        ] process > NFCORE_FETCHNGS:SRA:SRA_FAS... -\u001B[K\r\n",
      "[-        ] process > NFCORE_FETCHNGS:SRA:FASTQ_D... -\u001B[K\r\n",
      "[-        ] process > NFCORE_FETCHNGS:SRA:FASTQ_D... -\u001B[K\r\n",
      "[-        ] process > NFCORE_FETCHNGS:SRA:FASTQ_D... -\u001B[K\r\n",
      "[-        ] process > NFCORE_FETCHNGS:SRA:ASPERA_CLI -\u001B[K\r\n",
      "[-        ] process > NFCORE_FETCHNGS:SRA:SRA_TO_... -\u001B[K\r\n",
      "[-        ] process > NFCORE_FETCHNGS:SRA:MULTIQC... -\u001B[K\r\n",
      "\u001B[11A\r\n",
      "executor >  local (2)\u001B[K\r\n",
      "[0a/085ac4] process > NFCORE_FETCHNGS:SRA:SRA_IDS... [ 50%] 1 of 2\u001B[K\r\n",
      "[-        ] process > NFCORE_FETCHNGS:SRA:SRA_RUN... [  0%] 0 of 1\u001B[K\r\n",
      "[-        ] process > NFCORE_FETCHNGS:SRA:SRA_FAS... -\u001B[K\r\n",
      "[-        ] process > NFCORE_FETCHNGS:SRA:FASTQ_D... -\u001B[K\r\n",
      "[-        ] process > NFCORE_FETCHNGS:SRA:FASTQ_D... -\u001B[K\r\n",
      "[-        ] process > NFCORE_FETCHNGS:SRA:FASTQ_D... -\u001B[K\r\n",
      "[-        ] process > NFCORE_FETCHNGS:SRA:ASPERA_CLI -\u001B[K\r\n",
      "[-        ] process > NFCORE_FETCHNGS:SRA:SRA_TO_... -\u001B[K\r\n",
      "[-        ] process > NFCORE_FETCHNGS:SRA:MULTIQC... -\u001B[K\r\n",
      "\u001B[11A\r\n",
      "executor >  local (3)\u001B[K\r\n",
      "[4c/32431d] process > NFCORE_FETCHNGS:SRA:SRA_IDS... [100%] 2 of 2 ✔\u001B[K\r\n",
      "[49/d898b4] process > NFCORE_FETCHNGS:SRA:SRA_RUN... [  0%] 0 of 2\u001B[K\r\n",
      "[-        ] process > NFCORE_FETCHNGS:SRA:SRA_FAS... -\u001B[K\r\n",
      "[-        ] process > NFCORE_FETCHNGS:SRA:FASTQ_D... -\u001B[K\r\n",
      "[-        ] process > NFCORE_FETCHNGS:SRA:FASTQ_D... -\u001B[K\r\n",
      "[-        ] process > NFCORE_FETCHNGS:SRA:FASTQ_D... -\u001B[K\r\n",
      "[-        ] process > NFCORE_FETCHNGS:SRA:ASPERA_CLI -\u001B[K\r\n",
      "[-        ] process > NFCORE_FETCHNGS:SRA:SRA_TO_... -\u001B[K\r\n",
      "[-        ] process > NFCORE_FETCHNGS:SRA:MULTIQC... -\u001B[K\r\n",
      "\u001B[11A\r\n",
      "executor >  local (3)\u001B[K\r\n",
      "[4c/32431d] process > NFCORE_FETCHNGS:SRA:SRA_IDS... [100%] 2 of 2 ✔\u001B[K\r\n",
      "[49/d898b4] process > NFCORE_FETCHNGS:SRA:SRA_RUN... [  0%] 0 of 2\u001B[K\r\n",
      "[-        ] process > NFCORE_FETCHNGS:SRA:SRA_FAS... -\u001B[K\r\n",
      "[-        ] process > NFCORE_FETCHNGS:SRA:FASTQ_D... -\u001B[K\r\n",
      "[-        ] process > NFCORE_FETCHNGS:SRA:FASTQ_D... -\u001B[K\r\n",
      "[-        ] process > NFCORE_FETCHNGS:SRA:FASTQ_D... -\u001B[K\r\n",
      "[-        ] process > NFCORE_FETCHNGS:SRA:ASPERA_CLI -\u001B[K\r\n",
      "[-        ] process > NFCORE_FETCHNGS:SRA:SRA_TO_... -\u001B[K\r\n",
      "[-        ] process > NFCORE_FETCHNGS:SRA:MULTIQC... -\u001B[K\r\n",
      "\u001B[11A\r\n",
      "executor >  local (4)\u001B[K\r\n",
      "[4c/32431d] process > NFCORE_FETCHNGS:SRA:SRA_IDS... [100%] 2 of 2 ✔\u001B[K\r\n",
      "[49/d898b4] process > NFCORE_FETCHNGS:SRA:SRA_RUN... [ 50%] 1 of 2\u001B[K\r\n",
      "[-        ] process > NFCORE_FETCHNGS:SRA:SRA_FAS... [  0%] 0 of 1\u001B[K\r\n",
      "[-        ] process > NFCORE_FETCHNGS:SRA:FASTQ_D... -\u001B[K\r\n",
      "[-        ] process > NFCORE_FETCHNGS:SRA:FASTQ_D... -\u001B[K\r\n",
      "[-        ] process > NFCORE_FETCHNGS:SRA:FASTQ_D... -\u001B[K\r\n",
      "[-        ] process > NFCORE_FETCHNGS:SRA:ASPERA_CLI -\u001B[K\r\n",
      "[-        ] process > NFCORE_FETCHNGS:SRA:SRA_TO_... -\u001B[K\r\n",
      "[-        ] process > NFCORE_FETCHNGS:SRA:MULTIQC... -\u001B[K\r\n",
      "\u001B[11A\r\n",
      "executor >  local (4)\u001B[K\r\n",
      "[4c/32431d] process > NFCORE_FETCHNGS:SRA:SRA_IDS... [100%] 2 of 2 ✔\u001B[K\r\n",
      "[49/d898b4] process > NFCORE_FETCHNGS:SRA:SRA_RUN... [ 50%] 1 of 2\u001B[K\r\n",
      "[-        ] process > NFCORE_FETCHNGS:SRA:SRA_FAS... [  0%] 0 of 1\u001B[K\r\n",
      "[-        ] process > NFCORE_FETCHNGS:SRA:FASTQ_D... -\u001B[K\r\n",
      "[-        ] process > NFCORE_FETCHNGS:SRA:FASTQ_D... -\u001B[K\r\n",
      "[-        ] process > NFCORE_FETCHNGS:SRA:FASTQ_D... -\u001B[K\r\n",
      "[-        ] process > NFCORE_FETCHNGS:SRA:ASPERA_CLI -\u001B[K\r\n",
      "[-        ] process > NFCORE_FETCHNGS:SRA:SRA_TO_... -\u001B[K\r\n",
      "[-        ] process > NFCORE_FETCHNGS:SRA:MULTIQC... -\u001B[K\r\n",
      "\u001B[11A\r\n",
      "executor >  local (5)\u001B[K\r\n",
      "[4c/32431d] process > NFCORE_FETCHNGS:SRA:SRA_IDS... [100%] 2 of 2 ✔\u001B[K\r\n",
      "[19/bcfead] process > NFCORE_FETCHNGS:SRA:SRA_RUN... [100%] 2 of 2 ✔\u001B[K\r\n",
      "[71/1b6cdd] process > NFCORE_FETCHNGS:SRA:SRA_FAS... [  0%] 0 of 2\u001B[K\r\n",
      "[-        ] process > NFCORE_FETCHNGS:SRA:FASTQ_D... -\u001B[K\r\n",
      "[-        ] process > NFCORE_FETCHNGS:SRA:FASTQ_D... -\u001B[K\r\n",
      "[-        ] process > NFCORE_FETCHNGS:SRA:FASTQ_D... -\u001B[K\r\n",
      "[-        ] process > NFCORE_FETCHNGS:SRA:ASPERA_CLI -\u001B[K\r\n",
      "[-        ] process > NFCORE_FETCHNGS:SRA:SRA_TO_... -\u001B[K\r\n",
      "[-        ] process > NFCORE_FETCHNGS:SRA:MULTIQC... -\u001B[K\r\n",
      "\u001B[11A\r\n",
      "executor >  local (6)\u001B[K\r\n",
      "[4c/32431d] process > NFCORE_FETCHNGS:SRA:SRA_IDS... [100%] 2 of 2 ✔\u001B[K\r\n",
      "[19/bcfead] process > NFCORE_FETCHNGS:SRA:SRA_RUN... [100%] 2 of 2 ✔\u001B[K\r\n",
      "[8a/5dda47] process > NFCORE_FETCHNGS:SRA:SRA_FAS... [  0%] 0 of 2\u001B[K\r\n",
      "[-        ] process > NFCORE_FETCHNGS:SRA:FASTQ_D... -\u001B[K\r\n",
      "[-        ] process > NFCORE_FETCHNGS:SRA:FASTQ_D... -\u001B[K\r\n",
      "[-        ] process > NFCORE_FETCHNGS:SRA:FASTQ_D... -\u001B[K\r\n",
      "[-        ] process > NFCORE_FETCHNGS:SRA:ASPERA_CLI -\u001B[K\r\n",
      "[-        ] process > NFCORE_FETCHNGS:SRA:SRA_TO_... -\u001B[K\r\n",
      "[-        ] process > NFCORE_FETCHNGS:SRA:MULTIQC... -\u001B[K\r\n",
      "\u001B[11A\r\n",
      "executor >  local (6)\u001B[K\r\n",
      "[4c/32431d] process > NFCORE_FETCHNGS:SRA:SRA_IDS... [100%] 2 of 2 ✔\u001B[K\r\n",
      "[19/bcfead] process > NFCORE_FETCHNGS:SRA:SRA_RUN... [100%] 2 of 2 ✔\u001B[K\r\n",
      "[71/1b6cdd] process > NFCORE_FETCHNGS:SRA:SRA_FAS... [ 50%] 1 of 2\u001B[K\r\n",
      "[-        ] process > NFCORE_FETCHNGS:SRA:FASTQ_D... -\u001B[K\r\n",
      "[-        ] process > NFCORE_FETCHNGS:SRA:FASTQ_D... -\u001B[K\r\n",
      "[-        ] process > NFCORE_FETCHNGS:SRA:FASTQ_D... -\u001B[K\r\n",
      "[-        ] process > NFCORE_FETCHNGS:SRA:ASPERA_CLI -\u001B[K\r\n",
      "[-        ] process > NFCORE_FETCHNGS:SRA:SRA_TO_... [  0%] 0 of 1\u001B[K\r\n",
      "[-        ] process > NFCORE_FETCHNGS:SRA:MULTIQC... -\u001B[K\r\n",
      "\u001B[11A\r\n",
      "executor >  local (8)\u001B[K\r\n",
      "[4c/32431d] process > NFCORE_FETCHNGS:SRA:SRA_IDS... [100%] 2 of 2 ✔\u001B[K\r\n",
      "[19/bcfead] process > NFCORE_FETCHNGS:SRA:SRA_RUN... [100%] 2 of 2 ✔\u001B[K\r\n",
      "[8a/5dda47] process > NFCORE_FETCHNGS:SRA:SRA_FAS... [100%] 2 of 2 ✔\u001B[K\r\n",
      "[-        ] process > NFCORE_FETCHNGS:SRA:FASTQ_D... -\u001B[K\r\n",
      "[-        ] process > NFCORE_FETCHNGS:SRA:FASTQ_D... -\u001B[K\r\n",
      "[-        ] process > NFCORE_FETCHNGS:SRA:FASTQ_D... -\u001B[K\r\n",
      "[-        ] process > NFCORE_FETCHNGS:SRA:ASPERA_CLI -\u001B[K\r\n",
      "[5d/ae973b] process > NFCORE_FETCHNGS:SRA:SRA_TO_... [  0%] 0 of 2\u001B[K\r\n",
      "[-        ] process > NFCORE_FETCHNGS:SRA:MULTIQC... -\u001B[K\r\n",
      "\u001B[11A\r\n",
      "executor >  local (8)\u001B[K\r\n",
      "[4c/32431d] process > NFCORE_FETCHNGS:SRA:SRA_IDS... [100%] 2 of 2 ✔\u001B[K\r\n",
      "[19/bcfead] process > NFCORE_FETCHNGS:SRA:SRA_RUN... [100%] 2 of 2 ✔\u001B[K\r\n",
      "[8a/5dda47] process > NFCORE_FETCHNGS:SRA:SRA_FAS... [100%] 2 of 2 ✔\u001B[K\r\n",
      "[-        ] process > NFCORE_FETCHNGS:SRA:FASTQ_D... -\u001B[K\r\n",
      "[-        ] process > NFCORE_FETCHNGS:SRA:FASTQ_D... -\u001B[K\r\n",
      "[-        ] process > NFCORE_FETCHNGS:SRA:FASTQ_D... -\u001B[K\r\n",
      "[-        ] process > NFCORE_FETCHNGS:SRA:ASPERA_CLI -\u001B[K\r\n",
      "[5d/ae973b] process > NFCORE_FETCHNGS:SRA:SRA_TO_... [100%] 2 of 2 ✔\u001B[K\r\n",
      "[-        ] process > NFCORE_FETCHNGS:SRA:MULTIQC... -\u001B[K\r\n",
      "\u001B[11A\r\n",
      "executor >  local (8)\u001B[K\r\n",
      "[4c/32431d] process > NFCORE_FETCHNGS:SRA:SRA_IDS... [100%] 2 of 2 ✔\u001B[K\r\n",
      "[19/bcfead] process > NFCORE_FETCHNGS:SRA:SRA_RUN... [100%] 2 of 2 ✔\u001B[K\r\n",
      "[8a/5dda47] process > NFCORE_FETCHNGS:SRA:SRA_FAS... [100%] 2 of 2 ✔\u001B[K\r\n",
      "[-        ] process > NFCORE_FETCHNGS:SRA:FASTQ_D... -\u001B[K\r\n",
      "[-        ] process > NFCORE_FETCHNGS:SRA:FASTQ_D... -\u001B[K\r\n",
      "[-        ] process > NFCORE_FETCHNGS:SRA:FASTQ_D... -\u001B[K\r\n",
      "[-        ] process > NFCORE_FETCHNGS:SRA:ASPERA_CLI -\u001B[K\r\n",
      "[5d/ae973b] process > NFCORE_FETCHNGS:SRA:SRA_TO_... [100%] 2 of 2 ✔\u001B[K\r\n",
      "[-        ] process > NFCORE_FETCHNGS:SRA:MULTIQC... [  0%] 0 of 1\u001B[K\r\n",
      "\u001B[11A\r\n",
      "executor >  local (9)\u001B[K\r\n",
      "[4c/32431d] process > NFCORE_FETCHNGS:SRA:SRA_IDS... [100%] 2 of 2 ✔\u001B[K\r\n",
      "[19/bcfead] process > NFCORE_FETCHNGS:SRA:SRA_RUN... [100%] 2 of 2 ✔\u001B[K\r\n",
      "[8a/5dda47] process > NFCORE_FETCHNGS:SRA:SRA_FAS... [100%] 2 of 2 ✔\u001B[K\r\n",
      "[-        ] process > NFCORE_FETCHNGS:SRA:FASTQ_D... -\u001B[K\r\n",
      "[-        ] process > NFCORE_FETCHNGS:SRA:FASTQ_D... -\u001B[K\r\n",
      "[-        ] process > NFCORE_FETCHNGS:SRA:FASTQ_D... -\u001B[K\r\n",
      "[-        ] process > NFCORE_FETCHNGS:SRA:ASPERA_CLI -\u001B[K\r\n",
      "[5d/ae973b] process > NFCORE_FETCHNGS:SRA:SRA_TO_... [100%] 2 of 2 ✔\u001B[K\r\n",
      "[78/eb29c8] process > NFCORE_FETCHNGS:SRA:MULTIQC... [  0%] 0 of 1\u001B[K\r\n",
      "\u001B[11A\r\n",
      "executor >  local (9)\u001B[K\r\n",
      "[4c/32431d] process > NFCORE_FETCHNGS:SRA:SRA_IDS... [100%] 2 of 2 ✔\u001B[K\r\n",
      "[19/bcfead] process > NFCORE_FETCHNGS:SRA:SRA_RUN... [100%] 2 of 2 ✔\u001B[K\r\n",
      "[8a/5dda47] process > NFCORE_FETCHNGS:SRA:SRA_FAS... [100%] 2 of 2 ✔\u001B[K\r\n",
      "[-        ] process > NFCORE_FETCHNGS:SRA:FASTQ_D... -\u001B[K\r\n",
      "[-        ] process > NFCORE_FETCHNGS:SRA:FASTQ_D... -\u001B[K\r\n",
      "[-        ] process > NFCORE_FETCHNGS:SRA:FASTQ_D... -\u001B[K\r\n",
      "[-        ] process > NFCORE_FETCHNGS:SRA:ASPERA_CLI -\u001B[K\r\n",
      "[5d/ae973b] process > NFCORE_FETCHNGS:SRA:SRA_TO_... [100%] 2 of 2 ✔\u001B[K\r\n",
      "[78/eb29c8] process > NFCORE_FETCHNGS:SRA:MULTIQC... [100%] 1 of 1 ✔\u001B[K\r\n",
      "\u001B[11A\r\n",
      "executor >  local (9)\u001B[K\r\n",
      "[4c/32431d] process > NFCORE_FETCHNGS:SRA:SRA_IDS... [100%] 2 of 2 ✔\u001B[K\r\n",
      "[19/bcfead] process > NFCORE_FETCHNGS:SRA:SRA_RUN... [100%] 2 of 2 ✔\u001B[K\r\n",
      "[8a/5dda47] process > NFCORE_FETCHNGS:SRA:SRA_FAS... [100%] 2 of 2 ✔\u001B[K\r\n",
      "[-        ] process > NFCORE_FETCHNGS:SRA:FASTQ_D... -\u001B[K\r\n",
      "[-        ] process > NFCORE_FETCHNGS:SRA:FASTQ_D... -\u001B[K\r\n",
      "[-        ] process > NFCORE_FETCHNGS:SRA:FASTQ_D... -\u001B[K\r\n",
      "[-        ] process > NFCORE_FETCHNGS:SRA:ASPERA_CLI -\u001B[K\r\n",
      "[5d/ae973b] process > NFCORE_FETCHNGS:SRA:SRA_TO_... [100%] 2 of 2 ✔\u001B[K\r\n",
      "[78/eb29c8] process > NFCORE_FETCHNGS:SRA:MULTIQC... [100%] 1 of 1 ✔\u001B[K\r\n",
      "Waiting for file transfers to complete (2 files)\u001B[K\r\n",
      "\u001B[12A\r\n",
      "executor >  local (9)\u001B[K\r\n",
      "[4c/32431d] process > NFCORE_FETCHNGS:SRA:SRA_IDS... [100%] 2 of 2 ✔\u001B[K\r\n",
      "[19/bcfead] process > NFCORE_FETCHNGS:SRA:SRA_RUN... [100%] 2 of 2 ✔\u001B[K\r\n",
      "[8a/5dda47] process > NFCORE_FETCHNGS:SRA:SRA_FAS... [100%] 2 of 2 ✔\u001B[K\r\n",
      "[-        ] process > NFCORE_FETCHNGS:SRA:FASTQ_D... -\u001B[K\r\n",
      "[-        ] process > NFCORE_FETCHNGS:SRA:FASTQ_D... -\u001B[K\r\n",
      "[-        ] process > NFCORE_FETCHNGS:SRA:FASTQ_D... -\u001B[K\r\n",
      "[-        ] process > NFCORE_FETCHNGS:SRA:ASPERA_CLI -\u001B[K\r\n",
      "[5d/ae973b] process > NFCORE_FETCHNGS:SRA:SRA_TO_... [100%] 2 of 2 ✔\u001B[K\r\n",
      "[78/eb29c8] process > NFCORE_FETCHNGS:SRA:MULTIQC... [100%] 1 of 1 ✔\u001B[K\r\n",
      "Waiting for file transfers to complete (2 files)\u001B[K\r\n",
      "-\u001B[0;35m[nf-core/fetchngs]\u001B[0;32m Pipeline completed successfully\u001B[0m-\u001B[K\r\n",
      "\u001B[33mWARN: =============================================================================\u001B[K\r\n",
      "  Please double-check the samplesheet that has been auto-created by the pipeline.\u001B[K\r\n",
      "\u001B[K\r\n",
      "  Public databases don't reliably hold information such as strandedness\u001B[K\r\n",
      "  information, controls etc\u001B[K\r\n",
      "\u001B[K\r\n",
      "  All of the sample metadata obtained from the ENA has been appended\u001B[K\r\n",
      "  as additional columns to help you manually curate the samplesheet before\u001B[K\r\n",
      "  running nf-core/other pipelines.\u001B[K\r\n",
      "===================================================================================\u001B[39m\u001B[K\r\n",
      "\u001B[23A\r\n",
      "executor >  local (9)\u001B[K\r\n",
      "[4c/32431d] process > NFCORE_FETCHNGS:SRA:SRA_IDS... [100%] 2 of 2 ✔\u001B[K\r\n",
      "[19/bcfead] process > NFCORE_FETCHNGS:SRA:SRA_RUN... [100%] 2 of 2 ✔\u001B[K\r\n",
      "[8a/5dda47] process > NFCORE_FETCHNGS:SRA:SRA_FAS... [100%] 2 of 2 ✔\u001B[K\r\n",
      "[-        ] process > NFCORE_FETCHNGS:SRA:FASTQ_D... -\u001B[K\r\n",
      "[-        ] process > NFCORE_FETCHNGS:SRA:FASTQ_D... -\u001B[K\r\n",
      "[-        ] process > NFCORE_FETCHNGS:SRA:FASTQ_D... -\u001B[K\r\n",
      "[-        ] process > NFCORE_FETCHNGS:SRA:ASPERA_CLI -\u001B[K\r\n",
      "[5d/ae973b] process > NFCORE_FETCHNGS:SRA:SRA_TO_... [100%] 2 of 2 ✔\u001B[K\r\n",
      "[78/eb29c8] process > NFCORE_FETCHNGS:SRA:MULTIQC... [100%] 1 of 1 ✔\u001B[K\r\n",
      "Waiting for file transfers to complete (2 files)\u001B[K\r\n",
      "-\u001B[0;35m[nf-core/fetchngs]\u001B[0;32m Pipeline completed successfully\u001B[0m-\u001B[K\r\n",
      "\u001B[33mWARN: =============================================================================\u001B[K\r\n",
      "  Please double-check the samplesheet that has been auto-created by the pipeline.\u001B[K\r\n",
      "\u001B[K\r\n",
      "  Public databases don't reliably hold information such as strandedness\u001B[K\r\n",
      "  information, controls etc\u001B[K\r\n",
      "\u001B[K\r\n",
      "  All of the sample metadata obtained from the ENA has been appended\u001B[K\r\n",
      "  as additional columns to help you manually curate the samplesheet before\u001B[K\r\n",
      "  running nf-core/other pipelines.\u001B[K\r\n",
      "===================================================================================\u001B[39m\u001B[K\r\n",
      "\u001B[32;1mCompleted at: 30-Sep-2024 19:08:35\r\n",
      "Duration    : 55m 44s\r\n",
      "CPU hours   : 1.8\r\n",
      "Succeeded   : 9\r\n",
      "\u001B[22;39m\u001B[K\r\n",
      "\r\n"
     ]
    }
   ],
   "source": [
    "#run worklflow\n",
    "!nextflow run nf-core/fetchngs -profile docker --input '/Users/weronikajaskowiak/Desktop/practical_course_2/day_2/smallest.csv' --outdir '/Users/weronikajaskowiak/Desktop/practical_course_2/day_2/files' --max_memory 8.GB"
   ]
  },
  {
   "cell_type": "markdown",
   "metadata": {},
   "source": [
    "While your files are downloading, get back to the paper and explain how you would try to reproduce the analysis.<br>\n",
    "When you are done with this shout, so we can discuss the different ideas."
   ]
  },
  {
   "cell_type": "markdown",
   "source": [
    "I will follow the steps outlined in the paper, starting with performing experiments on mice, followed by behavioral assessments. Next, I will conduct data analysis, including statistical analysis using models to evaluate behavioral, molecular, and transcriptomic data. For cross-validation with transcriptomics, I will compare transcriptional changes across different regions of the brain to identify key gene expression profiles affected by withdrawal and treatment. After completing this, I can compare the key results of the original study with our findings to see if they align."
   ],
   "metadata": {
    "collapsed": false
   }
  },
  {
   "cell_type": "code",
   "execution_count": null,
   "outputs": [],
   "source": [],
   "metadata": {
    "collapsed": false
   }
  }
 ],
 "metadata": {
  "kernelspec": {
   "display_name": "work",
   "language": "python",
   "name": "python3"
  },
  "language_info": {
   "name": "python",
   "version": "3.10.13"
  }
 },
 "nbformat": 4,
 "nbformat_minor": 2
}
